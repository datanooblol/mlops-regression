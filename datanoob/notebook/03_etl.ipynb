{
 "cells": [
  {
   "cell_type": "code",
   "execution_count": 1,
   "id": "6fd6849d-e90f-4719-9906-50fe18036898",
   "metadata": {},
   "outputs": [],
   "source": [
    "%load_ext autoreload\n",
    "%autoreload 2"
   ]
  },
  {
   "cell_type": "code",
   "execution_count": 1,
   "id": "823b0b9a-38a6-43c0-8a67-6cf4d3393853",
   "metadata": {},
   "outputs": [],
   "source": [
    "import pandas as pd\n",
    "import numpy as np\n",
    "import os\n",
    "from datanooblol.configuration.config_manager import LoadFeatureConfig, LoadRepoConfig\n",
    "from datanooblol.extractor.data_extractor import DataExtractor\n",
    "from datanooblol.uploader.data_uploader import DataUploader\n",
    "from datanooblol.data_quality.health_check import HealthCheck\n",
    "from datanooblol.feature_store.feature_register import FeatureRegister"
   ]
  },
  {
   "cell_type": "code",
   "execution_count": 2,
   "id": "f6116e39-cd24-4d8f-95f2-810a4ba1832a",
   "metadata": {},
   "outputs": [],
   "source": [
    "FEATURE_GROUPS = [\"target\", \"proportion\", \"geography\", \"toxic\", \"monetary\"]"
   ]
  },
  {
   "cell_type": "code",
   "execution_count": 7,
   "id": "7b70833a-bd90-4c7b-a97d-c0a00c118226",
   "metadata": {},
   "outputs": [],
   "source": [
    "hc = HealthCheck()\n",
    "freg = FeatureRegister()\n",
    "dxtr = DataExtractor(end_date=\"2022-04-01\", start_date=\"2022-04-01\", partition=\"load_dt\")\n",
    "dulr = DataUploader()"
   ]
  },
  {
   "cell_type": "code",
   "execution_count": 4,
   "id": "8c75b9f7-c302-404c-8319-c48d52a90d13",
   "metadata": {},
   "outputs": [],
   "source": [
    "# save to staging: cleaned\n",
    "\n",
    "for feature_grp in FEATURE_GROUPS:\n",
    "    dulr.upload_zone(zone=\"staging\", step=\"cleaned\", feature_grp=feature_grp, \n",
    "                     data=dxtr.extract_zone(zone=\"landing\", \n",
    "                                            step=None, \n",
    "                                            feature_grp=feature_grp))"
   ]
  },
  {
   "cell_type": "code",
   "execution_count": 5,
   "id": "74ae22ca-4fb5-437a-b36e-b64f24aa2e17",
   "metadata": {},
   "outputs": [],
   "source": [
    "# save to staging: aggregated\n",
    "\n",
    "for feature_grp in FEATURE_GROUPS:\n",
    "    dulr.upload_zone(zone=\"staging\", step=\"aggregated\", feature_grp=feature_grp, \n",
    "                     data=dxtr.extract_zone(zone=\"staging\", \n",
    "                                            step=\"cleaned\", \n",
    "                                            feature_grp=feature_grp))"
   ]
  },
  {
   "cell_type": "markdown",
   "id": "d3e91b52-c9db-4602-bcf3-37dddf285a3e",
   "metadata": {},
   "source": [
    "# Feature Engineering and register feature group"
   ]
  },
  {
   "cell_type": "code",
   "execution_count": 14,
   "id": "59d21f2e-93ee-4497-b00b-24bcffc36063",
   "metadata": {},
   "outputs": [],
   "source": [
    "target_df = dxtr.extract_zone(zone=\"staging\", step=\"aggregated\", feature_grp=\"target\")\n",
    "freg.register(feature_grp=\"target\", features=[\"MEDV\"], data=target_df)\n",
    "freg.register(feature_grp=\"entity\", features=[\"house_id\"], data=target_df)\n",
    "freg.register(feature_grp=\"load_date\", features=[\"load_dt\"], data=target_df)\n",
    "freg.register(feature_grp=\"timestamp_field\", features=[\"event_timestamp\"], data=target_df)"
   ]
  },
  {
   "cell_type": "code",
   "execution_count": 15,
   "id": "18c7a877-7ac4-49eb-8996-d8ab85c6d3eb",
   "metadata": {},
   "outputs": [],
   "source": [
    "proportion_df = dxtr.extract_zone(zone=\"staging\", step=\"aggregated\", feature_grp=\"proportion\")\n",
    "freg.register(feature_grp=\"proportion\", features=[\"ZN\", \"INDUS\", \"RM\", \"PTRATIO\", \"B\", \"LSTAT\"], data=proportion_df)"
   ]
  },
  {
   "cell_type": "code",
   "execution_count": 16,
   "id": "31c09727-2b05-47ce-bf86-02ce0b18679f",
   "metadata": {},
   "outputs": [],
   "source": [
    "geography_df = dxtr.extract_zone(zone=\"staging\", step=\"aggregated\", feature_grp=\"geography\")\n",
    "freg.register(feature_grp=\"geography\", features=[\"CHAS\", \"DIS\", \"RAD\"], data=geography_df)"
   ]
  },
  {
   "cell_type": "code",
   "execution_count": 17,
   "id": "393be4d5-ac44-4c86-b4e8-c579757c6fcb",
   "metadata": {},
   "outputs": [],
   "source": [
    "toxic_df = dxtr.extract_zone(zone=\"staging\", step=\"aggregated\", feature_grp=\"toxic\")\n",
    "freg.register(feature_grp=\"toxic\", features=[\"NOX\"], data=toxic_df)"
   ]
  },
  {
   "cell_type": "code",
   "execution_count": 18,
   "id": "232d22fc-0beb-4d91-95fa-fea524bc2d3d",
   "metadata": {},
   "outputs": [],
   "source": [
    "monetary_df = dxtr.extract_zone(zone=\"staging\", step=\"aggregated\", feature_grp=\"monetary\")\n",
    "freg.register(feature_grp=\"monetary\", features=[\"TAX\"], data=monetary_df)"
   ]
  },
  {
   "cell_type": "code",
   "execution_count": 13,
   "id": "62f59767-acdf-422f-b6ad-ce73cf1ed796",
   "metadata": {},
   "outputs": [],
   "source": [
    "# save to feature_store\n",
    "\n",
    "for feature_grp in FEATURE_GROUPS:\n",
    "    dulr.upload_feature_store(feature_grp=feature_grp, \n",
    "                     data=dxtr.extract_zone(zone=\"staging\", \n",
    "                                            step=\"aggregated\", \n",
    "                                            feature_grp=feature_grp))"
   ]
  },
  {
   "cell_type": "code",
   "execution_count": null,
   "id": "1332c808-a3c1-44f7-aa1a-1c037b87c903",
   "metadata": {},
   "outputs": [],
   "source": []
  }
 ],
 "metadata": {
  "kernelspec": {
   "display_name": "Python 3 (ipykernel)",
   "language": "python",
   "name": "python3"
  },
  "language_info": {
   "codemirror_mode": {
    "name": "ipython",
    "version": 3
   },
   "file_extension": ".py",
   "mimetype": "text/x-python",
   "name": "python",
   "nbconvert_exporter": "python",
   "pygments_lexer": "ipython3",
   "version": "3.9.12"
  }
 },
 "nbformat": 4,
 "nbformat_minor": 5
}
