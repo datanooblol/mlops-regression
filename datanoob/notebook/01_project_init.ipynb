{
 "cells": [
  {
   "cell_type": "code",
   "execution_count": 4,
   "id": "d5c6e8d2-b380-4bca-a2a1-7b70b3111ceb",
   "metadata": {},
   "outputs": [
    {
     "name": "stdout",
     "output_type": "stream",
     "text": [
      "The autoreload extension is already loaded. To reload it, use:\n",
      "  %reload_ext autoreload\n"
     ]
    }
   ],
   "source": [
    "%load_ext autoreload\n",
    "%autoreload 2"
   ]
  },
  {
   "cell_type": "code",
   "execution_count": 5,
   "id": "6b3825bd-9a15-4393-bf95-0d35a7585fbf",
   "metadata": {},
   "outputs": [],
   "source": [
    "import os\n",
    "from datanooblol.configuration.config_manager import LoadScriptConfig"
   ]
  },
  {
   "cell_type": "code",
   "execution_count": 6,
   "id": "71700e67-8618-471e-98c0-7ca0f8273957",
   "metadata": {},
   "outputs": [],
   "source": [
    "script_cfg = LoadScriptConfig()"
   ]
  },
  {
   "cell_type": "markdown",
   "id": "22341751-ef5e-4ec5-b627-1aee44cdfa1f",
   "metadata": {},
   "source": [
    "# Project initialize  \n",
    "Initialize the project as follow:  \n",
    "- Read raw data  \n",
    "- Generate time sequence\n",
    "- Create columns including house_id using simple indexes, event_timestamp for Feast Feature Store, and load_dt for partition .parquet  \n",
    "- Adjust values in raw data based on time sequence for drift detection purpose\n",
    "- Split data set based on feature groups and load them to landing zone"
   ]
  },
  {
   "cell_type": "code",
   "execution_count": 172,
   "id": "8a15b595-c316-406f-a93f-e8d3c7b25f75",
   "metadata": {},
   "outputs": [
    {
     "data": {
      "text/plain": [
       "0"
      ]
     },
     "execution_count": 172,
     "metadata": {},
     "output_type": "execute_result"
    }
   ],
   "source": [
    "command = f\"python {script_cfg.PROJECT_INIT}\"\n",
    "os.system(command)"
   ]
  },
  {
   "cell_type": "markdown",
   "id": "38a56466-bee3-4ecc-b944-9209ea4cf687",
   "metadata": {},
   "source": [
    "# Update and Generate Document  \n",
    "You can update and generate new document after initializing sphinx project"
   ]
  },
  {
   "cell_type": "code",
   "execution_count": 8,
   "id": "a5837a01-75ab-49fe-96c4-49b912c3a5a4",
   "metadata": {
    "tags": []
   },
   "outputs": [
    {
     "name": "stdout",
     "output_type": "stream",
     "text": [
      "File _docs/datanooblol.rst already exists, skipping.\n",
      "File _docs/datanooblol.configuration.rst already exists, skipping.\n",
      "File _docs/datanooblol.data_quality.rst already exists, skipping.\n",
      "File _docs/datanooblol.eda.rst already exists, skipping.\n",
      "File _docs/datanooblol.evaluator.rst already exists, skipping.\n",
      "File _docs/datanooblol.experimenter.rst already exists, skipping.\n",
      "File _docs/datanooblol.extractor.rst already exists, skipping.\n",
      "File _docs/datanooblol.feature_store.rst already exists, skipping.\n",
      "File _docs/datanooblol.modeling.rst already exists, skipping.\n",
      "File _docs/datanooblol.project_init.rst already exists, skipping.\n",
      "File _docs/datanooblol.serving.rst already exists, skipping.\n",
      "File _docs/datanooblol.uploader.rst already exists, skipping.\n",
      "File _docs/datanooblol.utils.rst already exists, skipping.\n",
      "File _docs/modules.rst already exists, skipping.\n",
      "Removing everything under '_build'...\n",
      "Running Sphinx v5.0.2\n",
      "making output directory... done\n",
      "building [mo]: targets for 0 po files that are out of date\n",
      "building [html]: targets for 15 source files that are out of date\n",
      "updating environment: [new config] 15 added, 0 changed, 0 removed\n",
      "reading sources... [  6%] datanooblol\n",
      "reading sources... [ 13%] datanooblol.configuration\n",
      "reading sources... [ 20%] datanooblol.data_quality\n",
      "reading sources... [ 26%] datanooblol.eda\n",
      "reading sources... [ 33%] datanooblol.evaluator\n",
      "reading sources... [ 40%] datanooblol.experimenter\n",
      "reading sources... [ 46%] datanooblol.extractor\n",
      "reading sources... [ 53%] datanooblol.feature_store\n",
      "reading sources... [ 60%] datanooblol.modeling\n",
      "reading sources... [ 66%] datanooblol.project_init\n",
      "reading sources... [ 73%] datanooblol.serving\n",
      "reading sources... [ 80%] datanooblol.uploader\n",
      "reading sources... [ 86%] datanooblol.utils\n",
      "reading sources... [ 93%] index\n",
      "reading sources... [100%] modules\n",
      "\n",
      "looking for now-outdated files... none found\n",
      "pickling environment... done\n",
      "checking consistency... done\n",
      "preparing documents... done\n",
      "writing output... [  6%] datanooblol\n",
      "writing output... [ 13%] datanooblol.configuration\n"
     ]
    },
    {
     "name": "stderr",
     "output_type": "stream",
     "text": [
      "/usr/src/datanoob/_docs/datanooblol.rst:16: WARNING: Title underline too short.\n",
      "\n",
      "datanooblol.get\\_document module\n",
      "------------------------------\n",
      "/usr/src/datanoob/_docs/datanooblol.rst:16: WARNING: Title underline too short.\n",
      "\n",
      "datanooblol.get\\_document module\n",
      "------------------------------\n",
      "/usr/src/datanoob/_docs/index.rst:9: WARNING: duplicated entry found in toctree: datanooblol.configuration\n",
      "/usr/src/datanoob/_docs/datanooblol.eda.rst: WARNING: document isn't included in any toctree\n",
      "/usr/src/datanoob/_docs/modules.rst: WARNING: document isn't included in any toctree\n"
     ]
    },
    {
     "name": "stdout",
     "output_type": "stream",
     "text": [
      "writing output... [ 20%] datanooblol.data_quality\n",
      "writing output... [ 26%] datanooblol.eda\n",
      "writing output... [ 33%] datanooblol.evaluator\n",
      "writing output... [ 40%] datanooblol.experimenter\n",
      "writing output... [ 46%] datanooblol.extractor\n",
      "writing output... [ 53%] datanooblol.feature_store\n",
      "writing output... [ 60%] datanooblol.modeling\n",
      "writing output... [ 66%] datanooblol.project_init\n",
      "writing output... [ 73%] datanooblol.serving\n",
      "writing output... [ 80%] datanooblol.uploader\n",
      "writing output... [ 86%] datanooblol.utils\n",
      "writing output... [ 93%] index\n",
      "writing output... [100%] modules\n",
      "\n",
      "generating indices... genindex py-modindex done\n",
      "highlighting module code... [  3%] datanooblol.configuration.config_manager\n",
      "highlighting module code... [  7%] datanooblol.data_quality.health_check\n",
      "highlighting module code... [ 11%] datanooblol.eda.fast_eda\n",
      "highlighting module code... [ 15%] datanooblol.evaluator.regression_evaluator\n",
      "highlighting module code... [ 19%] datanooblol.experimenter.encoder\n",
      "highlighting module code... [ 23%] datanooblol.experimenter.experiment_catalogue\n",
      "highlighting module code... [ 26%] datanooblol.experimenter.experiment_generator\n",
      "highlighting module code... [ 30%] datanooblol.experimenter.feature_selector\n",
      "highlighting module code... [ 34%] datanooblol.experimenter.imputer\n",
      "highlighting module code... [ 38%] datanooblol.experimenter.scaler\n",
      "highlighting module code... [ 42%] datanooblol.experimenter.scope_data\n",
      "highlighting module code... [ 46%] datanooblol.extractor.data_extractor\n",
      "highlighting module code... [ 50%] datanooblol.feature_store.feature_manager\n",
      "highlighting module code... [ 53%] datanooblol.feature_store.feature_register\n",
      "highlighting module code... [ 57%] datanooblol.get_document\n",
      "highlighting module code... [ 61%] datanooblol.hello_noob\n",
      "highlighting module code... [ 65%] datanooblol.modeling.classification_builder\n",
      "highlighting module code... [ 69%] datanooblol.modeling.model_builder\n",
      "highlighting module code... [ 73%] datanooblol.modeling.model_catalogue\n",
      "highlighting module code... [ 76%] datanooblol.modeling.model_generator\n",
      "highlighting module code... [ 80%] datanooblol.modeling.regression_builder\n",
      "highlighting module code... [ 84%] datanooblol.modeling.trainer\n",
      "highlighting module code... [ 88%] datanooblol.project_init.initialize\n",
      "highlighting module code... [ 92%] datanooblol.serving.serving_manager\n",
      "highlighting module code... [ 96%] datanooblol.uploader.data_uploader\n",
      "highlighting module code... [100%] datanooblol.utils.base\n",
      "\n",
      "writing additional pages... search done\n",
      "copying static files... done\n",
      "copying extra files... done\n",
      "dumping search index in English (code: en)... done\n",
      "dumping object inventory... done\n",
      "build succeeded, 5 warnings.\n",
      "\n",
      "The HTML pages are in _build/html.\n",
      "updated successfully\n",
      "generated successfully\n"
     ]
    },
    {
     "data": {
      "text/plain": [
       "0"
      ]
     },
     "execution_count": 8,
     "metadata": {},
     "output_type": "execute_result"
    }
   ],
   "source": [
    "command = f\"python {script_cfg.GENERATE_DOC}\"\n",
    "os.system(command)"
   ]
  },
  {
   "cell_type": "code",
   "execution_count": null,
   "id": "591a6a03-1d11-43f8-a6b3-4df51cfe4bd4",
   "metadata": {},
   "outputs": [],
   "source": []
  }
 ],
 "metadata": {
  "kernelspec": {
   "display_name": "Python 3 (ipykernel)",
   "language": "python",
   "name": "python3"
  },
  "language_info": {
   "codemirror_mode": {
    "name": "ipython",
    "version": 3
   },
   "file_extension": ".py",
   "mimetype": "text/x-python",
   "name": "python",
   "nbconvert_exporter": "python",
   "pygments_lexer": "ipython3",
   "version": "3.9.12"
  }
 },
 "nbformat": 4,
 "nbformat_minor": 5
}
