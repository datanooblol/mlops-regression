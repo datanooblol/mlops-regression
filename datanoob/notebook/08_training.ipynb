{
 "cells": [
  {
   "cell_type": "code",
   "execution_count": 5,
   "id": "d63171cd-beea-4858-83d2-038b7586a1ca",
   "metadata": {},
   "outputs": [],
   "source": [
    "%load_ext autoreload\n",
    "%autoreload 2"
   ]
  },
  {
   "cell_type": "markdown",
   "id": "886f3040-b99e-4ee8-9d60-0672806dac20",
   "metadata": {},
   "source": [
    "# This notebook is for testing and debugging before migrating into train.py"
   ]
  },
  {
   "cell_type": "code",
   "execution_count": 1,
   "id": "d6f000b4-6e05-4073-ba0d-19e87dae8366",
   "metadata": {
    "collapsed": true,
    "jupyter": {
     "outputs_hidden": true
    },
    "tags": []
   },
   "outputs": [
    {
     "ename": "NameError",
     "evalue": "name 'path' is not defined",
     "output_type": "error",
     "traceback": [
      "\u001b[0;31m---------------------------------------------------------------------------\u001b[0m",
      "\u001b[0;31mNameError\u001b[0m                                 Traceback (most recent call last)",
      "\u001b[0;32m/tmp/ipykernel_340/3751539301.py\u001b[0m in \u001b[0;36m<module>\u001b[0;34m\u001b[0m\n\u001b[1;32m      6\u001b[0m \u001b[0mdata\u001b[0m \u001b[0;34m=\u001b[0m \u001b[0mReferenceExtractor\u001b[0m\u001b[0;34m(\u001b[0m\u001b[0mDEBUG\u001b[0m\u001b[0;34m=\u001b[0m\u001b[0;32mFalse\u001b[0m\u001b[0;34m)\u001b[0m\u001b[0;34m\u001b[0m\u001b[0;34m\u001b[0m\u001b[0m\n\u001b[1;32m      7\u001b[0m \u001b[0mexperiment_name\u001b[0m \u001b[0;34m=\u001b[0m \u001b[0;34m\"experiment1\"\u001b[0m\u001b[0;34m\u001b[0m\u001b[0;34m\u001b[0m\u001b[0m\n\u001b[0;32m----> 8\u001b[0;31m \u001b[0mexperiment_file\u001b[0m \u001b[0;34m=\u001b[0m \u001b[0;34mf\"{path}/{experiment_name}.yaml\"\u001b[0m\u001b[0;34m\u001b[0m\u001b[0;34m\u001b[0m\u001b[0m\n\u001b[0m\u001b[1;32m      9\u001b[0m \u001b[0mexperiment\u001b[0m \u001b[0;34m=\u001b[0m \u001b[0mExperimentPackage\u001b[0m\u001b[0;34m(\u001b[0m\u001b[0mexperiment_file\u001b[0m\u001b[0;34m=\u001b[0m\u001b[0mexperiment_file\u001b[0m\u001b[0;34m)\u001b[0m\u001b[0;34m\u001b[0m\u001b[0;34m\u001b[0m\u001b[0m\n\u001b[1;32m     10\u001b[0m \u001b[0;34m\u001b[0m\u001b[0m\n",
      "\u001b[0;31mNameError\u001b[0m: name 'path' is not defined"
     ]
    }
   ],
   "source": [
    "import importlib\n",
    "from datanooblol.extractor.reference_extractor import ReferenceExtractor\n",
    "from datanooblol.experimenter.experiment_generator import ExperimentGenerator, ExperimentPackage\n",
    "from datanooblol.modeling.trainer import Trainer\n",
    "\n",
    "data = ReferenceExtractor(DEBUG=False)\n",
    "path = \"/usr/src/datanoob/repository/metadata/experiment\"\n",
    "experiment_name = \"experiment1\"\n",
    "experiment_file = f\"{path}/{experiment_name}.yaml\"\n",
    "experiment = ExperimentPackage(experiment_file=experiment_file)\n",
    "\n",
    "\n",
    "\n",
    "X_train = experiment.X.fit_transform(data.X_train)\n",
    "y_train = experiment.y.fit_transform(data.y_train)\n",
    "X_val = experiment.X.transform(data.X_val)\n",
    "y_val = experiment.y.fit_transform(data.y_val)\n",
    "X_test = experiment.X.transform(data.X_test)\n",
    "y_test = experiment.y.fit_transform(data.y_test)\n",
    "\n",
    "project = \"boston_regression\"\n",
    "objective = \"regression\"\n",
    "\n",
    "experiment_name = \"experiment1\"\n",
    "stage = \"baseline\"\n",
    "model_builder = \"regression\"\n",
    "models = importlib.import_module(f\"datanooblol.modeling.{model_builder}_builder\").ModelBuilder().build()\n",
    "\n",
    "trainer = Trainer(project=project, \n",
    "                  experiment_name=experiment_name, \n",
    "                  objective=objective,\n",
    "                  stage=stage,\n",
    "                  experiment=experiment, \n",
    "                  models=models)\n",
    "\n",
    "trainer.fit(X_train, y_train, X_test, y_test)"
   ]
  },
  {
   "cell_type": "code",
   "execution_count": 1,
   "id": "76c49e6c-e42d-42e6-9c6c-8e590d9aaa20",
   "metadata": {},
   "outputs": [
    {
     "name": "stderr",
     "output_type": "stream",
     "text": [
      "2022/07/24 20:52:04 INFO mlflow.tracking.fluent: Experiment with name 'boston_regression' does not exist. Creating a new experiment.\n",
      "/opt/conda/lib/python3.9/site-packages/_distutils_hack/__init__.py:30: UserWarning: Setuptools is replacing distutils.\n",
      "  warnings.warn(\"Setuptools is replacing distutils.\")\n"
     ]
    }
   ],
   "source": [
    "import importlib\n",
    "from datanooblol.extractor.reference_extractor import ReferenceExtractor\n",
    "from datanooblol.experimenter.experiment_generator import ExperimentGenerator, ExperimentPackage\n",
    "from datanooblol.modeling.model_generator import ModelGenerator\n",
    "from datanooblol.modeling.trainer import Trainer\n",
    "\n",
    "data = ReferenceExtractor(DEBUG=False)\n",
    "path = \"/usr/src/datanoob/repository/metadata/experiment\"\n",
    "experiment_name = \"experiment1\"\n",
    "experiment_file = f\"{path}/{experiment_name}.yaml\"\n",
    "experiment = ExperimentPackage(experiment_file=experiment_file)\n",
    "\n",
    "\n",
    "\n",
    "X_train = experiment.X.fit_transform(data.X_train)\n",
    "y_train = experiment.y.fit_transform(data.y_train)\n",
    "X_val = experiment.X.transform(data.X_val)\n",
    "y_val = experiment.y.fit_transform(data.y_val)\n",
    "X_test = experiment.X.transform(data.X_test)\n",
    "y_test = experiment.y.fit_transform(data.y_test)\n",
    "\n",
    "project = \"boston_regression\"\n",
    "objective = \"regression\"\n",
    "\n",
    "experiment_name = \"experiment1\"\n",
    "stage = \"baseline\"\n",
    "model_builder = \"regression\"\n",
    "# models = importlib.import_module(f\"datanooblol.modeling.{model_builder}_builder\").ModelBuilder().build()\n",
    "models = ModelGenerator(experiment_file=experiment_file).models\n",
    "\n",
    "trainer = Trainer(project=project, \n",
    "                  experiment_name=experiment_name, \n",
    "                  objective=objective,\n",
    "                  stage=stage,\n",
    "                  experiment=experiment, \n",
    "                  models=models)\n",
    "\n",
    "trainer.fit(X_train, y_train, X_test, y_test)"
   ]
  },
  {
   "cell_type": "code",
   "execution_count": 8,
   "id": "d4d253b9-cdf6-4d92-97ed-e829fa486058",
   "metadata": {},
   "outputs": [],
   "source": [
    "import importlib\n",
    "from datanooblol.extractor.reference_extractor import ReferenceExtractor\n",
    "from datanooblol.experimenter.experiment_generator import ExperimentGenerator, ExperimentPackage\n",
    "from datanooblol.modeling.trainer import Trainer\n",
    "\n",
    "data = ReferenceExtractor(DEBUG=False)\n",
    "experiment_name = \"experiment2\"\n",
    "experiment_file = f\"{path}/{experiment_name}.yaml\"\n",
    "experiment = ExperimentPackage(experiment_file=experiment_file)\n",
    "\n",
    "\n",
    "\n",
    "X_train = experiment.X.fit_transform(data.X_train)\n",
    "y_train = experiment.y.fit_transform(data.y_train)\n",
    "X_val = experiment.X.transform(data.X_val)\n",
    "y_val = experiment.y.fit_transform(data.y_val)\n",
    "X_test = experiment.X.transform(data.X_test)\n",
    "y_test = experiment.y.fit_transform(data.y_test)\n",
    "\n",
    "project = \"boston_regression\"\n",
    "objective = \"regression\"\n",
    "\n",
    "experiment_name = \"experiment2\"\n",
    "stage = \"scaling x\"\n",
    "model_builder = \"regression\"\n",
    "models = importlib.import_module(f\"datanooblol.modeling.{model_builder}_builder\").ModelBuilder().build()\n",
    "\n",
    "trainer = Trainer(project=project, \n",
    "                  experiment_name=experiment_name, \n",
    "                  objective=objective,\n",
    "                  stage=stage,\n",
    "                  experiment=experiment, \n",
    "                  models=models)\n",
    "\n",
    "trainer.fit(X_train, y_train, X_test, y_test)"
   ]
  },
  {
   "cell_type": "code",
   "execution_count": 9,
   "id": "91d8cff2-3431-4746-b3cb-5afd099235f6",
   "metadata": {},
   "outputs": [],
   "source": [
    "import importlib\n",
    "from datanooblol.extractor.reference_extractor import ReferenceExtractor\n",
    "from datanooblol.experimenter.experiment_generator import ExperimentGenerator, ExperimentPackage\n",
    "from datanooblol.modeling.trainer import Trainer\n",
    "\n",
    "data = ReferenceExtractor(DEBUG=False)\n",
    "path = \"/usr/src/datanoob/repository/metadata/experiment\"\n",
    "\n",
    "experiment_name = \"experiment3\"\n",
    "experiment_file = f\"{path}/{experiment_name}.yaml\"\n",
    "experiment = ExperimentPackage(experiment_file=experiment_file)\n",
    "\n",
    "\n",
    "\n",
    "X_train = experiment.X.fit_transform(data.X_train)\n",
    "y_train = experiment.y.fit_transform(data.y_train)\n",
    "X_val = experiment.X.transform(data.X_val)\n",
    "y_val = experiment.y.fit_transform(data.y_val)\n",
    "X_test = experiment.X.transform(data.X_test)\n",
    "y_test = experiment.y.fit_transform(data.y_test)\n",
    "\n",
    "project = \"boston_regression\"\n",
    "objective = \"regression\"\n",
    "\n",
    "stage = \"scaling x and y\"\n",
    "model_builder = \"regression\"\n",
    "models = importlib.import_module(f\"datanooblol.modeling.{model_builder}_builder\").ModelBuilder().build()\n",
    "\n",
    "trainer = Trainer(project=project, \n",
    "                  experiment_name=experiment_name, \n",
    "                  objective=objective,\n",
    "                  stage=stage,\n",
    "                  experiment=experiment, \n",
    "                  models=models)\n",
    "\n",
    "trainer.fit(X_train, y_train, X_test, y_test)"
   ]
  },
  {
   "cell_type": "code",
   "execution_count": 46,
   "id": "f89a57e0-840e-48f3-88fb-8049f8d86e42",
   "metadata": {},
   "outputs": [],
   "source": [
    "import importlib\n",
    "from datanooblol.extractor.reference_extractor import ReferenceExtractor\n",
    "from datanooblol.experimenter.experiment_generator import ExperimentGenerator, ExperimentPackage\n",
    "from datanooblol.modeling.model_generator import ModelGenerator\n",
    "from datanooblol.modeling.trainer import Trainer\n",
    "\n",
    "\n",
    "data = ReferenceExtractor(DEBUG=False)\n",
    "path = \"/usr/src/datanoob/repository/metadata/experiment\"\n",
    "\n",
    "experiment_name = \"experiment4\"\n",
    "experiment_file = f\"{path}/{experiment_name}.yaml\"\n",
    "experiment = ExperimentPackage(experiment_file=experiment_file)\n",
    "\n",
    "\n",
    "\n",
    "X_train = experiment.X.fit_transform(data.X_train)\n",
    "y_train = experiment.y.fit_transform(data.y_train)\n",
    "X_val = experiment.X.transform(data.X_val)\n",
    "y_val = experiment.y.fit_transform(data.y_val)\n",
    "X_test = experiment.X.transform(data.X_test)\n",
    "y_test = experiment.y.fit_transform(data.y_test)\n",
    "\n",
    "project = \"boston_regression\"\n",
    "objective = \"regression\"\n",
    "\n",
    "stage = \"scaling x and y tuning\"\n",
    "model_builder = \"regression\"\n",
    "# models = importlib.import_module(f\"datanooblol.modeling.{model_builder}_builder\").ModelBuilder().build()\n",
    "models = ModelGenerator(experiment_file=experiment_file).models\n",
    "\n",
    "trainer = Trainer(project=project, \n",
    "                  experiment_name=experiment_name, \n",
    "                  objective=objective,\n",
    "                  stage=stage,\n",
    "                  experiment=experiment, \n",
    "                  models=models)\n",
    "\n",
    "trainer.fit(X_train, y_train, X_test, y_test)"
   ]
  },
  {
   "cell_type": "code",
   "execution_count": null,
   "id": "36eb2611-13dc-4f8d-9f73-2ae0f77749b5",
   "metadata": {},
   "outputs": [],
   "source": [
    "\"\"\"\n",
    "1 shot\n",
    "how to get model list?\n",
    "add model name\n",
    "get model\n",
    "add params\n",
    "\n",
    "\n",
    "2 or more as a list\n",
    "\"\"\""
   ]
  },
  {
   "cell_type": "code",
   "execution_count": 8,
   "id": "9d0dfd82-4c53-4ca4-b24a-e15a3f0a3e59",
   "metadata": {},
   "outputs": [
    {
     "name": "stderr",
     "output_type": "stream",
     "text": [
      "/opt/conda/lib/python3.9/site-packages/_distutils_hack/__init__.py:30: UserWarning: Setuptools is replacing distutils.\n",
      "  warnings.warn(\"Setuptools is replacing distutils.\")\n"
     ]
    }
   ],
   "source": [
    "from sklearn.ensemble import RandomForestRegressor\n",
    "\n",
    "experiment_name = \"experiment1\"\n",
    "stage = \"tuning\"\n",
    "model_builder = \"model\"\n",
    "model = RandomForestRegressor\n",
    "params = {\n",
    "    \"n_estimators\": [20, 40, 60, 80, 100],\n",
    "    \"max_depth\": [7, 21, 35]\n",
    "}\n",
    "models = importlib.import_module(f\"datanooblol.modeling.{model_builder}_builder\").ModelBuilder().build(model_name=\"rf_hardtune\", model=model, parameters=params)\n",
    "\n",
    "trainer = Trainer(project=project, \n",
    "                  experiment_name=experiment_name, \n",
    "                  objective=objective,\n",
    "                  stage=stage,\n",
    "                  experiment=experiment, \n",
    "                  models=models)\n",
    "\n",
    "trainer.fit(X_train, y_train, X_test, y_test)"
   ]
  },
  {
   "cell_type": "code",
   "execution_count": 3,
   "id": "e15377d9-e433-4141-b4ef-0b5473dc40c8",
   "metadata": {},
   "outputs": [],
   "source": [
    "mlflow.end_run()"
   ]
  }
 ],
 "metadata": {
  "kernelspec": {
   "display_name": "Python 3 (ipykernel)",
   "language": "python",
   "name": "python3"
  },
  "language_info": {
   "codemirror_mode": {
    "name": "ipython",
    "version": 3
   },
   "file_extension": ".py",
   "mimetype": "text/x-python",
   "name": "python",
   "nbconvert_exporter": "python",
   "pygments_lexer": "ipython3",
   "version": "3.9.12"
  }
 },
 "nbformat": 4,
 "nbformat_minor": 5
}
