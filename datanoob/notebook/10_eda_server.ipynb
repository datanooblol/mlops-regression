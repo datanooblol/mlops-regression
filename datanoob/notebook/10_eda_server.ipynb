{
 "cells": [
  {
   "cell_type": "code",
   "execution_count": 1,
   "id": "7f8deaa8-97eb-4053-957d-1c5114e5f022",
   "metadata": {},
   "outputs": [],
   "source": [
    "%load_ext autoreload\n",
    "%autoreload 2"
   ]
  },
  {
   "cell_type": "code",
   "execution_count": 2,
   "id": "2202e4c7-e77f-41fa-91c9-cea607731517",
   "metadata": {},
   "outputs": [],
   "source": [
    "import dtale\n",
    "from datanooblol.extractor.reference_extractor import ReferenceExtractor\n",
    "from datanooblol.eda.fast_eda import FastEDA"
   ]
  },
  {
   "cell_type": "markdown",
   "id": "baf653a6-8275-48d6-937e-f51cd009d097",
   "metadata": {},
   "source": [
    "# Initialize  \n",
    "- ReferenceExtractor class for data extraction"
   ]
  },
  {
   "cell_type": "code",
   "execution_count": 3,
   "id": "2305d393-6d6c-4393-abfb-8b7f38eb0335",
   "metadata": {},
   "outputs": [],
   "source": [
    "data = ReferenceExtractor(DEBUG=False)"
   ]
  },
  {
   "cell_type": "code",
   "execution_count": 4,
   "id": "8d9c6e6b-a932-4f31-b560-a268ef158b70",
   "metadata": {},
   "outputs": [
    {
     "data": {
      "text/html": [
       "<div>\n",
       "<style scoped>\n",
       "    .dataframe tbody tr th:only-of-type {\n",
       "        vertical-align: middle;\n",
       "    }\n",
       "\n",
       "    .dataframe tbody tr th {\n",
       "        vertical-align: top;\n",
       "    }\n",
       "\n",
       "    .dataframe thead th {\n",
       "        text-align: right;\n",
       "    }\n",
       "</style>\n",
       "<table border=\"1\" class=\"dataframe\">\n",
       "  <thead>\n",
       "    <tr style=\"text-align: right;\">\n",
       "      <th></th>\n",
       "      <th>CHAS</th>\n",
       "      <th>DIS</th>\n",
       "      <th>RAD</th>\n",
       "      <th>TAX</th>\n",
       "      <th>B</th>\n",
       "      <th>INDUS</th>\n",
       "      <th>LSTAT</th>\n",
       "      <th>PTRATIO</th>\n",
       "      <th>RM</th>\n",
       "      <th>ZN</th>\n",
       "      <th>NOX</th>\n",
       "    </tr>\n",
       "  </thead>\n",
       "  <tbody>\n",
       "    <tr>\n",
       "      <th>360</th>\n",
       "      <td>0</td>\n",
       "      <td>4.0317</td>\n",
       "      <td>4</td>\n",
       "      <td>304.0</td>\n",
       "      <td>396.90</td>\n",
       "      <td>9.90</td>\n",
       "      <td>15.94</td>\n",
       "      <td>18.4</td>\n",
       "      <td>5.782</td>\n",
       "      <td>0.0</td>\n",
       "      <td>0.544</td>\n",
       "    </tr>\n",
       "    <tr>\n",
       "      <th>271</th>\n",
       "      <td>0</td>\n",
       "      <td>9.0892</td>\n",
       "      <td>1</td>\n",
       "      <td>241.0</td>\n",
       "      <td>341.60</td>\n",
       "      <td>1.76</td>\n",
       "      <td>12.93</td>\n",
       "      <td>18.2</td>\n",
       "      <td>6.230</td>\n",
       "      <td>80.0</td>\n",
       "      <td>0.385</td>\n",
       "    </tr>\n",
       "    <tr>\n",
       "      <th>1080</th>\n",
       "      <td>0</td>\n",
       "      <td>2.5806</td>\n",
       "      <td>24</td>\n",
       "      <td>666.0</td>\n",
       "      <td>10.48</td>\n",
       "      <td>18.10</td>\n",
       "      <td>19.01</td>\n",
       "      <td>20.2</td>\n",
       "      <td>5.976</td>\n",
       "      <td>0.0</td>\n",
       "      <td>0.713</td>\n",
       "    </tr>\n",
       "    <tr>\n",
       "      <th>633</th>\n",
       "      <td>0</td>\n",
       "      <td>2.7778</td>\n",
       "      <td>5</td>\n",
       "      <td>384.0</td>\n",
       "      <td>394.76</td>\n",
       "      <td>8.56</td>\n",
       "      <td>9.42</td>\n",
       "      <td>20.9</td>\n",
       "      <td>6.727</td>\n",
       "      <td>0.0</td>\n",
       "      <td>0.520</td>\n",
       "    </tr>\n",
       "    <tr>\n",
       "      <th>1363</th>\n",
       "      <td>0</td>\n",
       "      <td>5.1004</td>\n",
       "      <td>3</td>\n",
       "      <td>233.0</td>\n",
       "      <td>396.90</td>\n",
       "      <td>6.91</td>\n",
       "      <td>14.15</td>\n",
       "      <td>17.9</td>\n",
       "      <td>5.786</td>\n",
       "      <td>0.0</td>\n",
       "      <td>0.448</td>\n",
       "    </tr>\n",
       "    <tr>\n",
       "      <th>...</th>\n",
       "      <td>...</td>\n",
       "      <td>...</td>\n",
       "      <td>...</td>\n",
       "      <td>...</td>\n",
       "      <td>...</td>\n",
       "      <td>...</td>\n",
       "      <td>...</td>\n",
       "      <td>...</td>\n",
       "      <td>...</td>\n",
       "      <td>...</td>\n",
       "      <td>...</td>\n",
       "    </tr>\n",
       "    <tr>\n",
       "      <th>624</th>\n",
       "      <td>0</td>\n",
       "      <td>3.4217</td>\n",
       "      <td>2</td>\n",
       "      <td>270.0</td>\n",
       "      <td>396.90</td>\n",
       "      <td>3.41</td>\n",
       "      <td>5.50</td>\n",
       "      <td>17.8</td>\n",
       "      <td>7.007</td>\n",
       "      <td>0.0</td>\n",
       "      <td>0.489</td>\n",
       "    </tr>\n",
       "    <tr>\n",
       "      <th>426</th>\n",
       "      <td>0</td>\n",
       "      <td>1.4608</td>\n",
       "      <td>5</td>\n",
       "      <td>403.0</td>\n",
       "      <td>391.71</td>\n",
       "      <td>19.58</td>\n",
       "      <td>29.53</td>\n",
       "      <td>14.7</td>\n",
       "      <td>4.926</td>\n",
       "      <td>0.0</td>\n",
       "      <td>0.871</td>\n",
       "    </tr>\n",
       "    <tr>\n",
       "      <th>366</th>\n",
       "      <td>0</td>\n",
       "      <td>4.0019</td>\n",
       "      <td>4</td>\n",
       "      <td>304.0</td>\n",
       "      <td>396.23</td>\n",
       "      <td>9.90</td>\n",
       "      <td>12.73</td>\n",
       "      <td>18.4</td>\n",
       "      <td>6.113</td>\n",
       "      <td>0.0</td>\n",
       "      <td>0.544</td>\n",
       "    </tr>\n",
       "    <tr>\n",
       "      <th>1354</th>\n",
       "      <td>0</td>\n",
       "      <td>6.8147</td>\n",
       "      <td>4</td>\n",
       "      <td>243.0</td>\n",
       "      <td>395.56</td>\n",
       "      <td>5.64</td>\n",
       "      <td>13.45</td>\n",
       "      <td>16.8</td>\n",
       "      <td>5.963</td>\n",
       "      <td>21.0</td>\n",
       "      <td>0.439</td>\n",
       "    </tr>\n",
       "    <tr>\n",
       "      <th>384</th>\n",
       "      <td>0</td>\n",
       "      <td>1.9929</td>\n",
       "      <td>2</td>\n",
       "      <td>188.0</td>\n",
       "      <td>385.02</td>\n",
       "      <td>25.65</td>\n",
       "      <td>14.81</td>\n",
       "      <td>19.1</td>\n",
       "      <td>5.986</td>\n",
       "      <td>0.0</td>\n",
       "      <td>0.581</td>\n",
       "    </tr>\n",
       "  </tbody>\n",
       "</table>\n",
       "<p>354 rows × 11 columns</p>\n",
       "</div>"
      ],
      "text/plain": [
       "      CHAS     DIS  RAD    TAX       B  INDUS  LSTAT  PTRATIO     RM    ZN  \\\n",
       "360      0  4.0317    4  304.0  396.90   9.90  15.94     18.4  5.782   0.0   \n",
       "271      0  9.0892    1  241.0  341.60   1.76  12.93     18.2  6.230  80.0   \n",
       "1080     0  2.5806   24  666.0   10.48  18.10  19.01     20.2  5.976   0.0   \n",
       "633      0  2.7778    5  384.0  394.76   8.56   9.42     20.9  6.727   0.0   \n",
       "1363     0  5.1004    3  233.0  396.90   6.91  14.15     17.9  5.786   0.0   \n",
       "...    ...     ...  ...    ...     ...    ...    ...      ...    ...   ...   \n",
       "624      0  3.4217    2  270.0  396.90   3.41   5.50     17.8  7.007   0.0   \n",
       "426      0  1.4608    5  403.0  391.71  19.58  29.53     14.7  4.926   0.0   \n",
       "366      0  4.0019    4  304.0  396.23   9.90  12.73     18.4  6.113   0.0   \n",
       "1354     0  6.8147    4  243.0  395.56   5.64  13.45     16.8  5.963  21.0   \n",
       "384      0  1.9929    2  188.0  385.02  25.65  14.81     19.1  5.986   0.0   \n",
       "\n",
       "        NOX  \n",
       "360   0.544  \n",
       "271   0.385  \n",
       "1080  0.713  \n",
       "633   0.520  \n",
       "1363  0.448  \n",
       "...     ...  \n",
       "624   0.489  \n",
       "426   0.871  \n",
       "366   0.544  \n",
       "1354  0.439  \n",
       "384   0.581  \n",
       "\n",
       "[354 rows x 11 columns]"
      ]
     },
     "execution_count": 4,
     "metadata": {},
     "output_type": "execute_result"
    }
   ],
   "source": [
    "data.X_train"
   ]
  },
  {
   "cell_type": "markdown",
   "id": "e3aa5e6c-8c73-4ad4-a13e-4fa8fa0edd61",
   "metadata": {},
   "source": [
    "# Initialize  \n",
    "- FastEDA class for EDA any dataset of your choice\n",
    "\n",
    "*Use reference dataset only for this use case*"
   ]
  },
  {
   "cell_type": "code",
   "execution_count": 5,
   "id": "a8ff54fb-0043-4dac-9190-1ed88746b67e",
   "metadata": {},
   "outputs": [],
   "source": [
    "fastEDA = FastEDA()"
   ]
  },
  {
   "cell_type": "code",
   "execution_count": 6,
   "id": "e5128c42-f304-400e-8bcf-50ecdbb8eb3f",
   "metadata": {},
   "outputs": [
    {
     "data": {
      "text/html": [
       "\n",
       "        <iframe\n",
       "            width=\"100%\"\n",
       "            height=\"475\"\n",
       "            src=\"http://localhost:555/dtale/iframe/1\"\n",
       "            frameborder=\"0\"\n",
       "            allowfullscreen\n",
       "            \n",
       "        ></iframe>\n",
       "        "
      ],
      "text/plain": [
       "<IPython.lib.display.IFrame at 0x7f5e38dcce20>"
      ]
     },
     "metadata": {},
     "output_type": "display_data"
    },
    {
     "data": {
      "text/plain": []
     },
     "execution_count": 6,
     "metadata": {},
     "output_type": "execute_result"
    }
   ],
   "source": [
    "fastEDA(data.extract_reference_data)"
   ]
  },
  {
   "cell_type": "code",
   "execution_count": 7,
   "id": "2bd4acbc-5da4-4687-af73-0566b1f0f789",
   "metadata": {},
   "outputs": [
    {
     "data": {
      "text/html": [
       "\n",
       "        <iframe\n",
       "            width=\"100%\"\n",
       "            height=\"475\"\n",
       "            src=\"http://localhost:555/dtale/iframe/2\"\n",
       "            frameborder=\"0\"\n",
       "            allowfullscreen\n",
       "            \n",
       "        ></iframe>\n",
       "        "
      ],
      "text/plain": [
       "<IPython.lib.display.IFrame at 0x7f5e3b7ca640>"
      ]
     },
     "metadata": {},
     "output_type": "display_data"
    },
    {
     "data": {
      "text/plain": []
     },
     "execution_count": 7,
     "metadata": {},
     "output_type": "execute_result"
    },
    {
     "name": "stdout",
     "output_type": "stream",
     "text": [
      "Executing shutdown due to inactivity...\n"
     ]
    },
    {
     "name": "stderr",
     "output_type": "stream",
     "text": [
      "2022-07-25 16:10:50,566 - INFO     - Executing shutdown due to inactivity...\n"
     ]
    },
    {
     "name": "stdout",
     "output_type": "stream",
     "text": [
      "Executing shutdown...\n"
     ]
    },
    {
     "name": "stderr",
     "output_type": "stream",
     "text": [
      "2022-07-25 16:10:50,597 - INFO     - Executing shutdown...\n",
      "/opt/conda/lib/python3.9/site-packages/dtale/app.py:397: UserWarning:\n",
      "\n",
      "The 'environ['werkzeug.server.shutdown']' function is deprecated and will be removed in Werkzeug 2.1.\n",
      "\n"
     ]
    }
   ],
   "source": [
    "fastEDA(data.X_train)"
   ]
  },
  {
   "cell_type": "code",
   "execution_count": 6,
   "id": "72d3ca73-6703-4f13-987f-c7bd3d577f77",
   "metadata": {},
   "outputs": [
    {
     "data": {
      "text/html": [
       "\n",
       "        <iframe\n",
       "            width=\"100%\"\n",
       "            height=\"475\"\n",
       "            src=\"http://localhost:555/dtale/iframe/2\"\n",
       "            frameborder=\"0\"\n",
       "            allowfullscreen\n",
       "            \n",
       "        ></iframe>\n",
       "        "
      ],
      "text/plain": [
       "<IPython.lib.display.IFrame at 0x7f9b38a9ffd0>"
      ]
     },
     "metadata": {},
     "output_type": "display_data"
    },
    {
     "data": {
      "text/plain": []
     },
     "execution_count": 6,
     "metadata": {},
     "output_type": "execute_result"
    }
   ],
   "source": [
    "dtale.show(data.X_train, host='localhost', port=\"555\")"
   ]
  }
 ],
 "metadata": {
  "kernelspec": {
   "display_name": "Python 3 (ipykernel)",
   "language": "python",
   "name": "python3"
  },
  "language_info": {
   "codemirror_mode": {
    "name": "ipython",
    "version": 3
   },
   "file_extension": ".py",
   "mimetype": "text/x-python",
   "name": "python",
   "nbconvert_exporter": "python",
   "pygments_lexer": "ipython3",
   "version": "3.9.12"
  }
 },
 "nbformat": 4,
 "nbformat_minor": 5
}
