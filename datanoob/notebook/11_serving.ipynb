{
 "cells": [
  {
   "cell_type": "code",
   "execution_count": 6,
   "id": "5da5bb33-b3c9-43aa-9989-cfc91f62ad30",
   "metadata": {},
   "outputs": [
    {
     "name": "stdout",
     "output_type": "stream",
     "text": [
      "The autoreload extension is already loaded. To reload it, use:\n",
      "  %reload_ext autoreload\n"
     ]
    }
   ],
   "source": [
    "%load_ext autoreload\n",
    "%autoreload 2"
   ]
  },
  {
   "cell_type": "code",
   "execution_count": 7,
   "id": "40e716c1-235e-4340-8cd0-42ed8a7057ca",
   "metadata": {},
   "outputs": [],
   "source": [
    "from datanooblol.serving.serving_manager import Serving\n",
    "from datanooblol.extractor.reference_extractor import ReferenceExtractor"
   ]
  },
  {
   "cell_type": "markdown",
   "id": "45401a85-6e73-4dcd-a10d-e3dc92ca6c0c",
   "metadata": {},
   "source": [
    "# Initialize\n",
    "- ReferenceExtractor class for serving use case"
   ]
  },
  {
   "cell_type": "code",
   "execution_count": 8,
   "id": "aee347d8-e7b9-4bcb-b162-449765cc40fa",
   "metadata": {},
   "outputs": [],
   "source": [
    "data = ReferenceExtractor(DEBUG=False)\n",
    "# X = loaded_exp.transform(data.X_test)\n",
    "X = data.X_test\n",
    "y = data.y_test"
   ]
  },
  {
   "cell_type": "markdown",
   "id": "554880b6-807c-41c5-9f3c-1995faa64778",
   "metadata": {},
   "source": [
    "# Initialize  \n",
    "- Serving class for serving use case"
   ]
  },
  {
   "cell_type": "code",
   "execution_count": 12,
   "id": "59908c37-4ba4-4eb5-b746-92db2372bdf4",
   "metadata": {},
   "outputs": [],
   "source": [
    "run_id = \"1500de2128ac4208889e029fb096f255\"\n",
    "project = \"boston_regression\"\n",
    "serving = Serving(project=project, run_id=run_id)\n",
    "prediction = serving.predict(X)\n",
    "prediction_inv = serving.predict(X, inverse_y=True)"
   ]
  },
  {
   "cell_type": "code",
   "execution_count": 18,
   "id": "30570fd5-0123-4059-80e8-47f810853eca",
   "metadata": {},
   "outputs": [
    {
     "data": {
      "text/plain": [
       "array([-0.13982345, -0.06713594, -0.33107962, -0.71820128, -0.12359975])"
      ]
     },
     "execution_count": 18,
     "metadata": {},
     "output_type": "execute_result"
    }
   ],
   "source": [
    "prediction[:5]"
   ]
  },
  {
   "cell_type": "code",
   "execution_count": 17,
   "id": "ddccff00-755a-4d4b-8cd9-52b18b6a1ebc",
   "metadata": {},
   "outputs": [
    {
     "data": {
      "text/plain": [
       "array([21.88780779, 22.6417753 , 19.90396027, 15.88845389, 22.05609179])"
      ]
     },
     "execution_count": 17,
     "metadata": {},
     "output_type": "execute_result"
    }
   ],
   "source": [
    "prediction_inv[:5]"
   ]
  },
  {
   "cell_type": "code",
   "execution_count": 16,
   "id": "a2d6eb65-86df-4756-b400-5024dd6c82dc",
   "metadata": {},
   "outputs": [
    {
     "data": {
      "text/html": [
       "<div>\n",
       "<style scoped>\n",
       "    .dataframe tbody tr th:only-of-type {\n",
       "        vertical-align: middle;\n",
       "    }\n",
       "\n",
       "    .dataframe tbody tr th {\n",
       "        vertical-align: top;\n",
       "    }\n",
       "\n",
       "    .dataframe thead th {\n",
       "        text-align: right;\n",
       "    }\n",
       "</style>\n",
       "<table border=\"1\" class=\"dataframe\">\n",
       "  <thead>\n",
       "    <tr style=\"text-align: right;\">\n",
       "      <th></th>\n",
       "      <th>MEDV</th>\n",
       "    </tr>\n",
       "  </thead>\n",
       "  <tbody>\n",
       "    <tr>\n",
       "      <th>327</th>\n",
       "      <td>19.3</td>\n",
       "    </tr>\n",
       "    <tr>\n",
       "      <th>804</th>\n",
       "      <td>23.2</td>\n",
       "    </tr>\n",
       "    <tr>\n",
       "      <th>225</th>\n",
       "      <td>21.9</td>\n",
       "    </tr>\n",
       "    <tr>\n",
       "      <th>1131</th>\n",
       "      <td>23.2</td>\n",
       "    </tr>\n",
       "    <tr>\n",
       "      <th>585</th>\n",
       "      <td>22.2</td>\n",
       "    </tr>\n",
       "  </tbody>\n",
       "</table>\n",
       "</div>"
      ],
      "text/plain": [
       "      MEDV\n",
       "327   19.3\n",
       "804   23.2\n",
       "225   21.9\n",
       "1131  23.2\n",
       "585   22.2"
      ]
     },
     "execution_count": 16,
     "metadata": {},
     "output_type": "execute_result"
    }
   ],
   "source": [
    "y.head(5)"
   ]
  },
  {
   "cell_type": "code",
   "execution_count": null,
   "id": "93720778-0d4e-455f-9056-116a1869e8db",
   "metadata": {},
   "outputs": [],
   "source": []
  }
 ],
 "metadata": {
  "kernelspec": {
   "display_name": "Python 3 (ipykernel)",
   "language": "python",
   "name": "python3"
  },
  "language_info": {
   "codemirror_mode": {
    "name": "ipython",
    "version": 3
   },
   "file_extension": ".py",
   "mimetype": "text/x-python",
   "name": "python",
   "nbconvert_exporter": "python",
   "pygments_lexer": "ipython3",
   "version": "3.9.12"
  }
 },
 "nbformat": 4,
 "nbformat_minor": 5
}
