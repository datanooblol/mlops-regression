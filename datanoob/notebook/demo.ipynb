{
 "cells": [
  {
   "cell_type": "code",
   "execution_count": 1,
   "id": "4805eb3b-8d50-4188-bfaa-b6a4b3820813",
   "metadata": {},
   "outputs": [],
   "source": [
    "%load_ext autoreload\n",
    "%autoreload 2"
   ]
  },
  {
   "cell_type": "code",
   "execution_count": 19,
   "id": "dcc404f1-3a45-480a-b565-000f3326ceca",
   "metadata": {},
   "outputs": [],
   "source": [
    "import pandas as pd\n",
    "import numpy as np\n",
    "\n",
    "from datanooblol.hello_noob import *\n",
    "from datanooblol.get_document import *"
   ]
  },
  {
   "cell_type": "code",
   "execution_count": 6,
   "id": "26ee1e09-70f1-4b51-8b20-7daa3740e77e",
   "metadata": {},
   "outputs": [],
   "source": [
    "name = \"Bank\""
   ]
  },
  {
   "cell_type": "code",
   "execution_count": 8,
   "id": "c79b6202-ff68-462d-b254-75b3c414faf4",
   "metadata": {},
   "outputs": [
    {
     "data": {
      "text/plain": [
       "'yo noob: Bank 555'"
      ]
     },
     "execution_count": 8,
     "metadata": {},
     "output_type": "execute_result"
    }
   ],
   "source": [
    "yo_noob(name, 555)"
   ]
  },
  {
   "cell_type": "code",
   "execution_count": 9,
   "id": "e0ab9164-b428-466f-bc63-9a9edf9f9924",
   "metadata": {},
   "outputs": [
    {
     "data": {
      "text/plain": [
       "'f* noob: Bank555'"
      ]
     },
     "execution_count": 9,
     "metadata": {},
     "output_type": "execute_result"
    }
   ],
   "source": [
    "f_noob(name, 555)"
   ]
  },
  {
   "cell_type": "code",
   "execution_count": 20,
   "id": "cfbd9635-250d-4fdd-bf23-dbe8cd5d0d56",
   "metadata": {},
   "outputs": [
    {
     "data": {
      "text/plain": [
       "'No Noob!!'"
      ]
     },
     "execution_count": 20,
     "metadata": {},
     "output_type": "execute_result"
    }
   ],
   "source": [
    "no_noob()"
   ]
  },
  {
   "cell_type": "code",
   "execution_count": 10,
   "id": "0319a156-e43c-489f-9010-05b1b0654c27",
   "metadata": {},
   "outputs": [
    {
     "data": {
      "text/plain": [
       "\"Who's noob? Bank, you are a NOOB!!\""
      ]
     },
     "execution_count": 10,
     "metadata": {},
     "output_type": "execute_result"
    }
   ],
   "source": [
    "who_noob(name)"
   ]
  },
  {
   "cell_type": "code",
   "execution_count": 12,
   "id": "955db865-39f2-4d56-a760-d7a60a638091",
   "metadata": {},
   "outputs": [],
   "source": [
    "init_doc()"
   ]
  },
  {
   "cell_type": "code",
   "execution_count": 22,
   "id": "f21603e6-d80c-4da3-a2e6-997e222a1ed4",
   "metadata": {},
   "outputs": [],
   "source": [
    "update_doc()"
   ]
  },
  {
   "cell_type": "code",
   "execution_count": 30,
   "id": "7ed083f3-0d25-412f-b203-e68922b6418b",
   "metadata": {},
   "outputs": [
    {
     "data": {
      "text/plain": [
       "0"
      ]
     },
     "execution_count": 30,
     "metadata": {},
     "output_type": "execute_result"
    }
   ],
   "source": [
    "import os\n",
    "source = \"/usr/src/datanoob/_docs/_build/html/*\"\n",
    "target = \"/usr/src/datanoob/document\"\n",
    "os.system(f\"cp -Rf {source} {target}\")"
   ]
  },
  {
   "cell_type": "code",
   "execution_count": 25,
   "id": "6a54d530-8a3f-4a2f-b04b-20aea6db1d07",
   "metadata": {},
   "outputs": [
    {
     "data": {
      "text/plain": [
       "'/usr/src/datanoob/notebook'"
      ]
     },
     "execution_count": 25,
     "metadata": {},
     "output_type": "execute_result"
    }
   ],
   "source": [
    "os.getcwd()"
   ]
  },
  {
   "cell_type": "code",
   "execution_count": null,
   "id": "999460d2-d531-4e07-b08b-60d09c5c8956",
   "metadata": {},
   "outputs": [],
   "source": []
  }
 ],
 "metadata": {
  "kernelspec": {
   "display_name": "Python 3",
   "language": "python",
   "name": "python3"
  },
  "language_info": {
   "codemirror_mode": {
    "name": "ipython",
    "version": 3
   },
   "file_extension": ".py",
   "mimetype": "text/x-python",
   "name": "python",
   "nbconvert_exporter": "python",
   "pygments_lexer": "ipython3",
   "version": "3.9.12"
  }
 },
 "nbformat": 4,
 "nbformat_minor": 5
}
