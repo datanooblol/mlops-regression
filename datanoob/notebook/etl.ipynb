{
 "cells": [
  {
   "cell_type": "code",
   "execution_count": 1,
   "id": "6fd6849d-e90f-4719-9906-50fe18036898",
   "metadata": {},
   "outputs": [],
   "source": [
    "%load_ext autoreload\n",
    "%autoreload 2"
   ]
  },
  {
   "cell_type": "code",
   "execution_count": 32,
   "id": "823b0b9a-38a6-43c0-8a67-6cf4d3393853",
   "metadata": {},
   "outputs": [],
   "source": [
    "import pandas as pd\n",
    "import numpy as np\n",
    "import os\n",
    "from datanooblol.configuration.config_manager import LoadFeatureConfig, LoadRepoConfig\n",
    "from datanooblol.extractor.data_extractor import DataExtractor\n",
    "from datanooblol.uploader.data_uploader import DataUploader\n",
    "from datanooblol.data_quality.health_check import HealthCheck"
   ]
  },
  {
   "cell_type": "code",
   "execution_count": 51,
   "id": "f6116e39-cd24-4d8f-95f2-810a4ba1832a",
   "metadata": {},
   "outputs": [],
   "source": [
    "FEATURE_GROUPS = [\"target\", \"proportion\", \"geography\", \"toxic\", \"monetary\"]"
   ]
  },
  {
   "cell_type": "code",
   "execution_count": 55,
   "id": "7b70833a-bd90-4c7b-a97d-c0a00c118226",
   "metadata": {},
   "outputs": [],
   "source": [
    "hc = HealthCheck()\n",
    "dxtr = DataExtractor(end_date=\"2022-04-01\", start_date=\"2022-04-01\")\n",
    "dulr = DataUploader()"
   ]
  },
  {
   "cell_type": "code",
   "execution_count": 48,
   "id": "8c75b9f7-c302-404c-8319-c48d52a90d13",
   "metadata": {},
   "outputs": [],
   "source": [
    "# save to staging: cleaned\n",
    "\n",
    "for feature_grp in FEATURE_GROUPS:\n",
    "    dulr.upload_zone(zone=\"staging\", step=\"cleaned\", feature_grp=feature_grp, \n",
    "                     data=dxtr.extract_zone(zone=\"landing\", \n",
    "                                            step=None, \n",
    "                                            feature_grp=feature_grp))"
   ]
  },
  {
   "cell_type": "code",
   "execution_count": 49,
   "id": "74ae22ca-4fb5-437a-b36e-b64f24aa2e17",
   "metadata": {},
   "outputs": [],
   "source": [
    "# save to staging: aggregated\n",
    "\n",
    "for feature_grp in FEATURE_GROUPS:\n",
    "    dulr.upload_zone(zone=\"staging\", step=\"aggregated\", feature_grp=feature_grp, \n",
    "                     data=dxtr.extract_zone(zone=\"staging\", \n",
    "                                            step=\"cleaned\", \n",
    "                                            feature_grp=feature_grp))"
   ]
  },
  {
   "cell_type": "code",
   "execution_count": 61,
   "id": "62f59767-acdf-422f-b6ad-ce73cf1ed796",
   "metadata": {},
   "outputs": [],
   "source": [
    "# save to feature_store\n",
    "\n",
    "for feature_grp in FEATURE_GROUPS:\n",
    "    dulr.upload_feature_store(feature_grp=feature_grp, \n",
    "                     data=dxtr.extract_zone(zone=\"staging\", \n",
    "                                            step=\"aggregated\", \n",
    "                                            feature_grp=feature_grp))"
   ]
  }
 ],
 "metadata": {
  "kernelspec": {
   "display_name": "Python 3",
   "language": "python",
   "name": "python3"
  },
  "language_info": {
   "codemirror_mode": {
    "name": "ipython",
    "version": 3
   },
   "file_extension": ".py",
   "mimetype": "text/x-python",
   "name": "python",
   "nbconvert_exporter": "python",
   "pygments_lexer": "ipython3",
   "version": "3.9.12"
  }
 },
 "nbformat": 4,
 "nbformat_minor": 5
}
