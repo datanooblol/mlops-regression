{
 "cells": [
  {
   "cell_type": "code",
   "execution_count": 4,
   "id": "805393f7-aefd-4087-8bcf-6cbc3345e628",
   "metadata": {},
   "outputs": [
    {
     "name": "stdout",
     "output_type": "stream",
     "text": [
      "The autoreload extension is already loaded. To reload it, use:\n",
      "  %reload_ext autoreload\n"
     ]
    }
   ],
   "source": [
    "%load_ext autoreload\n",
    "%autoreload 2"
   ]
  },
  {
   "cell_type": "code",
   "execution_count": 5,
   "id": "77243ca3-09bd-4983-9e3b-5ba7dc48b18c",
   "metadata": {},
   "outputs": [],
   "source": [
    "from datanooblol.serving.serving_manager import Serving\n",
    "from datanooblol.extractor.reference_extractor import ReferenceExtractor"
   ]
  },
  {
   "cell_type": "markdown",
   "id": "f29e6d04-8467-4420-ac6c-228e7892e3e2",
   "metadata": {},
   "source": [
    "# Initialize  \n",
    "- ReferenceExtractor class for data extraction"
   ]
  },
  {
   "cell_type": "code",
   "execution_count": 6,
   "id": "1e830488-6493-4270-9644-002ad61a2b9b",
   "metadata": {},
   "outputs": [],
   "source": [
    "data = ReferenceExtractor(DEBUG=False)"
   ]
  },
  {
   "cell_type": "markdown",
   "id": "dbafd1cf-80b0-44df-8619-742f05c3aa02",
   "metadata": {},
   "source": [
    "# Initialize \n",
    "- Serving class to get experiment and model objects for model explanability"
   ]
  },
  {
   "cell_type": "code",
   "execution_count": 21,
   "id": "9ae67f1c-9e4a-4ab8-86b3-616921dc06e2",
   "metadata": {},
   "outputs": [],
   "source": [
    "run_id = \"1500de2128ac4208889e029fb096f255\"\n",
    "project = \"boston_regression\"\n",
    "serving = Serving(project=project, run_id=run_id)\n",
    "loaded_exp, loaded_model = serving.get_serving_object"
   ]
  },
  {
   "cell_type": "code",
   "execution_count": 8,
   "id": "97cecd37-02ee-4004-a946-c8b7953f8568",
   "metadata": {},
   "outputs": [],
   "source": [
    "# X = loaded_exp.transform(data.X_test)\n",
    "X = data.X_test\n",
    "y = data.y_test"
   ]
  },
  {
   "cell_type": "code",
   "execution_count": 10,
   "id": "83ea3282-59d5-4067-9564-d46de7211587",
   "metadata": {},
   "outputs": [
    {
     "data": {
      "text/plain": [
       "array([-0.14493266, -0.0120132 , -0.08502323, -0.75512264,  0.18313077,\n",
       "       -0.55588658,  0.90614685,  0.02774312, -0.62831502, -0.24713315,\n",
       "       -0.0048588 ,  0.39215901,  0.03123153,  1.97205404, -0.19826327,\n",
       "       -0.01551686,  0.64903178, -0.91026984, -0.30263056, -0.19054094,\n",
       "       -0.5782605 ,  2.00886173, -0.7094106 ,  0.04101995,  0.12876394,\n",
       "        0.50834385,  0.08764791,  0.39215901,  0.86132095, -0.11009639,\n",
       "       -0.85948771,  2.00886173, -0.25089759, -0.01289877,  0.59927955,\n",
       "        0.45267687,  0.10164569, -0.15253292, -0.48289112, -0.59470797,\n",
       "       -0.03282731,  1.93734885,  2.00886173,  0.35185384, -0.52643349,\n",
       "       -0.12815931, -0.89753318, -0.58810419,  0.11542639, -0.01089939,\n",
       "        0.50676967, -0.10824389,  0.14986429,  0.38077236,  0.05688032,\n",
       "       -0.74616731,  0.10486564,  0.35383832, -0.14097432, -0.73712472,\n",
       "        2.00886173, -0.11441   , -0.17944221, -0.59159969, -0.64670442,\n",
       "       -0.10647832, -0.00287243, -0.69895654, -0.77011826, -0.10935097,\n",
       "        0.06465904,  1.99538379, -0.10048352, -0.26505029, -0.58069528,\n",
       "       -1.2830669 ])"
      ]
     },
     "execution_count": 10,
     "metadata": {},
     "output_type": "execute_result"
    }
   ],
   "source": [
    "loaded_model.predict(loaded_exp.X.transform(X))"
   ]
  },
  {
   "cell_type": "code",
   "execution_count": 11,
   "id": "6d5f0b0e-8b9e-434d-878f-a5d7c5a29862",
   "metadata": {},
   "outputs": [
    {
     "data": {
      "text/plain": [
       "array([-0.14493266, -0.0120132 , -0.08502323, -0.75512264,  0.18313077,\n",
       "       -0.55588658,  0.90614685,  0.02774312, -0.62831502, -0.24713315,\n",
       "       -0.0048588 ,  0.39215901,  0.03123153,  1.97205404, -0.19826327,\n",
       "       -0.01551686,  0.64903178, -0.91026984, -0.30263056, -0.19054094,\n",
       "       -0.5782605 ,  2.00886173, -0.7094106 ,  0.04101995,  0.12876394,\n",
       "        0.50834385,  0.08764791,  0.39215901,  0.86132095, -0.11009639,\n",
       "       -0.85948771,  2.00886173, -0.25089759, -0.01289877,  0.59927955,\n",
       "        0.45267687,  0.10164569, -0.15253292, -0.48289112, -0.59470797,\n",
       "       -0.03282731,  1.93734885,  2.00886173,  0.35185384, -0.52643349,\n",
       "       -0.12815931, -0.89753318, -0.58810419,  0.11542639, -0.01089939,\n",
       "        0.50676967, -0.10824389,  0.14986429,  0.38077236,  0.05688032,\n",
       "       -0.74616731,  0.10486564,  0.35383832, -0.14097432, -0.73712472,\n",
       "        2.00886173, -0.11441   , -0.17944221, -0.59159969, -0.64670442,\n",
       "       -0.10647832, -0.00287243, -0.69895654, -0.77011826, -0.10935097,\n",
       "        0.06465904,  1.99538379, -0.10048352, -0.26505029, -0.58069528,\n",
       "       -1.2830669 ])"
      ]
     },
     "execution_count": 11,
     "metadata": {},
     "output_type": "execute_result"
    }
   ],
   "source": [
    "serving.predict(X)"
   ]
  },
  {
   "cell_type": "markdown",
   "id": "cfa1bf6a-37c1-4feb-a638-2c66e4b7f197",
   "metadata": {},
   "source": [
    "# Start Shapash Dashboard"
   ]
  },
  {
   "cell_type": "code",
   "execution_count": 23,
   "id": "bc6c9a6c-f804-4830-b8fb-b492757e0b45",
   "metadata": {
    "tags": []
   },
   "outputs": [
    {
     "name": "stdout",
     "output_type": "stream",
     "text": [
      "Dash is running on http://0.0.0.0:8050/\n",
      "\n"
     ]
    },
    {
     "name": "stderr",
     "output_type": "stream",
     "text": [
      "/opt/conda/lib/python3.9/site-packages/shapash/webapp/smart_app.py:309: FutureWarning:\n",
      "\n",
      "Using short name for 'orient' is deprecated. Only the options: ('dict', list, 'series', 'split', 'records', 'index') will be used in a future version. Use one of the above to silence this warning.\n",
      "\n",
      "INFO:root:Your Shapash application run on http://40f1bf1c81b8:8050/\n"
     ]
    },
    {
     "name": "stdout",
     "output_type": "stream",
     "text": [
      "Dash is running on http://0.0.0.0:8050/\n",
      "\n"
     ]
    },
    {
     "name": "stderr",
     "output_type": "stream",
     "text": [
      "INFO:root:Use the method .kill() to down your app.\n",
      "INFO:shapash.webapp.smart_app:Dash is running on http://0.0.0.0:8050/\n",
      "\n"
     ]
    },
    {
     "name": "stdout",
     "output_type": "stream",
     "text": [
      " * Serving Flask app 'shapash.webapp.smart_app' (lazy loading)\n",
      " * Environment: production\n",
      "\u001b[31m   WARNING: This is a development server. Do not use it in a production deployment.\u001b[0m\n",
      "\u001b[2m   Use a production WSGI server instead.\u001b[0m\n",
      " * Debug mode: off\n"
     ]
    },
    {
     "name": "stderr",
     "output_type": "stream",
     "text": [
      "WARNING:werkzeug: * Running on all addresses.\n",
      "   WARNING: This is a development server. Do not use it in a production deployment.\n",
      "INFO:werkzeug: * Running on http://192.168.0.5:8050/ (Press CTRL+C to quit)\n",
      "INFO:werkzeug:192.168.0.1 - - [25/Jul/2022 14:57:39] \"GET / HTTP/1.1\" 200 -\n",
      "INFO:werkzeug:192.168.0.1 - - [25/Jul/2022 14:57:39] \"\u001b[36mGET /assets/material-icons.css?m=1658601578.98 HTTP/1.1\u001b[0m\" 304 -\n",
      "INFO:werkzeug:192.168.0.1 - - [25/Jul/2022 14:57:39] \"\u001b[36mGET /assets/style.css?m=1658601578.99 HTTP/1.1\u001b[0m\" 304 -\n",
      "INFO:werkzeug:192.168.0.1 - - [25/Jul/2022 14:57:39] \"\u001b[36mGET /assets/jquery.js?m=1658601578.98 HTTP/1.1\u001b[0m\" 304 -\n",
      "INFO:werkzeug:192.168.0.1 - - [25/Jul/2022 14:57:39] \"\u001b[36mGET /assets/main.js?m=1658601578.98 HTTP/1.1\u001b[0m\" 304 -\n",
      "INFO:werkzeug:192.168.0.1 - - [25/Jul/2022 14:57:40] \"GET /_dash-dependencies HTTP/1.1\" 200 -\n",
      "INFO:werkzeug:192.168.0.1 - - [25/Jul/2022 14:57:40] \"GET /_dash-layout HTTP/1.1\" 200 -\n",
      "INFO:werkzeug:192.168.0.1 - - [25/Jul/2022 14:57:40] \"GET /_dash-component-suites/dash/dcc/async-dropdown.js HTTP/1.1\" 200 -\n",
      "INFO:werkzeug:192.168.0.1 - - [25/Jul/2022 14:57:40] \"GET /_dash-component-suites/dash/dcc/async-graph.js HTTP/1.1\" 200 -\n",
      "INFO:werkzeug:192.168.0.1 - - [25/Jul/2022 14:57:40] \"GET /_dash-component-suites/dash/dash_table/async-highlight.js HTTP/1.1\" 200 -\n",
      "INFO:werkzeug:192.168.0.1 - - [25/Jul/2022 14:57:40] \"GET /_dash-component-suites/dash/dash_table/async-table.js HTTP/1.1\" 200 -\n",
      "INFO:werkzeug:192.168.0.1 - - [25/Jul/2022 14:57:40] \"GET /_dash-component-suites/dash/dcc/async-plotlyjs.js HTTP/1.1\" 200 -\n",
      "INFO:werkzeug:192.168.0.1 - - [25/Jul/2022 14:57:40] \"GET /_dash-component-suites/dash/dcc/async-slider.js HTTP/1.1\" 200 -\n",
      "INFO:werkzeug:192.168.0.1 - - [25/Jul/2022 14:57:40] \"\u001b[36mGET /assets/shapash-fond-fonce.png HTTP/1.1\u001b[0m\" 304 -\n",
      "INFO:werkzeug:192.168.0.1 - - [25/Jul/2022 14:57:40] \"\u001b[36mGET /assets/reload.png HTTP/1.1\u001b[0m\" 304 -\n",
      "INFO:werkzeug:192.168.0.1 - - [25/Jul/2022 14:57:40] \"\u001b[36mGET /assets/settings.png HTTP/1.1\u001b[0m\" 304 -\n",
      "INFO:werkzeug:192.168.0.1 - - [25/Jul/2022 14:57:40] \"POST /_dash-update-component HTTP/1.1\" 200 -\n",
      "INFO:werkzeug:192.168.0.1 - - [25/Jul/2022 14:57:40] \"POST /_dash-update-component HTTP/1.1\" 200 -\n",
      "INFO:werkzeug:192.168.0.1 - - [25/Jul/2022 14:57:40] \"POST /_dash-update-component HTTP/1.1\" 200 -\n",
      "INFO:werkzeug:192.168.0.1 - - [25/Jul/2022 14:57:40] \"POST /_dash-update-component HTTP/1.1\" 200 -\n",
      "INFO:werkzeug:192.168.0.1 - - [25/Jul/2022 14:57:40] \"POST /_dash-update-component HTTP/1.1\" 200 -\n",
      "INFO:werkzeug:192.168.0.1 - - [25/Jul/2022 14:57:40] \"POST /_dash-update-component HTTP/1.1\" 200 -\n",
      "INFO:werkzeug:192.168.0.1 - - [25/Jul/2022 14:57:40] \"POST /_dash-update-component HTTP/1.1\" 200 -\n",
      "INFO:werkzeug:192.168.0.1 - - [25/Jul/2022 14:57:40] \"POST /_dash-update-component HTTP/1.1\" 200 -\n",
      "INFO:werkzeug:192.168.0.1 - - [25/Jul/2022 14:57:40] \"POST /_dash-update-component HTTP/1.1\" 200 -\n",
      "INFO:werkzeug:192.168.0.1 - - [25/Jul/2022 14:57:40] \"POST /_dash-update-component HTTP/1.1\" 200 -\n",
      "INFO:werkzeug:192.168.0.1 - - [25/Jul/2022 14:57:40] \"POST /_dash-update-component HTTP/1.1\" 200 -\n",
      "/opt/conda/lib/python3.9/site-packages/shapash/webapp/smart_app.py:826: FutureWarning:\n",
      "\n",
      "Using short name for 'orient' is deprecated. Only the options: ('dict', list, 'series', 'split', 'records', 'index') will be used in a future version. Use one of the above to silence this warning.\n",
      "\n",
      "INFO:werkzeug:192.168.0.1 - - [25/Jul/2022 14:57:40] \"POST /_dash-update-component HTTP/1.1\" 200 -\n",
      "INFO:werkzeug:192.168.0.1 - - [25/Jul/2022 14:57:41] \"POST /_dash-update-component HTTP/1.1\" 200 -\n",
      "INFO:werkzeug:192.168.0.1 - - [25/Jul/2022 14:57:41] \"POST /_dash-update-component HTTP/1.1\" 200 -\n",
      "INFO:werkzeug:192.168.0.1 - - [25/Jul/2022 14:57:41] \"POST /_dash-update-component HTTP/1.1\" 200 -\n",
      "INFO:werkzeug:192.168.0.1 - - [25/Jul/2022 14:57:41] \"POST /_dash-update-component HTTP/1.1\" 200 -\n",
      "INFO:werkzeug:192.168.0.1 - - [25/Jul/2022 14:57:41] \"POST /_dash-update-component HTTP/1.1\" 200 -\n",
      "INFO:werkzeug:192.168.0.1 - - [25/Jul/2022 14:57:41] \"POST /_dash-update-component HTTP/1.1\" 200 -\n",
      "INFO:werkzeug:192.168.0.1 - - [25/Jul/2022 14:57:41] \"POST /_dash-update-component HTTP/1.1\" 200 -\n",
      "INFO:werkzeug:192.168.0.1 - - [25/Jul/2022 14:57:46] \"\u001b[35m\u001b[1mPOST /_dash-update-component HTTP/1.1\u001b[0m\" 204 -\n",
      "INFO:werkzeug:192.168.0.1 - - [25/Jul/2022 14:57:46] \"POST /_dash-update-component HTTP/1.1\" 200 -\n",
      "INFO:werkzeug:192.168.0.1 - - [25/Jul/2022 14:57:59] \"\u001b[35m\u001b[1mPOST /_dash-update-component HTTP/1.1\u001b[0m\" 204 -\n",
      "INFO:werkzeug:192.168.0.1 - - [25/Jul/2022 14:57:59] \"POST /_dash-update-component HTTP/1.1\" 200 -\n",
      "INFO:werkzeug:192.168.0.1 - - [25/Jul/2022 14:58:04] \"\u001b[35m\u001b[1mPOST /_dash-update-component HTTP/1.1\u001b[0m\" 204 -\n",
      "INFO:werkzeug:192.168.0.1 - - [25/Jul/2022 14:58:04] \"POST /_dash-update-component HTTP/1.1\" 200 -\n",
      "INFO:werkzeug:192.168.0.1 - - [25/Jul/2022 14:58:04] \"\u001b[35m\u001b[1mPOST /_dash-update-component HTTP/1.1\u001b[0m\" 204 -\n",
      "INFO:werkzeug:192.168.0.1 - - [25/Jul/2022 14:58:05] \"POST /_dash-update-component HTTP/1.1\" 200 -\n",
      "INFO:werkzeug:192.168.0.1 - - [25/Jul/2022 14:58:05] \"\u001b[35m\u001b[1mPOST /_dash-update-component HTTP/1.1\u001b[0m\" 204 -\n",
      "INFO:werkzeug:192.168.0.1 - - [25/Jul/2022 14:58:05] \"POST /_dash-update-component HTTP/1.1\" 200 -\n",
      "INFO:werkzeug:192.168.0.1 - - [25/Jul/2022 14:58:06] \"\u001b[35m\u001b[1mPOST /_dash-update-component HTTP/1.1\u001b[0m\" 204 -\n",
      "INFO:werkzeug:192.168.0.1 - - [25/Jul/2022 14:58:06] \"POST /_dash-update-component HTTP/1.1\" 200 -\n",
      "INFO:werkzeug:192.168.0.1 - - [25/Jul/2022 14:58:06] \"\u001b[35m\u001b[1mPOST /_dash-update-component HTTP/1.1\u001b[0m\" 204 -\n",
      "INFO:werkzeug:192.168.0.1 - - [25/Jul/2022 14:58:07] \"\u001b[35m\u001b[1mPOST /_dash-update-component HTTP/1.1\u001b[0m\" 204 -\n",
      "INFO:werkzeug:192.168.0.1 - - [25/Jul/2022 14:58:07] \"POST /_dash-update-component HTTP/1.1\" 200 -\n",
      "INFO:werkzeug:192.168.0.1 - - [25/Jul/2022 14:58:08] \"\u001b[35m\u001b[1mPOST /_dash-update-component HTTP/1.1\u001b[0m\" 204 -\n",
      "INFO:werkzeug:192.168.0.1 - - [25/Jul/2022 14:58:08] \"POST /_dash-update-component HTTP/1.1\" 200 -\n",
      "INFO:werkzeug:192.168.0.1 - - [25/Jul/2022 14:58:09] \"\u001b[35m\u001b[1mPOST /_dash-update-component HTTP/1.1\u001b[0m\" 204 -\n",
      "INFO:werkzeug:192.168.0.1 - - [25/Jul/2022 14:58:09] \"POST /_dash-update-component HTTP/1.1\" 200 -\n",
      "INFO:werkzeug:192.168.0.1 - - [25/Jul/2022 14:58:10] \"\u001b[35m\u001b[1mPOST /_dash-update-component HTTP/1.1\u001b[0m\" 204 -\n",
      "INFO:werkzeug:192.168.0.1 - - [25/Jul/2022 14:58:10] \"\u001b[35m\u001b[1mPOST /_dash-update-component HTTP/1.1\u001b[0m\" 204 -\n",
      "INFO:werkzeug:192.168.0.1 - - [25/Jul/2022 14:58:10] \"POST /_dash-update-component HTTP/1.1\" 200 -\n",
      "INFO:werkzeug:192.168.0.1 - - [25/Jul/2022 14:58:12] \"\u001b[35m\u001b[1mPOST /_dash-update-component HTTP/1.1\u001b[0m\" 204 -\n",
      "INFO:werkzeug:192.168.0.1 - - [25/Jul/2022 14:58:12] \"POST /_dash-update-component HTTP/1.1\" 200 -\n",
      "INFO:werkzeug:192.168.0.1 - - [25/Jul/2022 14:58:13] \"\u001b[35m\u001b[1mPOST /_dash-update-component HTTP/1.1\u001b[0m\" 204 -\n",
      "INFO:werkzeug:192.168.0.1 - - [25/Jul/2022 15:18:40] \"\u001b[35m\u001b[1mPOST /_dash-update-component HTTP/1.1\u001b[0m\" 204 -\n",
      "INFO:werkzeug:192.168.0.1 - - [25/Jul/2022 15:19:01] \"\u001b[35m\u001b[1mPOST /_dash-update-component HTTP/1.1\u001b[0m\" 204 -\n"
     ]
    }
   ],
   "source": [
    "# from shapash.explainer.smart_explainer import SmartExplainer\n",
    "from shapash import SmartExplainer\n",
    "xpl = SmartExplainer(model=loaded_model)\n",
    "xpl.compile(\n",
    "    x=loaded_exp.X.transform(X),\n",
    "    y_pred=loaded_exp.y.transform(y),\n",
    ")\n",
    "app = xpl.run_app(title_story='House Prices')"
   ]
  },
  {
   "cell_type": "code",
   "execution_count": 22,
   "id": "a7cbbd94-5a46-4fd8-bc67-4e1e46099adf",
   "metadata": {},
   "outputs": [],
   "source": [
    "app.kill()"
   ]
  },
  {
   "cell_type": "code",
   "execution_count": null,
   "id": "d29302e2-686f-47d3-a884-ac5ecb83ec13",
   "metadata": {},
   "outputs": [],
   "source": []
  }
 ],
 "metadata": {
  "kernelspec": {
   "display_name": "Python 3 (ipykernel)",
   "language": "python",
   "name": "python3"
  },
  "language_info": {
   "codemirror_mode": {
    "name": "ipython",
    "version": 3
   },
   "file_extension": ".py",
   "mimetype": "text/x-python",
   "name": "python",
   "nbconvert_exporter": "python",
   "pygments_lexer": "ipython3",
   "version": "3.9.12"
  }
 },
 "nbformat": 4,
 "nbformat_minor": 5
}
