{
 "cells": [
  {
   "cell_type": "code",
   "execution_count": 2,
   "id": "805393f7-aefd-4087-8bcf-6cbc3345e628",
   "metadata": {},
   "outputs": [],
   "source": [
    "%load_ext autoreload\n",
    "%autoreload 2"
   ]
  },
  {
   "cell_type": "code",
   "execution_count": 3,
   "id": "77243ca3-09bd-4983-9e3b-5ba7dc48b18c",
   "metadata": {},
   "outputs": [],
   "source": [
    "from datanooblol.serving.serving_manager import Serving\n",
    "from datanooblol.extractor.reference_extractor import ReferenceExtractor"
   ]
  },
  {
   "cell_type": "markdown",
   "id": "f29e6d04-8467-4420-ac6c-228e7892e3e2",
   "metadata": {},
   "source": [
    "# Initialize  \n",
    "- ReferenceExtractor class for data extraction"
   ]
  },
  {
   "cell_type": "code",
   "execution_count": 4,
   "id": "1e830488-6493-4270-9644-002ad61a2b9b",
   "metadata": {},
   "outputs": [],
   "source": [
    "data = ReferenceExtractor(DEBUG=False)"
   ]
  },
  {
   "cell_type": "markdown",
   "id": "dbafd1cf-80b0-44df-8619-742f05c3aa02",
   "metadata": {},
   "source": [
    "# Initialize \n",
    "- Serving class to get experiment and model objects for model explanability"
   ]
  },
  {
   "cell_type": "code",
   "execution_count": 5,
   "id": "9ae67f1c-9e4a-4ab8-86b3-616921dc06e2",
   "metadata": {},
   "outputs": [],
   "source": [
    "# best model with sacled X and y\n",
    "\n",
    "run_id = \"1500de2128ac4208889e029fb096f255\"\n",
    "project = \"boston_regression\"\n",
    "serving = Serving(project=project, run_id=run_id)\n",
    "loaded_exp, loaded_model = serving.get_serving_object"
   ]
  },
  {
   "cell_type": "code",
   "execution_count": 32,
   "id": "97cecd37-02ee-4004-a946-c8b7953f8568",
   "metadata": {},
   "outputs": [],
   "source": [
    "# X = loaded_exp.transform(data.X_test)\n",
    "X = data.X_test\n",
    "y = data.y_test"
   ]
  },
  {
   "cell_type": "code",
   "execution_count": 34,
   "id": "df460469-2235-447f-acca-969ddea6e811",
   "metadata": {},
   "outputs": [
    {
     "data": {
      "text/html": [
       "<div>\n",
       "<style scoped>\n",
       "    .dataframe tbody tr th:only-of-type {\n",
       "        vertical-align: middle;\n",
       "    }\n",
       "\n",
       "    .dataframe tbody tr th {\n",
       "        vertical-align: top;\n",
       "    }\n",
       "\n",
       "    .dataframe thead th {\n",
       "        text-align: right;\n",
       "    }\n",
       "</style>\n",
       "<table border=\"1\" class=\"dataframe\">\n",
       "  <thead>\n",
       "    <tr style=\"text-align: right;\">\n",
       "      <th></th>\n",
       "      <th>CHAS</th>\n",
       "      <th>DIS</th>\n",
       "      <th>RAD</th>\n",
       "      <th>TAX</th>\n",
       "      <th>B</th>\n",
       "      <th>INDUS</th>\n",
       "      <th>LSTAT</th>\n",
       "      <th>PTRATIO</th>\n",
       "      <th>RM</th>\n",
       "      <th>ZN</th>\n",
       "      <th>NOX</th>\n",
       "    </tr>\n",
       "  </thead>\n",
       "  <tbody>\n",
       "    <tr>\n",
       "      <th>327</th>\n",
       "      <td>0</td>\n",
       "      <td>5.2146</td>\n",
       "      <td>4</td>\n",
       "      <td>430.0</td>\n",
       "      <td>382.44</td>\n",
       "      <td>3.24</td>\n",
       "      <td>9.97</td>\n",
       "      <td>16.9</td>\n",
       "      <td>5.868</td>\n",
       "      <td>0.0</td>\n",
       "      <td>0.46</td>\n",
       "    </tr>\n",
       "  </tbody>\n",
       "</table>\n",
       "</div>"
      ],
      "text/plain": [
       "     CHAS     DIS  RAD    TAX       B  INDUS  LSTAT  PTRATIO     RM   ZN   NOX\n",
       "327     0  5.2146    4  430.0  382.44   3.24   9.97     16.9  5.868  0.0  0.46"
      ]
     },
     "execution_count": 34,
     "metadata": {},
     "output_type": "execute_result"
    }
   ],
   "source": [
    "X.head(1)"
   ]
  },
  {
   "cell_type": "code",
   "execution_count": 35,
   "id": "26dea0c8-ada2-49f8-a871-d5f61c7eb9b3",
   "metadata": {},
   "outputs": [
    {
     "data": {
      "text/html": [
       "<div>\n",
       "<style scoped>\n",
       "    .dataframe tbody tr th:only-of-type {\n",
       "        vertical-align: middle;\n",
       "    }\n",
       "\n",
       "    .dataframe tbody tr th {\n",
       "        vertical-align: top;\n",
       "    }\n",
       "\n",
       "    .dataframe thead th {\n",
       "        text-align: right;\n",
       "    }\n",
       "</style>\n",
       "<table border=\"1\" class=\"dataframe\">\n",
       "  <thead>\n",
       "    <tr style=\"text-align: right;\">\n",
       "      <th></th>\n",
       "      <th>MEDV</th>\n",
       "    </tr>\n",
       "  </thead>\n",
       "  <tbody>\n",
       "    <tr>\n",
       "      <th>327</th>\n",
       "      <td>19.3</td>\n",
       "    </tr>\n",
       "  </tbody>\n",
       "</table>\n",
       "</div>"
      ],
      "text/plain": [
       "     MEDV\n",
       "327  19.3"
      ]
     },
     "execution_count": 35,
     "metadata": {},
     "output_type": "execute_result"
    }
   ],
   "source": [
    "y.head(1)"
   ]
  },
  {
   "cell_type": "code",
   "execution_count": 36,
   "id": "83ea3282-59d5-4067-9564-d46de7211587",
   "metadata": {},
   "outputs": [
    {
     "data": {
      "text/plain": [
       "array([-0.13982345, -0.06713594, -0.33107962, -0.71820128, -0.12359975,\n",
       "       -0.6925384 ,  1.28186236, -0.10282383, -0.94152879, -0.17217172,\n",
       "        0.06307094,  0.30365228, -0.0365177 ,  2.54822543, -0.15939508,\n",
       "        0.08595067,  0.61789831, -1.61068665, -0.57264776, -0.42921192,\n",
       "       -0.87038574,  2.34141652, -0.85614742,  0.15733958,  0.14295355,\n",
       "        1.31272662, -0.08054178,  0.12113284,  0.81042047, -0.13355268,\n",
       "       -1.18897364,  2.58666487, -0.27938957, -0.2243867 ,  0.44027217,\n",
       "        0.54797684,  0.19961784, -0.29571098, -0.67845039, -0.39287742,\n",
       "        0.16071993,  2.6024893 ,  2.70930851,  0.62633385, -0.82866952,\n",
       "       -0.27487982, -1.44331296, -0.50277446, -0.07614733, -0.28253879,\n",
       "        0.37430755,  0.04297493,  0.11891973,  0.25462666,  0.21257489,\n",
       "       -1.04252742,  0.04550167,  0.43753919, -0.18952641, -0.64955593,\n",
       "        2.04530194, -0.19999608, -0.23005793, -0.68021695, -0.8618017 ,\n",
       "       -0.15402089, -0.12787075, -0.75412108, -1.21993289, -0.34886311,\n",
       "        0.2865213 ,  2.61516921, -0.15086779, -0.29946729, -0.57898826,\n",
       "       -1.45070566])"
      ]
     },
     "execution_count": 36,
     "metadata": {},
     "output_type": "execute_result"
    }
   ],
   "source": [
    "loaded_model.predict(loaded_exp.X.transform(X))"
   ]
  },
  {
   "cell_type": "code",
   "execution_count": 37,
   "id": "31d2f42e-8c6f-48d5-8393-b01d431b239a",
   "metadata": {},
   "outputs": [
    {
     "data": {
      "text/plain": [
       "array([-0.13982345, -0.06713594, -0.33107962, -0.71820128, -0.12359975,\n",
       "       -0.6925384 ,  1.28186236, -0.10282383, -0.94152879, -0.17217172,\n",
       "        0.06307094,  0.30365228, -0.0365177 ,  2.54822543, -0.15939508,\n",
       "        0.08595067,  0.61789831, -1.61068665, -0.57264776, -0.42921192,\n",
       "       -0.87038574,  2.34141652, -0.85614742,  0.15733958,  0.14295355,\n",
       "        1.31272662, -0.08054178,  0.12113284,  0.81042047, -0.13355268,\n",
       "       -1.18897364,  2.58666487, -0.27938957, -0.2243867 ,  0.44027217,\n",
       "        0.54797684,  0.19961784, -0.29571098, -0.67845039, -0.39287742,\n",
       "        0.16071993,  2.6024893 ,  2.70930851,  0.62633385, -0.82866952,\n",
       "       -0.27487982, -1.44331296, -0.50277446, -0.07614733, -0.28253879,\n",
       "        0.37430755,  0.04297493,  0.11891973,  0.25462666,  0.21257489,\n",
       "       -1.04252742,  0.04550167,  0.43753919, -0.18952641, -0.64955593,\n",
       "        2.04530194, -0.19999608, -0.23005793, -0.68021695, -0.8618017 ,\n",
       "       -0.15402089, -0.12787075, -0.75412108, -1.21993289, -0.34886311,\n",
       "        0.2865213 ,  2.61516921, -0.15086779, -0.29946729, -0.57898826,\n",
       "       -1.45070566])"
      ]
     },
     "execution_count": 37,
     "metadata": {},
     "output_type": "execute_result"
    }
   ],
   "source": [
    "serving.predict(X, inverse_y=False)"
   ]
  },
  {
   "cell_type": "code",
   "execution_count": 38,
   "id": "6d5f0b0e-8b9e-434d-878f-a5d7c5a29862",
   "metadata": {},
   "outputs": [
    {
     "data": {
      "text/plain": [
       "array([21.88780779, 22.6417753 , 19.90396027, 15.88845389, 22.05609179,\n",
       "       16.15464791, 36.63456291, 22.27159465, 13.57193921, 21.55226812,\n",
       "       23.99237541, 26.4878593 , 22.95936981, 49.77019813, 21.68479667,\n",
       "       24.22970051, 29.74744682,  6.63094911, 17.39824047, 18.88606091,\n",
       "       14.3098865 , 47.62502631, 14.45757663, 24.97019803, 24.82097567,\n",
       "       36.95470937, 22.50272016, 24.59463544, 31.7444261 , 21.95285278,\n",
       "       11.00526201, 50.16891979, 20.44012691, 21.01065652, 27.90497979,\n",
       "       29.0221707 , 25.40873874, 20.27082939, 16.30077896, 19.26294864,\n",
       "       25.00526148, 50.33306228, 51.4410685 , 29.83494628, 14.74259732,\n",
       "       20.48690523,  8.36707024, 18.12301701, 22.5483026 , 20.40746091,\n",
       "       27.220747  , 23.783925  , 24.57167951, 25.97933009, 25.54313862,\n",
       "       12.52430826, 23.81013419, 27.87663138, 21.37225266, 16.6004932 ,\n",
       "       44.55351136, 21.26365369, 20.95183042, 16.28245491, 14.3989263 ,\n",
       "       21.74054165, 22.01178983, 15.51586778, 10.68413018, 19.71949701,\n",
       "       26.31016442, 50.46458745, 21.77324788, 20.23186622, 17.33247226,\n",
       "        8.29038781])"
      ]
     },
     "execution_count": 38,
     "metadata": {},
     "output_type": "execute_result"
    }
   ],
   "source": [
    "serving.predict(X, inverse_y=True)"
   ]
  },
  {
   "cell_type": "code",
   "execution_count": null,
   "id": "2bd57279-b225-46d8-b587-2a2003912abe",
   "metadata": {},
   "outputs": [],
   "source": []
  },
  {
   "cell_type": "markdown",
   "id": "cfa1bf6a-37c1-4feb-a638-2c66e4b7f197",
   "metadata": {},
   "source": [
    "# Start Shapash Dashboard"
   ]
  },
  {
   "cell_type": "code",
   "execution_count": 23,
   "id": "bc6c9a6c-f804-4830-b8fb-b492757e0b45",
   "metadata": {
    "tags": []
   },
   "outputs": [
    {
     "name": "stdout",
     "output_type": "stream",
     "text": [
      "Dash is running on http://0.0.0.0:8050/\n",
      "\n"
     ]
    },
    {
     "name": "stderr",
     "output_type": "stream",
     "text": [
      "/opt/conda/lib/python3.9/site-packages/shapash/webapp/smart_app.py:309: FutureWarning:\n",
      "\n",
      "Using short name for 'orient' is deprecated. Only the options: ('dict', list, 'series', 'split', 'records', 'index') will be used in a future version. Use one of the above to silence this warning.\n",
      "\n",
      "INFO:root:Your Shapash application run on http://40f1bf1c81b8:8050/\n"
     ]
    },
    {
     "name": "stdout",
     "output_type": "stream",
     "text": [
      "Dash is running on http://0.0.0.0:8050/\n",
      "\n"
     ]
    },
    {
     "name": "stderr",
     "output_type": "stream",
     "text": [
      "INFO:root:Use the method .kill() to down your app.\n",
      "INFO:shapash.webapp.smart_app:Dash is running on http://0.0.0.0:8050/\n",
      "\n"
     ]
    },
    {
     "name": "stdout",
     "output_type": "stream",
     "text": [
      " * Serving Flask app 'shapash.webapp.smart_app' (lazy loading)\n",
      " * Environment: production\n",
      "\u001b[31m   WARNING: This is a development server. Do not use it in a production deployment.\u001b[0m\n",
      "\u001b[2m   Use a production WSGI server instead.\u001b[0m\n",
      " * Debug mode: off\n"
     ]
    },
    {
     "name": "stderr",
     "output_type": "stream",
     "text": [
      "WARNING:werkzeug: * Running on all addresses.\n",
      "   WARNING: This is a development server. Do not use it in a production deployment.\n",
      "INFO:werkzeug: * Running on http://192.168.0.5:8050/ (Press CTRL+C to quit)\n",
      "INFO:werkzeug:192.168.0.1 - - [25/Jul/2022 14:57:39] \"GET / HTTP/1.1\" 200 -\n",
      "INFO:werkzeug:192.168.0.1 - - [25/Jul/2022 14:57:39] \"\u001b[36mGET /assets/material-icons.css?m=1658601578.98 HTTP/1.1\u001b[0m\" 304 -\n",
      "INFO:werkzeug:192.168.0.1 - - [25/Jul/2022 14:57:39] \"\u001b[36mGET /assets/style.css?m=1658601578.99 HTTP/1.1\u001b[0m\" 304 -\n",
      "INFO:werkzeug:192.168.0.1 - - [25/Jul/2022 14:57:39] \"\u001b[36mGET /assets/jquery.js?m=1658601578.98 HTTP/1.1\u001b[0m\" 304 -\n",
      "INFO:werkzeug:192.168.0.1 - - [25/Jul/2022 14:57:39] \"\u001b[36mGET /assets/main.js?m=1658601578.98 HTTP/1.1\u001b[0m\" 304 -\n",
      "INFO:werkzeug:192.168.0.1 - - [25/Jul/2022 14:57:40] \"GET /_dash-dependencies HTTP/1.1\" 200 -\n",
      "INFO:werkzeug:192.168.0.1 - - [25/Jul/2022 14:57:40] \"GET /_dash-layout HTTP/1.1\" 200 -\n",
      "INFO:werkzeug:192.168.0.1 - - [25/Jul/2022 14:57:40] \"GET /_dash-component-suites/dash/dcc/async-dropdown.js HTTP/1.1\" 200 -\n",
      "INFO:werkzeug:192.168.0.1 - - [25/Jul/2022 14:57:40] \"GET /_dash-component-suites/dash/dcc/async-graph.js HTTP/1.1\" 200 -\n",
      "INFO:werkzeug:192.168.0.1 - - [25/Jul/2022 14:57:40] \"GET /_dash-component-suites/dash/dash_table/async-highlight.js HTTP/1.1\" 200 -\n",
      "INFO:werkzeug:192.168.0.1 - - [25/Jul/2022 14:57:40] \"GET /_dash-component-suites/dash/dash_table/async-table.js HTTP/1.1\" 200 -\n",
      "INFO:werkzeug:192.168.0.1 - - [25/Jul/2022 14:57:40] \"GET /_dash-component-suites/dash/dcc/async-plotlyjs.js HTTP/1.1\" 200 -\n",
      "INFO:werkzeug:192.168.0.1 - - [25/Jul/2022 14:57:40] \"GET /_dash-component-suites/dash/dcc/async-slider.js HTTP/1.1\" 200 -\n",
      "INFO:werkzeug:192.168.0.1 - - [25/Jul/2022 14:57:40] \"\u001b[36mGET /assets/shapash-fond-fonce.png HTTP/1.1\u001b[0m\" 304 -\n",
      "INFO:werkzeug:192.168.0.1 - - [25/Jul/2022 14:57:40] \"\u001b[36mGET /assets/reload.png HTTP/1.1\u001b[0m\" 304 -\n",
      "INFO:werkzeug:192.168.0.1 - - [25/Jul/2022 14:57:40] \"\u001b[36mGET /assets/settings.png HTTP/1.1\u001b[0m\" 304 -\n",
      "INFO:werkzeug:192.168.0.1 - - [25/Jul/2022 14:57:40] \"POST /_dash-update-component HTTP/1.1\" 200 -\n",
      "INFO:werkzeug:192.168.0.1 - - [25/Jul/2022 14:57:40] \"POST /_dash-update-component HTTP/1.1\" 200 -\n",
      "INFO:werkzeug:192.168.0.1 - - [25/Jul/2022 14:57:40] \"POST /_dash-update-component HTTP/1.1\" 200 -\n",
      "INFO:werkzeug:192.168.0.1 - - [25/Jul/2022 14:57:40] \"POST /_dash-update-component HTTP/1.1\" 200 -\n",
      "INFO:werkzeug:192.168.0.1 - - [25/Jul/2022 14:57:40] \"POST /_dash-update-component HTTP/1.1\" 200 -\n",
      "INFO:werkzeug:192.168.0.1 - - [25/Jul/2022 14:57:40] \"POST /_dash-update-component HTTP/1.1\" 200 -\n",
      "INFO:werkzeug:192.168.0.1 - - [25/Jul/2022 14:57:40] \"POST /_dash-update-component HTTP/1.1\" 200 -\n",
      "INFO:werkzeug:192.168.0.1 - - [25/Jul/2022 14:57:40] \"POST /_dash-update-component HTTP/1.1\" 200 -\n",
      "INFO:werkzeug:192.168.0.1 - - [25/Jul/2022 14:57:40] \"POST /_dash-update-component HTTP/1.1\" 200 -\n",
      "INFO:werkzeug:192.168.0.1 - - [25/Jul/2022 14:57:40] \"POST /_dash-update-component HTTP/1.1\" 200 -\n",
      "INFO:werkzeug:192.168.0.1 - - [25/Jul/2022 14:57:40] \"POST /_dash-update-component HTTP/1.1\" 200 -\n",
      "/opt/conda/lib/python3.9/site-packages/shapash/webapp/smart_app.py:826: FutureWarning:\n",
      "\n",
      "Using short name for 'orient' is deprecated. Only the options: ('dict', list, 'series', 'split', 'records', 'index') will be used in a future version. Use one of the above to silence this warning.\n",
      "\n",
      "INFO:werkzeug:192.168.0.1 - - [25/Jul/2022 14:57:40] \"POST /_dash-update-component HTTP/1.1\" 200 -\n",
      "INFO:werkzeug:192.168.0.1 - - [25/Jul/2022 14:57:41] \"POST /_dash-update-component HTTP/1.1\" 200 -\n",
      "INFO:werkzeug:192.168.0.1 - - [25/Jul/2022 14:57:41] \"POST /_dash-update-component HTTP/1.1\" 200 -\n",
      "INFO:werkzeug:192.168.0.1 - - [25/Jul/2022 14:57:41] \"POST /_dash-update-component HTTP/1.1\" 200 -\n",
      "INFO:werkzeug:192.168.0.1 - - [25/Jul/2022 14:57:41] \"POST /_dash-update-component HTTP/1.1\" 200 -\n",
      "INFO:werkzeug:192.168.0.1 - - [25/Jul/2022 14:57:41] \"POST /_dash-update-component HTTP/1.1\" 200 -\n",
      "INFO:werkzeug:192.168.0.1 - - [25/Jul/2022 14:57:41] \"POST /_dash-update-component HTTP/1.1\" 200 -\n",
      "INFO:werkzeug:192.168.0.1 - - [25/Jul/2022 14:57:41] \"POST /_dash-update-component HTTP/1.1\" 200 -\n",
      "INFO:werkzeug:192.168.0.1 - - [25/Jul/2022 14:57:46] \"\u001b[35m\u001b[1mPOST /_dash-update-component HTTP/1.1\u001b[0m\" 204 -\n",
      "INFO:werkzeug:192.168.0.1 - - [25/Jul/2022 14:57:46] \"POST /_dash-update-component HTTP/1.1\" 200 -\n",
      "INFO:werkzeug:192.168.0.1 - - [25/Jul/2022 14:57:59] \"\u001b[35m\u001b[1mPOST /_dash-update-component HTTP/1.1\u001b[0m\" 204 -\n",
      "INFO:werkzeug:192.168.0.1 - - [25/Jul/2022 14:57:59] \"POST /_dash-update-component HTTP/1.1\" 200 -\n",
      "INFO:werkzeug:192.168.0.1 - - [25/Jul/2022 14:58:04] \"\u001b[35m\u001b[1mPOST /_dash-update-component HTTP/1.1\u001b[0m\" 204 -\n",
      "INFO:werkzeug:192.168.0.1 - - [25/Jul/2022 14:58:04] \"POST /_dash-update-component HTTP/1.1\" 200 -\n",
      "INFO:werkzeug:192.168.0.1 - - [25/Jul/2022 14:58:04] \"\u001b[35m\u001b[1mPOST /_dash-update-component HTTP/1.1\u001b[0m\" 204 -\n",
      "INFO:werkzeug:192.168.0.1 - - [25/Jul/2022 14:58:05] \"POST /_dash-update-component HTTP/1.1\" 200 -\n",
      "INFO:werkzeug:192.168.0.1 - - [25/Jul/2022 14:58:05] \"\u001b[35m\u001b[1mPOST /_dash-update-component HTTP/1.1\u001b[0m\" 204 -\n",
      "INFO:werkzeug:192.168.0.1 - - [25/Jul/2022 14:58:05] \"POST /_dash-update-component HTTP/1.1\" 200 -\n",
      "INFO:werkzeug:192.168.0.1 - - [25/Jul/2022 14:58:06] \"\u001b[35m\u001b[1mPOST /_dash-update-component HTTP/1.1\u001b[0m\" 204 -\n",
      "INFO:werkzeug:192.168.0.1 - - [25/Jul/2022 14:58:06] \"POST /_dash-update-component HTTP/1.1\" 200 -\n",
      "INFO:werkzeug:192.168.0.1 - - [25/Jul/2022 14:58:06] \"\u001b[35m\u001b[1mPOST /_dash-update-component HTTP/1.1\u001b[0m\" 204 -\n",
      "INFO:werkzeug:192.168.0.1 - - [25/Jul/2022 14:58:07] \"\u001b[35m\u001b[1mPOST /_dash-update-component HTTP/1.1\u001b[0m\" 204 -\n",
      "INFO:werkzeug:192.168.0.1 - - [25/Jul/2022 14:58:07] \"POST /_dash-update-component HTTP/1.1\" 200 -\n",
      "INFO:werkzeug:192.168.0.1 - - [25/Jul/2022 14:58:08] \"\u001b[35m\u001b[1mPOST /_dash-update-component HTTP/1.1\u001b[0m\" 204 -\n",
      "INFO:werkzeug:192.168.0.1 - - [25/Jul/2022 14:58:08] \"POST /_dash-update-component HTTP/1.1\" 200 -\n",
      "INFO:werkzeug:192.168.0.1 - - [25/Jul/2022 14:58:09] \"\u001b[35m\u001b[1mPOST /_dash-update-component HTTP/1.1\u001b[0m\" 204 -\n",
      "INFO:werkzeug:192.168.0.1 - - [25/Jul/2022 14:58:09] \"POST /_dash-update-component HTTP/1.1\" 200 -\n",
      "INFO:werkzeug:192.168.0.1 - - [25/Jul/2022 14:58:10] \"\u001b[35m\u001b[1mPOST /_dash-update-component HTTP/1.1\u001b[0m\" 204 -\n",
      "INFO:werkzeug:192.168.0.1 - - [25/Jul/2022 14:58:10] \"\u001b[35m\u001b[1mPOST /_dash-update-component HTTP/1.1\u001b[0m\" 204 -\n",
      "INFO:werkzeug:192.168.0.1 - - [25/Jul/2022 14:58:10] \"POST /_dash-update-component HTTP/1.1\" 200 -\n",
      "INFO:werkzeug:192.168.0.1 - - [25/Jul/2022 14:58:12] \"\u001b[35m\u001b[1mPOST /_dash-update-component HTTP/1.1\u001b[0m\" 204 -\n",
      "INFO:werkzeug:192.168.0.1 - - [25/Jul/2022 14:58:12] \"POST /_dash-update-component HTTP/1.1\" 200 -\n",
      "INFO:werkzeug:192.168.0.1 - - [25/Jul/2022 14:58:13] \"\u001b[35m\u001b[1mPOST /_dash-update-component HTTP/1.1\u001b[0m\" 204 -\n",
      "INFO:werkzeug:192.168.0.1 - - [25/Jul/2022 15:18:40] \"\u001b[35m\u001b[1mPOST /_dash-update-component HTTP/1.1\u001b[0m\" 204 -\n",
      "INFO:werkzeug:192.168.0.1 - - [25/Jul/2022 15:19:01] \"\u001b[35m\u001b[1mPOST /_dash-update-component HTTP/1.1\u001b[0m\" 204 -\n"
     ]
    }
   ],
   "source": [
    "# from shapash.explainer.smart_explainer import SmartExplainer\n",
    "from shapash import SmartExplainer\n",
    "xpl = SmartExplainer(model=loaded_model)\n",
    "xpl.compile(\n",
    "    x=loaded_exp.X.transform(X),\n",
    "    y_pred=loaded_exp.y.transform(y),\n",
    ")\n",
    "app = xpl.run_app(title_story='House Prices')"
   ]
  },
  {
   "cell_type": "code",
   "execution_count": 22,
   "id": "a7cbbd94-5a46-4fd8-bc67-4e1e46099adf",
   "metadata": {},
   "outputs": [],
   "source": [
    "app.kill()"
   ]
  },
  {
   "cell_type": "code",
   "execution_count": null,
   "id": "d29302e2-686f-47d3-a884-ac5ecb83ec13",
   "metadata": {},
   "outputs": [],
   "source": []
  }
 ],
 "metadata": {
  "kernelspec": {
   "display_name": "Python 3 (ipykernel)",
   "language": "python",
   "name": "python3"
  },
  "language_info": {
   "codemirror_mode": {
    "name": "ipython",
    "version": 3
   },
   "file_extension": ".py",
   "mimetype": "text/x-python",
   "name": "python",
   "nbconvert_exporter": "python",
   "pygments_lexer": "ipython3",
   "version": "3.9.12"
  }
 },
 "nbformat": 4,
 "nbformat_minor": 5
}
