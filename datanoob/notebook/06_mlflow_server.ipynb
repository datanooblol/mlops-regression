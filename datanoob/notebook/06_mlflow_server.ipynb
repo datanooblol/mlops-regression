{
 "cells": [
  {
   "cell_type": "code",
   "execution_count": 4,
   "id": "63bbbba3-8309-447e-924e-31c1b15c60de",
   "metadata": {},
   "outputs": [
    {
     "name": "stdout",
     "output_type": "stream",
     "text": [
      "The autoreload extension is already loaded. To reload it, use:\n",
      "  %reload_ext autoreload\n"
     ]
    }
   ],
   "source": [
    "%load_ext autoreload\n",
    "%autoreload 2"
   ]
  },
  {
   "cell_type": "code",
   "execution_count": 5,
   "id": "a2383acd-3457-498b-b1e5-ca25a3054b7a",
   "metadata": {},
   "outputs": [],
   "source": [
    "import os\n",
    "from datanooblol.configuration.config_manager import LoadModelTrackingConfig"
   ]
  },
  {
   "cell_type": "markdown",
   "id": "13f06af8-cc85-4e7b-abe2-483aec2d69aa",
   "metadata": {},
   "source": [
    "# Tracking:Local and Artifact:Local"
   ]
  },
  {
   "cell_type": "code",
   "execution_count": 4,
   "id": "8ea490eb-d8eb-4b51-a8b6-76d9935daaf8",
   "metadata": {
    "tags": []
   },
   "outputs": [
    {
     "name": "stderr",
     "output_type": "stream",
     "text": [
      "[2022-07-22 08:46:53 +0000] [15861] [INFO] Starting gunicorn 20.1.0\n",
      "[2022-07-22 08:46:53 +0000] [15861] [INFO] Listening at: http://0.0.0.0:5000 (15861)\n",
      "[2022-07-22 08:46:53 +0000] [15861] [INFO] Using worker: sync\n",
      "[2022-07-22 08:46:53 +0000] [15862] [INFO] Booting worker with pid: 15862\n",
      "[2022-07-22 08:46:53 +0000] [15863] [INFO] Booting worker with pid: 15863\n",
      "[2022-07-22 08:46:54 +0000] [15864] [INFO] Booting worker with pid: 15864\n",
      "[2022-07-22 08:46:54 +0000] [15865] [INFO] Booting worker with pid: 15865\n",
      "[2022-07-22 08:48:52 +0000] [15861] [INFO] Handling signal: int\n",
      "[2022-07-22 08:48:52 +0000] [15865] [INFO] Worker exiting (pid: 15865)\n",
      "[2022-07-22 08:48:52 +0000] [15862] [INFO] Worker exiting (pid: 15862)\n",
      "[2022-07-22 08:48:52 +0000] [15864] [INFO] Worker exiting (pid: 15864)\n",
      "[2022-07-22 08:48:52 +0000] [15863] [INFO] Worker exiting (pid: 15863)\n",
      "\n",
      "Aborted!\n",
      "[2022-07-22 08:48:53 +0000] [15861] [INFO] Shutting down: Master\n"
     ]
    },
    {
     "data": {
      "text/plain": [
       "2"
      ]
     },
     "execution_count": 4,
     "metadata": {},
     "output_type": "execute_result"
    }
   ],
   "source": [
    "command = \"cd ../repository/metadata && mlflow server\"\n",
    "os.system(f\"{command} --host 0.0.0.0 --port 5000\")"
   ]
  },
  {
   "cell_type": "markdown",
   "id": "875833ff-1fbb-47c6-9d90-799b22236feb",
   "metadata": {},
   "source": [
    "# Tracking:DB and Artifact:Local  \n",
    "Start MLflow server before starting experiments  \n",
    "*Run this below command for our use case*"
   ]
  },
  {
   "cell_type": "code",
   "execution_count": 6,
   "id": "c44d5036-62ea-479d-a681-22eb8cfc3439",
   "metadata": {},
   "outputs": [
    {
     "name": "stderr",
     "output_type": "stream",
     "text": [
      "[2022-07-25 16:50:35 +0000] [16279] [INFO] Starting gunicorn 20.1.0\n",
      "[2022-07-25 16:50:35 +0000] [16279] [INFO] Listening at: http://0.0.0.0:5000 (16279)\n",
      "[2022-07-25 16:50:35 +0000] [16279] [INFO] Using worker: sync\n",
      "[2022-07-25 16:50:35 +0000] [16280] [INFO] Booting worker with pid: 16280\n",
      "[2022-07-25 16:50:35 +0000] [16281] [INFO] Booting worker with pid: 16281\n",
      "[2022-07-25 16:50:35 +0000] [16282] [INFO] Booting worker with pid: 16282\n",
      "[2022-07-25 16:50:35 +0000] [16283] [INFO] Booting worker with pid: 16283\n",
      "[2022-07-25 16:50:55 +0000] [16279] [INFO] Handling signal: int\n",
      "[2022-07-25 16:50:55 +0000] [16280] [INFO] Worker exiting (pid: 16280)\n",
      "[2022-07-25 16:50:55 +0000] [16281] [INFO] Worker exiting (pid: 16281)\n",
      "[2022-07-25 16:50:55 +0000] [16282] [INFO] Worker exiting (pid: 16282)\n",
      "[2022-07-25 16:50:55 +0000] [16283] [INFO] Worker exiting (pid: 16283)\n",
      "\n",
      "Aborted!\n"
     ]
    },
    {
     "data": {
      "text/plain": [
       "2"
      ]
     },
     "execution_count": 6,
     "metadata": {},
     "output_type": "execute_result"
    },
    {
     "name": "stderr",
     "output_type": "stream",
     "text": [
      "[2022-07-25 16:50:56 +0000] [16279] [INFO] Shutting down: Master\n"
     ]
    }
   ],
   "source": [
    "path = \"/usr/src/datanoob/repository/metadata\"\n",
    "\n",
    "db_path = \"sqlite:///database/mlflow.db\"\n",
    "art_path = \"/usr/src/datanoob/repository/metadata/mlruns\"\n",
    "\n",
    "backend = f\"--backend-store-uri {db_path}\"\n",
    "artifact = f\"--default-artifact-root {art_path}\"\n",
    "host = f\"--host 0.0.0.0\"\n",
    "port = f\"--port 5000\"\n",
    "\n",
    "command = f\"cd {path} && mlflow server {backend} {artifact} {host} {port}\"\n",
    "os.system(f\"{command}\")"
   ]
  },
  {
   "cell_type": "code",
   "execution_count": 4,
   "id": "95b55c4b-b605-44bd-9995-af1a0b1ce152",
   "metadata": {},
   "outputs": [
    {
     "name": "stderr",
     "output_type": "stream",
     "text": [
      "Usage: mlflow server [OPTIONS]\n",
      "Try 'mlflow server --help' for help.\n",
      "\n",
      "Error: Got unexpected extra argument (stop)\n"
     ]
    },
    {
     "data": {
      "text/plain": [
       "512"
      ]
     },
     "execution_count": 4,
     "metadata": {},
     "output_type": "execute_result"
    }
   ],
   "source": [
    "os.system(f\"cd {path} && mlflow server stop\")"
   ]
  },
  {
   "cell_type": "code",
   "execution_count": 4,
   "id": "bc04c43a-3e29-4516-a94f-42d1bb2fb28f",
   "metadata": {
    "collapsed": true,
    "jupyter": {
     "outputs_hidden": true
    },
    "tags": []
   },
   "outputs": [
    {
     "name": "stderr",
     "output_type": "stream",
     "text": [
      "[2022-07-22 12:23:59 +0000] [26924] [INFO] Starting gunicorn 20.1.0\n",
      "[2022-07-22 12:23:59 +0000] [26924] [INFO] Listening at: http://0.0.0.0:5000 (26924)\n",
      "[2022-07-22 12:23:59 +0000] [26924] [INFO] Using worker: sync\n",
      "[2022-07-22 12:23:59 +0000] [26925] [INFO] Booting worker with pid: 26925\n",
      "[2022-07-22 12:24:00 +0000] [26926] [INFO] Booting worker with pid: 26926\n",
      "[2022-07-22 12:24:00 +0000] [26927] [INFO] Booting worker with pid: 26927\n",
      "[2022-07-22 12:24:00 +0000] [26928] [INFO] Booting worker with pid: 26928\n",
      "[2022-07-22 12:32:21 +0000] [26924] [INFO] Handling signal: int\n",
      "[2022-07-22 12:32:21 +0000] [26926] [INFO] Worker exiting (pid: 26926)\n",
      "[2022-07-22 12:32:21 +0000] [26925] [INFO] Worker exiting (pid: 26925)\n",
      "[2022-07-22 12:32:21 +0000] [26928] [INFO] Worker exiting (pid: 26928)\n",
      "[2022-07-22 12:32:21 +0000] [26927] [INFO] Worker exiting (pid: 26927)\n",
      "\n",
      "Aborted!\n",
      "[2022-07-22 12:32:22 +0000] [26924] [INFO] Shutting down: Master\n"
     ]
    },
    {
     "data": {
      "text/plain": [
       "2"
      ]
     },
     "execution_count": 4,
     "metadata": {},
     "output_type": "execute_result"
    }
   ],
   "source": [
    "# path = \"../repository/metadata/mlruns\"\n",
    "# # command = f\"cd {path} && mlflow server\"\n",
    "\n",
    "# db_path = \"sqlite:///mlflow.db\"\n",
    "# art_path = \"./artifacts\"\n",
    "\n",
    "# backend = f\"--backend-store-uri {db_path}\"\n",
    "# artifact = f\"--default-artifact-root {art_path}\"\n",
    "# host = f\"--host 0.0.0.0\"\n",
    "# port = f\"--port 5000\"\n",
    "\n",
    "# command = f\"cd {path} && mlflow server {backend} {artifact} {host} {port}\"\n",
    "# if not os.path.exists(path):\n",
    "#     os.mkdir(path)\n",
    "\n",
    "# # os.system(f\"{command} --backend-store-uri {db} --default-artifact-root {art} --host 0.0.0.0 --port 5000\")\n",
    "# os.system(f\"{command}\")"
   ]
  },
  {
   "cell_type": "code",
   "execution_count": null,
   "id": "861eae97-1ab8-4ff8-a926-ee1a402c00fd",
   "metadata": {},
   "outputs": [],
   "source": []
  }
 ],
 "metadata": {
  "kernelspec": {
   "display_name": "Python 3 (ipykernel)",
   "language": "python",
   "name": "python3"
  },
  "language_info": {
   "codemirror_mode": {
    "name": "ipython",
    "version": 3
   },
   "file_extension": ".py",
   "mimetype": "text/x-python",
   "name": "python",
   "nbconvert_exporter": "python",
   "pygments_lexer": "ipython3",
   "version": "3.9.12"
  }
 },
 "nbformat": 4,
 "nbformat_minor": 5
}
