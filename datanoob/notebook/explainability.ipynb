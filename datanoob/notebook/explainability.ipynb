{
 "cells": [
  {
   "cell_type": "code",
   "execution_count": 6,
   "id": "805393f7-aefd-4087-8bcf-6cbc3345e628",
   "metadata": {},
   "outputs": [
    {
     "name": "stdout",
     "output_type": "stream",
     "text": [
      "The autoreload extension is already loaded. To reload it, use:\n",
      "  %reload_ext autoreload\n"
     ]
    }
   ],
   "source": [
    "%load_ext autoreload\n",
    "%autoreload 2"
   ]
  },
  {
   "cell_type": "code",
   "execution_count": 7,
   "id": "77243ca3-09bd-4983-9e3b-5ba7dc48b18c",
   "metadata": {},
   "outputs": [],
   "source": [
    "from datanooblol.serving.serving_manager import Serving\n",
    "from datanooblol.extractor.reference_extractor import ReferenceExtractor"
   ]
  },
  {
   "cell_type": "code",
   "execution_count": 8,
   "id": "1e830488-6493-4270-9644-002ad61a2b9b",
   "metadata": {},
   "outputs": [],
   "source": [
    "data = ReferenceExtractor(DEBUG=False)"
   ]
  },
  {
   "cell_type": "code",
   "execution_count": 10,
   "id": "9ae67f1c-9e4a-4ab8-86b3-616921dc06e2",
   "metadata": {},
   "outputs": [],
   "source": [
    "run_id = \"bba30441bedd4a918d276e45b3a3a1b0\"\n",
    "project = \"boston_regression\"\n",
    "serving = Serving(project=project, run_id=run_id)\n",
    "loaded_exp, loaded_model = serving.get_serving_object"
   ]
  },
  {
   "cell_type": "code",
   "execution_count": 11,
   "id": "97cecd37-02ee-4004-a946-c8b7953f8568",
   "metadata": {},
   "outputs": [],
   "source": [
    "# X = loaded_exp.transform(data.X_test)\n",
    "X = data.X_test\n",
    "y = data.y_test"
   ]
  },
  {
   "cell_type": "code",
   "execution_count": 23,
   "id": "83ea3282-59d5-4067-9564-d46de7211587",
   "metadata": {},
   "outputs": [
    {
     "data": {
      "text/plain": [
       "array([20.646, 22.114, 19.72 , 14.807, 21.921, 23.927, 34.13 , 22.351,\n",
       "       13.175, 21.022, 24.494, 25.118, 22.048, 45.952, 20.746, 23.32 ,\n",
       "       29.013,  6.793, 15.194, 18.994, 13.636, 47.203, 14.295, 24.208,\n",
       "       23.368, 34.896, 22.192, 24.764, 31.798, 20.938, 10.939, 44.907,\n",
       "       19.396, 19.189, 24.631, 29.735, 24.802, 18.717, 14.531, 18.316,\n",
       "       26.899, 47.956, 46.189, 29.736, 14.804, 20.386,  9.407, 16.708,\n",
       "       21.925, 18.12 , 26.571, 22.577, 23.675, 24.722, 24.924, 15.029,\n",
       "       21.628, 26.382, 20.959, 15.66 , 44.368, 20.259, 20.061, 15.984,\n",
       "       17.43 , 22.071, 20.367, 14.628, 11.073, 18.481, 25.243, 44.876,\n",
       "       21.093, 19.979, 16.357,  9.23 ])"
      ]
     },
     "execution_count": 23,
     "metadata": {},
     "output_type": "execute_result"
    }
   ],
   "source": [
    "loaded_model.predict(loaded_exp.transform(X))"
   ]
  },
  {
   "cell_type": "code",
   "execution_count": 24,
   "id": "6d5f0b0e-8b9e-434d-878f-a5d7c5a29862",
   "metadata": {},
   "outputs": [
    {
     "data": {
      "text/plain": [
       "array([20.646, 22.114, 19.72 , 14.807, 21.921, 23.927, 34.13 , 22.351,\n",
       "       13.175, 21.022, 24.494, 25.118, 22.048, 45.952, 20.746, 23.32 ,\n",
       "       29.013,  6.793, 15.194, 18.994, 13.636, 47.203, 14.295, 24.208,\n",
       "       23.368, 34.896, 22.192, 24.764, 31.798, 20.938, 10.939, 44.907,\n",
       "       19.396, 19.189, 24.631, 29.735, 24.802, 18.717, 14.531, 18.316,\n",
       "       26.899, 47.956, 46.189, 29.736, 14.804, 20.386,  9.407, 16.708,\n",
       "       21.925, 18.12 , 26.571, 22.577, 23.675, 24.722, 24.924, 15.029,\n",
       "       21.628, 26.382, 20.959, 15.66 , 44.368, 20.259, 20.061, 15.984,\n",
       "       17.43 , 22.071, 20.367, 14.628, 11.073, 18.481, 25.243, 44.876,\n",
       "       21.093, 19.979, 16.357,  9.23 ])"
      ]
     },
     "execution_count": 24,
     "metadata": {},
     "output_type": "execute_result"
    }
   ],
   "source": [
    "serving.predict(X)"
   ]
  },
  {
   "cell_type": "code",
   "execution_count": 12,
   "id": "bc6c9a6c-f804-4830-b8fb-b492757e0b45",
   "metadata": {
    "tags": []
   },
   "outputs": [
    {
     "name": "stdout",
     "output_type": "stream",
     "text": [
      "Dash is running on http://0.0.0.0:8050/\n",
      "\n"
     ]
    },
    {
     "name": "stderr",
     "output_type": "stream",
     "text": [
      "/opt/conda/lib/python3.9/site-packages/shapash/webapp/smart_app.py:309: FutureWarning:\n",
      "\n",
      "Using short name for 'orient' is deprecated. Only the options: ('dict', list, 'series', 'split', 'records', 'index') will be used in a future version. Use one of the above to silence this warning.\n",
      "\n",
      "INFO:root:Your Shapash application run on http://777260bc9b1f:8050/\n",
      "INFO:root:Use the method .kill() to down your app.\n",
      "INFO:shapash.webapp.smart_app:Dash is running on http://0.0.0.0:8050/\n",
      "\n"
     ]
    },
    {
     "name": "stdout",
     "output_type": "stream",
     "text": [
      " * Serving Flask app 'shapash.webapp.smart_app' (lazy loading)\n",
      " * Environment: production\n",
      "\u001b[31m   WARNING: This is a development server. Do not use it in a production deployment.\u001b[0m\n",
      "\u001b[2m   Use a production WSGI server instead.\u001b[0m\n",
      " * Debug mode: off\n"
     ]
    },
    {
     "name": "stderr",
     "output_type": "stream",
     "text": [
      "WARNING:werkzeug: * Running on all addresses.\n",
      "   WARNING: This is a development server. Do not use it in a production deployment.\n",
      "INFO:werkzeug: * Running on http://192.168.0.5:8050/ (Press CTRL+C to quit)\n",
      "INFO:werkzeug:192.168.0.1 - - [23/Jul/2022 01:43:31] \"GET / HTTP/1.1\" 200 -\n",
      "INFO:werkzeug:192.168.0.1 - - [23/Jul/2022 01:43:31] \"\u001b[36mGET /assets/material-icons.css?m=1658015646.11 HTTP/1.1\u001b[0m\" 304 -\n",
      "INFO:werkzeug:192.168.0.1 - - [23/Jul/2022 01:43:31] \"\u001b[36mGET /assets/style.css?m=1658015646.11 HTTP/1.1\u001b[0m\" 304 -\n",
      "INFO:werkzeug:192.168.0.1 - - [23/Jul/2022 01:43:31] \"GET /_dash-component-suites/dash_bootstrap_components/_components/dash_bootstrap_components.v0_13_1m1658512717.min.js HTTP/1.1\" 200 -\n",
      "INFO:werkzeug:192.168.0.1 - - [23/Jul/2022 01:43:31] \"\u001b[36mGET /assets/jquery.js?m=1658015646.11 HTTP/1.1\u001b[0m\" 304 -\n",
      "INFO:werkzeug:192.168.0.1 - - [23/Jul/2022 01:43:31] \"\u001b[36mGET /assets/main.js?m=1658015646.11 HTTP/1.1\u001b[0m\" 304 -\n",
      "INFO:werkzeug:192.168.0.1 - - [23/Jul/2022 01:43:31] \"GET /_dash-layout HTTP/1.1\" 200 -\n",
      "INFO:werkzeug:192.168.0.1 - - [23/Jul/2022 01:43:31] \"GET /_dash-dependencies HTTP/1.1\" 200 -\n",
      "INFO:werkzeug:192.168.0.1 - - [23/Jul/2022 01:43:31] \"GET /assets/favicon.ico?m=1658015646.11 HTTP/1.1\" 200 -\n",
      "INFO:werkzeug:192.168.0.1 - - [23/Jul/2022 01:43:31] \"GET /_dash-component-suites/dash/dcc/async-dropdown.js HTTP/1.1\" 200 -\n",
      "INFO:werkzeug:192.168.0.1 - - [23/Jul/2022 01:43:31] \"GET /_dash-component-suites/dash/dcc/async-graph.js HTTP/1.1\" 200 -\n",
      "INFO:werkzeug:192.168.0.1 - - [23/Jul/2022 01:43:31] \"GET /_dash-component-suites/dash/dash_table/async-highlight.js HTTP/1.1\" 200 -\n",
      "INFO:werkzeug:192.168.0.1 - - [23/Jul/2022 01:43:31] \"GET /_dash-component-suites/dash/dash_table/async-table.js HTTP/1.1\" 200 -\n",
      "INFO:werkzeug:192.168.0.1 - - [23/Jul/2022 01:43:31] \"GET /_dash-component-suites/dash/dcc/async-plotlyjs.js HTTP/1.1\" 200 -\n",
      "INFO:werkzeug:192.168.0.1 - - [23/Jul/2022 01:43:31] \"GET /_dash-component-suites/dash/dcc/async-slider.js HTTP/1.1\" 200 -\n",
      "INFO:werkzeug:192.168.0.1 - - [23/Jul/2022 01:43:31] \"\u001b[36mGET /assets/settings.png HTTP/1.1\u001b[0m\" 304 -\n",
      "INFO:werkzeug:192.168.0.1 - - [23/Jul/2022 01:43:31] \"\u001b[36mGET /assets/shapash-fond-fonce.png HTTP/1.1\u001b[0m\" 304 -\n",
      "INFO:werkzeug:192.168.0.1 - - [23/Jul/2022 01:43:31] \"\u001b[36mGET /assets/reload.png HTTP/1.1\u001b[0m\" 304 -\n",
      "INFO:werkzeug:192.168.0.1 - - [23/Jul/2022 01:43:31] \"POST /_dash-update-component HTTP/1.1\" 200 -\n",
      "INFO:werkzeug:192.168.0.1 - - [23/Jul/2022 01:43:31] \"POST /_dash-update-component HTTP/1.1\" 200 -\n",
      "INFO:werkzeug:192.168.0.1 - - [23/Jul/2022 01:43:31] \"POST /_dash-update-component HTTP/1.1\" 200 -\n",
      "INFO:werkzeug:192.168.0.1 - - [23/Jul/2022 01:43:31] \"POST /_dash-update-component HTTP/1.1\" 200 -\n",
      "INFO:werkzeug:192.168.0.1 - - [23/Jul/2022 01:43:31] \"POST /_dash-update-component HTTP/1.1\" 200 -\n",
      "INFO:werkzeug:192.168.0.1 - - [23/Jul/2022 01:43:31] \"POST /_dash-update-component HTTP/1.1\" 200 -\n",
      "INFO:werkzeug:192.168.0.1 - - [23/Jul/2022 01:43:31] \"POST /_dash-update-component HTTP/1.1\" 200 -\n",
      "INFO:werkzeug:192.168.0.1 - - [23/Jul/2022 01:43:31] \"POST /_dash-update-component HTTP/1.1\" 200 -\n",
      "INFO:werkzeug:192.168.0.1 - - [23/Jul/2022 01:43:31] \"POST /_dash-update-component HTTP/1.1\" 200 -\n",
      "INFO:werkzeug:192.168.0.1 - - [23/Jul/2022 01:43:31] \"POST /_dash-update-component HTTP/1.1\" 200 -\n",
      "INFO:werkzeug:192.168.0.1 - - [23/Jul/2022 01:43:32] \"POST /_dash-update-component HTTP/1.1\" 200 -\n",
      "/opt/conda/lib/python3.9/site-packages/shapash/webapp/smart_app.py:826: FutureWarning:\n",
      "\n",
      "Using short name for 'orient' is deprecated. Only the options: ('dict', list, 'series', 'split', 'records', 'index') will be used in a future version. Use one of the above to silence this warning.\n",
      "\n",
      "INFO:werkzeug:192.168.0.1 - - [23/Jul/2022 01:43:32] \"POST /_dash-update-component HTTP/1.1\" 200 -\n",
      "INFO:werkzeug:192.168.0.1 - - [23/Jul/2022 01:43:32] \"POST /_dash-update-component HTTP/1.1\" 200 -\n",
      "INFO:werkzeug:192.168.0.1 - - [23/Jul/2022 01:43:32] \"POST /_dash-update-component HTTP/1.1\" 200 -\n",
      "INFO:werkzeug:192.168.0.1 - - [23/Jul/2022 01:43:32] \"POST /_dash-update-component HTTP/1.1\" 200 -\n",
      "INFO:werkzeug:192.168.0.1 - - [23/Jul/2022 01:43:32] \"POST /_dash-update-component HTTP/1.1\" 200 -\n",
      "INFO:werkzeug:192.168.0.1 - - [23/Jul/2022 01:43:32] \"POST /_dash-update-component HTTP/1.1\" 200 -\n",
      "INFO:werkzeug:192.168.0.1 - - [23/Jul/2022 01:43:32] \"POST /_dash-update-component HTTP/1.1\" 200 -\n",
      "INFO:werkzeug:192.168.0.1 - - [23/Jul/2022 01:43:33] \"POST /_dash-update-component HTTP/1.1\" 200 -\n",
      "INFO:werkzeug:192.168.0.1 - - [23/Jul/2022 03:05:02] \"POST /_dash-update-component HTTP/1.1\" 200 -\n",
      "INFO:werkzeug:192.168.0.1 - - [23/Jul/2022 03:05:03] \"POST /_dash-update-component HTTP/1.1\" 200 -\n",
      "INFO:werkzeug:192.168.0.1 - - [23/Jul/2022 03:05:05] \"POST /_dash-update-component HTTP/1.1\" 200 -\n",
      "INFO:werkzeug:192.168.0.1 - - [23/Jul/2022 03:05:05] \"POST /_dash-update-component HTTP/1.1\" 200 -\n",
      "INFO:werkzeug:192.168.0.1 - - [23/Jul/2022 03:05:13] \"POST /_dash-update-component HTTP/1.1\" 200 -\n",
      "INFO:werkzeug:192.168.0.1 - - [23/Jul/2022 03:05:20] \"POST /_dash-update-component HTTP/1.1\" 200 -\n",
      "INFO:werkzeug:192.168.0.1 - - [23/Jul/2022 03:07:22] \"\u001b[35m\u001b[1mPOST /_dash-update-component HTTP/1.1\u001b[0m\" 204 -\n",
      "INFO:werkzeug:192.168.0.1 - - [23/Jul/2022 03:07:22] \"POST /_dash-update-component HTTP/1.1\" 200 -\n",
      "INFO:werkzeug:192.168.0.1 - - [23/Jul/2022 03:07:30] \"\u001b[35m\u001b[1mPOST /_dash-update-component HTTP/1.1\u001b[0m\" 204 -\n",
      "INFO:werkzeug:192.168.0.1 - - [23/Jul/2022 03:07:30] \"POST /_dash-update-component HTTP/1.1\" 200 -\n",
      "INFO:werkzeug:192.168.0.1 - - [23/Jul/2022 03:07:50] \"\u001b[35m\u001b[1mPOST /_dash-update-component HTTP/1.1\u001b[0m\" 204 -\n",
      "INFO:werkzeug:192.168.0.1 - - [23/Jul/2022 03:14:17] \"POST /_dash-update-component HTTP/1.1\" 200 -\n",
      "INFO:werkzeug:192.168.0.1 - - [23/Jul/2022 03:14:17] \"POST /_dash-update-component HTTP/1.1\" 200 -\n",
      "INFO:werkzeug:192.168.0.1 - - [23/Jul/2022 03:14:18] \"POST /_dash-update-component HTTP/1.1\" 200 -\n",
      "INFO:werkzeug:192.168.0.1 - - [23/Jul/2022 03:14:18] \"POST /_dash-update-component HTTP/1.1\" 200 -\n",
      "INFO:werkzeug:192.168.0.1 - - [23/Jul/2022 03:14:18] \"POST /_dash-update-component HTTP/1.1\" 200 -\n",
      "INFO:werkzeug:192.168.0.1 - - [23/Jul/2022 03:15:13] \"POST /_dash-update-component HTTP/1.1\" 200 -\n",
      "INFO:werkzeug:192.168.0.1 - - [23/Jul/2022 03:15:13] \"POST /_dash-update-component HTTP/1.1\" 200 -\n",
      "INFO:werkzeug:192.168.0.1 - - [23/Jul/2022 03:15:20] \"POST /_dash-update-component HTTP/1.1\" 200 -\n",
      "INFO:werkzeug:192.168.0.1 - - [23/Jul/2022 03:15:20] \"POST /_dash-update-component HTTP/1.1\" 200 -\n"
     ]
    }
   ],
   "source": [
    "# from shapash.explainer.smart_explainer import SmartExplainer\n",
    "from shapash import SmartExplainer\n",
    "xpl = SmartExplainer(model=loaded_model)\n",
    "xpl.compile(\n",
    "    x=loaded_exp.transform(X),\n",
    "    y_pred=y\n",
    ")\n",
    "app = xpl.run_app(title_story='House Prices')"
   ]
  },
  {
   "cell_type": "code",
   "execution_count": 33,
   "id": "a7cbbd94-5a46-4fd8-bc67-4e1e46099adf",
   "metadata": {},
   "outputs": [],
   "source": [
    "app.kill()"
   ]
  },
  {
   "cell_type": "code",
   "execution_count": 35,
   "id": "7766e191-0792-4913-b430-ad2f4b350c55",
   "metadata": {},
   "outputs": [
    {
     "name": "stdout",
     "output_type": "stream",
     "text": [
      "Changing class type to RandomForestRegressionExplainer...\n",
      "Generating self.shap_explainer = shap.TreeExplainer(model)\n"
     ]
    }
   ],
   "source": [
    "# from explainerdashboard import RegressionExplainer, ClassifierExplainer, ExplainerDashboard\n",
    "# explainer = RegressionExplainer(loaded_model, loaded_exp.transform(X), y)"
   ]
  },
  {
   "cell_type": "code",
   "execution_count": 38,
   "id": "11deea67-e68f-47bc-ad7d-ee792074d8c7",
   "metadata": {
    "collapsed": true,
    "jupyter": {
     "outputs_hidden": true
    },
    "tags": []
   },
   "outputs": [
    {
     "name": "stdout",
     "output_type": "stream",
     "text": [
      "Building ExplainerDashboard..\n",
      "Detected notebook environment, consider setting mode='external', mode='inline' or mode='jupyterlab' to keep the notebook interactive while the dashboard is running...\n",
      "Warning: calculating shap interaction values can be slow! Pass shap_interaction=False to remove interactions tab.\n",
      "Generating layout...\n"
     ]
    },
    {
     "name": "stderr",
     "output_type": "stream",
     "text": [
      "[autoreload of dash_bootstrap_components failed: Traceback (most recent call last):\n",
      "  File \"/opt/conda/lib/python3.9/site-packages/IPython/extensions/autoreload.py\", line 245, in check\n",
      "    superreload(m, reload, self.old_objects)\n",
      "  File \"/opt/conda/lib/python3.9/site-packages/IPython/extensions/autoreload.py\", line 394, in superreload\n",
      "    module = reload(module)\n",
      "  File \"/opt/conda/lib/python3.9/imp.py\", line 314, in reload\n",
      "    return importlib.reload(module)\n",
      "  File \"/opt/conda/lib/python3.9/importlib/__init__.py\", line 140, in reload\n",
      "    raise TypeError(\"reload() argument must be a module\")\n",
      "TypeError: reload() argument must be a module\n",
      "]\n"
     ]
    },
    {
     "ename": "AttributeError",
     "evalue": "FormGroup was deprecated in dash-bootstrap-components version 1.0.0. You are using 1.2.0. For more details please see the migration guide: https://dash-bootstrap-components.opensource.faculty.ai/migration-guide/",
     "output_type": "error",
     "traceback": [
      "\u001b[0;31m---------------------------------------------------------------------------\u001b[0m",
      "\u001b[0;31mAttributeError\u001b[0m                            Traceback (most recent call last)",
      "\u001b[0;32m/tmp/ipykernel_25235/2232454159.py\u001b[0m in \u001b[0;36m<module>\u001b[0;34m\u001b[0m\n\u001b[0;32m----> 1\u001b[0;31m \u001b[0mExplainerDashboard\u001b[0m\u001b[0;34m(\u001b[0m\u001b[0mexplainer\u001b[0m\u001b[0;34m)\u001b[0m\u001b[0;34m.\u001b[0m\u001b[0mrun\u001b[0m\u001b[0;34m(\u001b[0m\u001b[0;34m)\u001b[0m\u001b[0;34m\u001b[0m\u001b[0;34m\u001b[0m\u001b[0m\n\u001b[0m",
      "\u001b[0;32m/opt/conda/lib/python3.9/site-packages/explainerdashboard/dashboards.py\u001b[0m in \u001b[0;36m__init__\u001b[0;34m(self, explainer, tabs, title, name, description, simple, hide_header, header_hide_title, header_hide_selector, header_hide_download, hide_poweredby, block_selector_callbacks, pos_label, fluid, mode, width, height, bootstrap, external_stylesheets, server, url_base_pathname, responsive, logins, port, importances, model_summary, contributions, whatif, shap_dependence, shap_interaction, decision_trees, **kwargs)\u001b[0m\n\u001b[1;32m    576\u001b[0m         \u001b[0;32mif\u001b[0m \u001b[0misinstance\u001b[0m\u001b[0;34m(\u001b[0m\u001b[0mtabs\u001b[0m\u001b[0;34m,\u001b[0m \u001b[0mlist\u001b[0m\u001b[0;34m)\u001b[0m\u001b[0;34m:\u001b[0m\u001b[0;34m\u001b[0m\u001b[0;34m\u001b[0m\u001b[0m\n\u001b[1;32m    577\u001b[0m             \u001b[0mtabs\u001b[0m \u001b[0;34m=\u001b[0m \u001b[0;34m[\u001b[0m\u001b[0mself\u001b[0m\u001b[0;34m.\u001b[0m\u001b[0m_convert_str_tabs\u001b[0m\u001b[0;34m(\u001b[0m\u001b[0mtab\u001b[0m\u001b[0;34m)\u001b[0m \u001b[0;32mfor\u001b[0m \u001b[0mtab\u001b[0m \u001b[0;32min\u001b[0m \u001b[0mtabs\u001b[0m\u001b[0;34m]\u001b[0m\u001b[0;34m\u001b[0m\u001b[0;34m\u001b[0m\u001b[0m\n\u001b[0;32m--> 578\u001b[0;31m             self.explainer_layout = ExplainerTabsLayout(explainer, tabs, title, \n\u001b[0m\u001b[1;32m    579\u001b[0m                             \u001b[0mdescription\u001b[0m\u001b[0;34m=\u001b[0m\u001b[0mself\u001b[0m\u001b[0;34m.\u001b[0m\u001b[0mdescription\u001b[0m\u001b[0;34m,\u001b[0m\u001b[0;34m\u001b[0m\u001b[0;34m\u001b[0m\u001b[0m\n\u001b[1;32m    580\u001b[0m                             **update_kwargs(kwargs, \n",
      "\u001b[0;32m/opt/conda/lib/python3.9/site-packages/explainerdashboard/dashboards.py\u001b[0m in \u001b[0;36m__init__\u001b[0;34m(self, explainer, tabs, title, name, description, header_hide_title, header_hide_selector, header_hide_download, hide_poweredby, block_selector_callbacks, pos_label, fluid, **kwargs)\u001b[0m\n\u001b[1;32m     88\u001b[0m \u001b[0;34m\u001b[0m\u001b[0m\n\u001b[1;32m     89\u001b[0m         \u001b[0mself\u001b[0m\u001b[0;34m.\u001b[0m\u001b[0mselector\u001b[0m \u001b[0;34m=\u001b[0m \u001b[0mPosLabelSelector\u001b[0m\u001b[0;34m(\u001b[0m\u001b[0mexplainer\u001b[0m\u001b[0;34m,\u001b[0m \u001b[0mname\u001b[0m\u001b[0;34m=\u001b[0m\u001b[0;34m\"0\"\u001b[0m\u001b[0;34m,\u001b[0m \u001b[0mpos_label\u001b[0m\u001b[0;34m=\u001b[0m\u001b[0mpos_label\u001b[0m\u001b[0;34m)\u001b[0m\u001b[0;34m\u001b[0m\u001b[0;34m\u001b[0m\u001b[0m\n\u001b[0;32m---> 90\u001b[0;31m         \u001b[0mself\u001b[0m\u001b[0;34m.\u001b[0m\u001b[0mtabs\u001b[0m  \u001b[0;34m=\u001b[0m \u001b[0;34m[\u001b[0m\u001b[0minstantiate_component\u001b[0m\u001b[0;34m(\u001b[0m\u001b[0mtab\u001b[0m\u001b[0;34m,\u001b[0m \u001b[0mexplainer\u001b[0m\u001b[0;34m,\u001b[0m \u001b[0mname\u001b[0m\u001b[0;34m=\u001b[0m\u001b[0mstr\u001b[0m\u001b[0;34m(\u001b[0m\u001b[0mi\u001b[0m\u001b[0;34m+\u001b[0m\u001b[0;36m1\u001b[0m\u001b[0;34m)\u001b[0m\u001b[0;34m,\u001b[0m \u001b[0;34m**\u001b[0m\u001b[0mkwargs\u001b[0m\u001b[0;34m)\u001b[0m \u001b[0;32mfor\u001b[0m \u001b[0mi\u001b[0m\u001b[0;34m,\u001b[0m \u001b[0mtab\u001b[0m \u001b[0;32min\u001b[0m \u001b[0menumerate\u001b[0m\u001b[0;34m(\u001b[0m\u001b[0mtabs\u001b[0m\u001b[0;34m)\u001b[0m\u001b[0;34m]\u001b[0m\u001b[0;34m\u001b[0m\u001b[0;34m\u001b[0m\u001b[0m\n\u001b[0m\u001b[1;32m     91\u001b[0m         \u001b[0;32massert\u001b[0m \u001b[0mlen\u001b[0m\u001b[0;34m(\u001b[0m\u001b[0mself\u001b[0m\u001b[0;34m.\u001b[0m\u001b[0mtabs\u001b[0m\u001b[0;34m)\u001b[0m \u001b[0;34m>\u001b[0m \u001b[0;36m0\u001b[0m\u001b[0;34m,\u001b[0m \u001b[0;34m'When passing a list to tabs, need to pass at least one valid tab!'\u001b[0m\u001b[0;34m\u001b[0m\u001b[0;34m\u001b[0m\u001b[0m\n\u001b[1;32m     92\u001b[0m \u001b[0;34m\u001b[0m\u001b[0m\n",
      "\u001b[0;32m/opt/conda/lib/python3.9/site-packages/explainerdashboard/dashboards.py\u001b[0m in \u001b[0;36m<listcomp>\u001b[0;34m(.0)\u001b[0m\n\u001b[1;32m     88\u001b[0m \u001b[0;34m\u001b[0m\u001b[0m\n\u001b[1;32m     89\u001b[0m         \u001b[0mself\u001b[0m\u001b[0;34m.\u001b[0m\u001b[0mselector\u001b[0m \u001b[0;34m=\u001b[0m \u001b[0mPosLabelSelector\u001b[0m\u001b[0;34m(\u001b[0m\u001b[0mexplainer\u001b[0m\u001b[0;34m,\u001b[0m \u001b[0mname\u001b[0m\u001b[0;34m=\u001b[0m\u001b[0;34m\"0\"\u001b[0m\u001b[0;34m,\u001b[0m \u001b[0mpos_label\u001b[0m\u001b[0;34m=\u001b[0m\u001b[0mpos_label\u001b[0m\u001b[0;34m)\u001b[0m\u001b[0;34m\u001b[0m\u001b[0;34m\u001b[0m\u001b[0m\n\u001b[0;32m---> 90\u001b[0;31m         \u001b[0mself\u001b[0m\u001b[0;34m.\u001b[0m\u001b[0mtabs\u001b[0m  \u001b[0;34m=\u001b[0m \u001b[0;34m[\u001b[0m\u001b[0minstantiate_component\u001b[0m\u001b[0;34m(\u001b[0m\u001b[0mtab\u001b[0m\u001b[0;34m,\u001b[0m \u001b[0mexplainer\u001b[0m\u001b[0;34m,\u001b[0m \u001b[0mname\u001b[0m\u001b[0;34m=\u001b[0m\u001b[0mstr\u001b[0m\u001b[0;34m(\u001b[0m\u001b[0mi\u001b[0m\u001b[0;34m+\u001b[0m\u001b[0;36m1\u001b[0m\u001b[0;34m)\u001b[0m\u001b[0;34m,\u001b[0m \u001b[0;34m**\u001b[0m\u001b[0mkwargs\u001b[0m\u001b[0;34m)\u001b[0m \u001b[0;32mfor\u001b[0m \u001b[0mi\u001b[0m\u001b[0;34m,\u001b[0m \u001b[0mtab\u001b[0m \u001b[0;32min\u001b[0m \u001b[0menumerate\u001b[0m\u001b[0;34m(\u001b[0m\u001b[0mtabs\u001b[0m\u001b[0;34m)\u001b[0m\u001b[0;34m]\u001b[0m\u001b[0;34m\u001b[0m\u001b[0;34m\u001b[0m\u001b[0m\n\u001b[0m\u001b[1;32m     91\u001b[0m         \u001b[0;32massert\u001b[0m \u001b[0mlen\u001b[0m\u001b[0;34m(\u001b[0m\u001b[0mself\u001b[0m\u001b[0;34m.\u001b[0m\u001b[0mtabs\u001b[0m\u001b[0;34m)\u001b[0m \u001b[0;34m>\u001b[0m \u001b[0;36m0\u001b[0m\u001b[0;34m,\u001b[0m \u001b[0;34m'When passing a list to tabs, need to pass at least one valid tab!'\u001b[0m\u001b[0;34m\u001b[0m\u001b[0;34m\u001b[0m\u001b[0m\n\u001b[1;32m     92\u001b[0m \u001b[0;34m\u001b[0m\u001b[0m\n",
      "\u001b[0;32m/opt/conda/lib/python3.9/site-packages/explainerdashboard/dashboard_methods.py\u001b[0m in \u001b[0;36minstantiate_component\u001b[0;34m(component, explainer, name, **kwargs)\u001b[0m\n\u001b[1;32m    686\u001b[0m             \u001b[0mkwargs\u001b[0m \u001b[0;34m=\u001b[0m \u001b[0;34m{\u001b[0m\u001b[0mk\u001b[0m\u001b[0;34m:\u001b[0m\u001b[0mv\u001b[0m \u001b[0;32mfor\u001b[0m \u001b[0mk\u001b[0m\u001b[0;34m,\u001b[0m\u001b[0mv\u001b[0m \u001b[0;32min\u001b[0m \u001b[0mkwargs\u001b[0m\u001b[0;34m.\u001b[0m\u001b[0mitems\u001b[0m\u001b[0;34m(\u001b[0m\u001b[0;34m)\u001b[0m \u001b[0;32mif\u001b[0m \u001b[0mk\u001b[0m \u001b[0;32min\u001b[0m \u001b[0minit_argspec\u001b[0m\u001b[0;34m.\u001b[0m\u001b[0margs\u001b[0m \u001b[0;34m+\u001b[0m \u001b[0minit_argspec\u001b[0m\u001b[0;34m.\u001b[0m\u001b[0mkwonlyargs\u001b[0m\u001b[0;34m}\u001b[0m\u001b[0;34m\u001b[0m\u001b[0;34m\u001b[0m\u001b[0m\n\u001b[1;32m    687\u001b[0m         \u001b[0;32mif\u001b[0m \u001b[0;34m\"name\"\u001b[0m \u001b[0;32min\u001b[0m \u001b[0minit_argspec\u001b[0m\u001b[0;34m.\u001b[0m\u001b[0margs\u001b[0m\u001b[0;34m+\u001b[0m\u001b[0minit_argspec\u001b[0m\u001b[0;34m.\u001b[0m\u001b[0mkwonlyargs\u001b[0m\u001b[0;34m:\u001b[0m\u001b[0;34m\u001b[0m\u001b[0;34m\u001b[0m\u001b[0m\n\u001b[0;32m--> 688\u001b[0;31m             \u001b[0mcomponent\u001b[0m \u001b[0;34m=\u001b[0m \u001b[0mcomponent\u001b[0m\u001b[0;34m(\u001b[0m\u001b[0mexplainer\u001b[0m\u001b[0;34m,\u001b[0m \u001b[0mname\u001b[0m\u001b[0;34m=\u001b[0m\u001b[0mname\u001b[0m\u001b[0;34m,\u001b[0m \u001b[0;34m**\u001b[0m\u001b[0mkwargs\u001b[0m\u001b[0;34m)\u001b[0m\u001b[0;34m\u001b[0m\u001b[0;34m\u001b[0m\u001b[0m\n\u001b[0m\u001b[1;32m    689\u001b[0m         \u001b[0;32melse\u001b[0m\u001b[0;34m:\u001b[0m\u001b[0;34m\u001b[0m\u001b[0;34m\u001b[0m\u001b[0m\n\u001b[1;32m    690\u001b[0m             print(f\"ExplainerComponent {component} does not accept a name parameter, \"\n",
      "\u001b[0;32m/opt/conda/lib/python3.9/site-packages/explainerdashboard/dashboard_components/composites.py\u001b[0m in \u001b[0;36m__init__\u001b[0;34m(self, explainer, title, name, hide_whatifindexselector, hide_inputeditor, hide_whatifprediction, hide_whatifcontributiongraph, hide_whatifpdp, hide_whatifcontributiontable, hide_title, hide_selector, index_check, n_input_cols, sort, **kwargs)\u001b[0m\n\u001b[1;32m    413\u001b[0m             \u001b[0mself\u001b[0m\u001b[0;34m.\u001b[0m\u001b[0mhide_whatifcontributiongraph\u001b[0m \u001b[0;34m=\u001b[0m \u001b[0mkwargs\u001b[0m\u001b[0;34m[\u001b[0m\u001b[0;34m'hide_whatifcontribution'\u001b[0m\u001b[0;34m]\u001b[0m\u001b[0;34m\u001b[0m\u001b[0;34m\u001b[0m\u001b[0m\n\u001b[1;32m    414\u001b[0m \u001b[0;34m\u001b[0m\u001b[0m\n\u001b[0;32m--> 415\u001b[0;31m         self.input = FeatureInputComponent(explainer, name=self.name+\"0\",\n\u001b[0m\u001b[1;32m    416\u001b[0m                         \u001b[0mhide_selector\u001b[0m\u001b[0;34m=\u001b[0m\u001b[0mhide_selector\u001b[0m\u001b[0;34m,\u001b[0m \u001b[0mn_input_cols\u001b[0m\u001b[0;34m=\u001b[0m\u001b[0mself\u001b[0m\u001b[0;34m.\u001b[0m\u001b[0mn_input_cols\u001b[0m\u001b[0;34m,\u001b[0m\u001b[0;34m\u001b[0m\u001b[0;34m\u001b[0m\u001b[0m\n\u001b[1;32m    417\u001b[0m                         **update_params(kwargs, hide_index=True))\n",
      "\u001b[0;32m/opt/conda/lib/python3.9/site-packages/explainerdashboard/dashboard_components/overview_components.py\u001b[0m in \u001b[0;36m__init__\u001b[0;34m(self, explainer, title, name, subtitle, hide_title, hide_subtitle, hide_index, hide_range, index, n_input_cols, sort_features, fill_row_first, description, **kwargs)\u001b[0m\n\u001b[1;32m    688\u001b[0m                     \"or 'alphabet', but you passed sort_features='{self.sort_features}'\")\n\u001b[1;32m    689\u001b[0m \u001b[0;34m\u001b[0m\u001b[0m\n\u001b[0;32m--> 690\u001b[0;31m         self._feature_inputs = [\n\u001b[0m\u001b[1;32m    691\u001b[0m             self._generate_dash_input(\n\u001b[1;32m    692\u001b[0m                 feature, self.explainer.onehot_cols, self.explainer.onehot_dict, self.explainer.categorical_dict) \n",
      "\u001b[0;32m/opt/conda/lib/python3.9/site-packages/explainerdashboard/dashboard_components/overview_components.py\u001b[0m in \u001b[0;36m<listcomp>\u001b[0;34m(.0)\u001b[0m\n\u001b[1;32m    689\u001b[0m \u001b[0;34m\u001b[0m\u001b[0m\n\u001b[1;32m    690\u001b[0m         self._feature_inputs = [\n\u001b[0;32m--> 691\u001b[0;31m             self._generate_dash_input(\n\u001b[0m\u001b[1;32m    692\u001b[0m                 feature, self.explainer.onehot_cols, self.explainer.onehot_dict, self.explainer.categorical_dict) \n\u001b[1;32m    693\u001b[0m                                 for feature in self._input_features]\n",
      "\u001b[0;32m/opt/conda/lib/python3.9/site-packages/explainerdashboard/dashboard_components/overview_components.py\u001b[0m in \u001b[0;36m_generate_dash_input\u001b[0;34m(self, col, onehot_cols, onehot_dict, cat_dict)\u001b[0m\n\u001b[1;32m    729\u001b[0m             \u001b[0mmin_range\u001b[0m \u001b[0;34m=\u001b[0m \u001b[0mnp\u001b[0m\u001b[0;34m.\u001b[0m\u001b[0mround\u001b[0m\u001b[0;34m(\u001b[0m\u001b[0mself\u001b[0m\u001b[0;34m.\u001b[0m\u001b[0mexplainer\u001b[0m\u001b[0;34m.\u001b[0m\u001b[0mX\u001b[0m\u001b[0;34m[\u001b[0m\u001b[0mcol\u001b[0m\u001b[0;34m]\u001b[0m\u001b[0;34m[\u001b[0m\u001b[0;32mlambda\u001b[0m \u001b[0mx\u001b[0m\u001b[0;34m:\u001b[0m \u001b[0mx\u001b[0m \u001b[0;34m!=\u001b[0m \u001b[0mself\u001b[0m\u001b[0;34m.\u001b[0m\u001b[0mexplainer\u001b[0m\u001b[0;34m.\u001b[0m\u001b[0mna_fill\u001b[0m\u001b[0;34m]\u001b[0m\u001b[0;34m.\u001b[0m\u001b[0mmin\u001b[0m\u001b[0;34m(\u001b[0m\u001b[0;34m)\u001b[0m\u001b[0;34m,\u001b[0m \u001b[0;36m2\u001b[0m\u001b[0;34m)\u001b[0m\u001b[0;34m\u001b[0m\u001b[0;34m\u001b[0m\u001b[0m\n\u001b[1;32m    730\u001b[0m             \u001b[0mmax_range\u001b[0m \u001b[0;34m=\u001b[0m \u001b[0mnp\u001b[0m\u001b[0;34m.\u001b[0m\u001b[0mround\u001b[0m\u001b[0;34m(\u001b[0m\u001b[0mself\u001b[0m\u001b[0;34m.\u001b[0m\u001b[0mexplainer\u001b[0m\u001b[0;34m.\u001b[0m\u001b[0mX\u001b[0m\u001b[0;34m[\u001b[0m\u001b[0mcol\u001b[0m\u001b[0;34m]\u001b[0m\u001b[0;34m[\u001b[0m\u001b[0;32mlambda\u001b[0m \u001b[0mx\u001b[0m\u001b[0;34m:\u001b[0m \u001b[0mx\u001b[0m \u001b[0;34m!=\u001b[0m \u001b[0mself\u001b[0m\u001b[0;34m.\u001b[0m\u001b[0mexplainer\u001b[0m\u001b[0;34m.\u001b[0m\u001b[0mna_fill\u001b[0m\u001b[0;34m]\u001b[0m\u001b[0;34m.\u001b[0m\u001b[0mmax\u001b[0m\u001b[0;34m(\u001b[0m\u001b[0;34m)\u001b[0m\u001b[0;34m,\u001b[0m \u001b[0;36m2\u001b[0m\u001b[0;34m)\u001b[0m\u001b[0;34m\u001b[0m\u001b[0;34m\u001b[0m\u001b[0m\n\u001b[0;32m--> 731\u001b[0;31m             return dbc.FormGroup([\n\u001b[0m\u001b[1;32m    732\u001b[0m                     \u001b[0mdbc\u001b[0m\u001b[0;34m.\u001b[0m\u001b[0mLabel\u001b[0m\u001b[0;34m(\u001b[0m\u001b[0mcol\u001b[0m\u001b[0;34m)\u001b[0m\u001b[0;34m,\u001b[0m\u001b[0;34m\u001b[0m\u001b[0;34m\u001b[0m\u001b[0m\n\u001b[1;32m    733\u001b[0m                     \u001b[0mdbc\u001b[0m\u001b[0;34m.\u001b[0m\u001b[0mInput\u001b[0m\u001b[0;34m(\u001b[0m\u001b[0mid\u001b[0m\u001b[0;34m=\u001b[0m\u001b[0;34m'feature-input-'\u001b[0m\u001b[0;34m+\u001b[0m\u001b[0mcol\u001b[0m\u001b[0;34m+\u001b[0m\u001b[0;34m'-input-'\u001b[0m\u001b[0;34m+\u001b[0m\u001b[0mself\u001b[0m\u001b[0;34m.\u001b[0m\u001b[0mname\u001b[0m\u001b[0;34m,\u001b[0m \u001b[0mtype\u001b[0m\u001b[0;34m=\u001b[0m\u001b[0;34m\"number\"\u001b[0m\u001b[0;34m)\u001b[0m\u001b[0;34m,\u001b[0m\u001b[0;34m\u001b[0m\u001b[0;34m\u001b[0m\u001b[0m\n",
      "\u001b[0;32m/opt/conda/lib/python3.9/site-packages/dash_bootstrap_components/__init__.py\u001b[0m in \u001b[0;36m__getattr__\u001b[0;34m(self, name)\u001b[0m\n\u001b[1;32m     49\u001b[0m \u001b[0;34m\u001b[0m\u001b[0m\n\u001b[1;32m     50\u001b[0m \u001b[0;34m\u001b[0m\u001b[0m\n\u001b[0;32m---> 51\u001b[0;31m \u001b[0;32mclass\u001b[0m \u001b[0mDatePickerRange\u001b[0m\u001b[0;34m(\u001b[0m\u001b[0mobject\u001b[0m\u001b[0;34m)\u001b[0m\u001b[0;34m:\u001b[0m\u001b[0;34m\u001b[0m\u001b[0;34m\u001b[0m\u001b[0m\n\u001b[0m\u001b[1;32m     52\u001b[0m     \u001b[0;32mdef\u001b[0m \u001b[0m__init__\u001b[0m\u001b[0;34m(\u001b[0m\u001b[0mself\u001b[0m\u001b[0;34m,\u001b[0m \u001b[0;34m*\u001b[0m\u001b[0margs\u001b[0m\u001b[0;34m,\u001b[0m \u001b[0;34m**\u001b[0m\u001b[0mkwargs\u001b[0m\u001b[0;34m)\u001b[0m\u001b[0;34m:\u001b[0m\u001b[0;34m\u001b[0m\u001b[0;34m\u001b[0m\u001b[0m\n\u001b[1;32m     53\u001b[0m         raise AttributeError(\n",
      "\u001b[0;31mAttributeError\u001b[0m: FormGroup was deprecated in dash-bootstrap-components version 1.0.0. You are using 1.2.0. For more details please see the migration guide: https://dash-bootstrap-components.opensource.faculty.ai/migration-guide/"
     ]
    }
   ],
   "source": [
    "# ExplainerDashboard(explainer).run()"
   ]
  },
  {
   "cell_type": "code",
   "execution_count": 37,
   "id": "e124a471-8552-4e8a-be90-5bae0004aa97",
   "metadata": {
    "collapsed": true,
    "jupyter": {
     "outputs_hidden": true
    },
    "tags": []
   },
   "outputs": [
    {
     "name": "stdout",
     "output_type": "stream",
     "text": [
      "\u001b[33mWARNING: Ignoring invalid distribution -edi (/opt/conda/lib/python3.9/site-packages)\u001b[0m\u001b[33m\n",
      "\u001b[0m\u001b[33mWARNING: Ignoring invalid distribution -edi (/opt/conda/lib/python3.9/site-packages)\u001b[0m\u001b[33m\n",
      "\u001b[0mCollecting dash-bootstrap-components<1\n",
      "  Downloading dash_bootstrap_components-0.13.1-py3-none-any.whl (197 kB)\n",
      "\u001b[2K     \u001b[90m━━━━━━━━━━━━━━━━━━━━━━━━━━━━━━━━━━━━━━━\u001b[0m \u001b[32m197.3/197.3 kB\u001b[0m \u001b[31m2.3 MB/s\u001b[0m eta \u001b[36m0:00:00\u001b[0ma \u001b[36m0:00:01\u001b[0m\n",
      "\u001b[?25hRequirement already satisfied: dash>=1.9.0 in /opt/conda/lib/python3.9/site-packages (from dash-bootstrap-components<1) (2.6.0)\n",
      "Requirement already satisfied: dash-core-components==2.0.0 in /opt/conda/lib/python3.9/site-packages (from dash>=1.9.0->dash-bootstrap-components<1) (2.0.0)\n",
      "Requirement already satisfied: Flask>=1.0.4 in /opt/conda/lib/python3.9/site-packages (from dash>=1.9.0->dash-bootstrap-components<1) (2.0.3)\n",
      "Requirement already satisfied: plotly>=5.0.0 in /opt/conda/lib/python3.9/site-packages (from dash>=1.9.0->dash-bootstrap-components<1) (5.6.0)\n",
      "Requirement already satisfied: dash-table==5.0.0 in /opt/conda/lib/python3.9/site-packages (from dash>=1.9.0->dash-bootstrap-components<1) (5.0.0)\n",
      "Requirement already satisfied: dash-html-components==2.0.0 in /opt/conda/lib/python3.9/site-packages (from dash>=1.9.0->dash-bootstrap-components<1) (2.0.0)\n",
      "Requirement already satisfied: flask-compress in /opt/conda/lib/python3.9/site-packages (from dash>=1.9.0->dash-bootstrap-components<1) (1.12)\n",
      "Requirement already satisfied: click>=7.1.2 in /opt/conda/lib/python3.9/site-packages (from Flask>=1.0.4->dash>=1.9.0->dash-bootstrap-components<1) (7.1.2)\n",
      "Requirement already satisfied: Werkzeug>=2.0 in /opt/conda/lib/python3.9/site-packages (from Flask>=1.0.4->dash>=1.9.0->dash-bootstrap-components<1) (2.0.3)\n",
      "Requirement already satisfied: itsdangerous>=2.0 in /opt/conda/lib/python3.9/site-packages (from Flask>=1.0.4->dash>=1.9.0->dash-bootstrap-components<1) (2.0.1)\n",
      "Requirement already satisfied: Jinja2>=3.0 in /opt/conda/lib/python3.9/site-packages (from Flask>=1.0.4->dash>=1.9.0->dash-bootstrap-components<1) (3.1.2)\n",
      "Requirement already satisfied: six in /opt/conda/lib/python3.9/site-packages (from plotly>=5.0.0->dash>=1.9.0->dash-bootstrap-components<1) (1.16.0)\n",
      "Requirement already satisfied: tenacity>=6.2.0 in /opt/conda/lib/python3.9/site-packages (from plotly>=5.0.0->dash>=1.9.0->dash-bootstrap-components<1) (8.0.1)\n",
      "Requirement already satisfied: brotli in /opt/conda/lib/python3.9/site-packages (from flask-compress->dash>=1.9.0->dash-bootstrap-components<1) (1.0.9)\n",
      "Requirement already satisfied: MarkupSafe>=2.0 in /opt/conda/lib/python3.9/site-packages (from Jinja2>=3.0->Flask>=1.0.4->dash>=1.9.0->dash-bootstrap-components<1) (2.1.1)\n",
      "\u001b[33mWARNING: Ignoring invalid distribution -edi (/opt/conda/lib/python3.9/site-packages)\u001b[0m\u001b[33m\n",
      "\u001b[0mInstalling collected packages: dash-bootstrap-components\n",
      "  Attempting uninstall: dash-bootstrap-components\n",
      "\u001b[33m    WARNING: Ignoring invalid distribution -edi (/opt/conda/lib/python3.9/site-packages)\u001b[0m\u001b[33m\n",
      "\u001b[0m    Found existing installation: dash-bootstrap-components 1.2.0\n",
      "    Uninstalling dash-bootstrap-components-1.2.0:\n",
      "      Successfully uninstalled dash-bootstrap-components-1.2.0\n",
      "\u001b[33mWARNING: Ignoring invalid distribution -edi (/opt/conda/lib/python3.9/site-packages)\u001b[0m\u001b[33m\n",
      "\u001b[0m\u001b[31mERROR: pip's dependency resolver does not currently take into account all the packages that are installed. This behaviour is the source of the following dependency conflicts.\n",
      "shapash 2.0.1 requires dash-bootstrap-components>=1.1.0, but you have dash-bootstrap-components 0.13.1 which is incompatible.\u001b[0m\u001b[31m\n",
      "\u001b[0mSuccessfully installed dash-bootstrap-components-0.13.1\n",
      "\u001b[33mWARNING: Running pip as the 'root' user can result in broken permissions and conflicting behaviour with the system package manager. It is recommended to use a virtual environment instead: https://pip.pypa.io/warnings/venv\u001b[0m\u001b[33m\n",
      "\u001b[0m\u001b[33mWARNING: Ignoring invalid distribution -edi (/opt/conda/lib/python3.9/site-packages)\u001b[0m\u001b[33m\n",
      "\u001b[0m\u001b[33mWARNING: Ignoring invalid distribution -edi (/opt/conda/lib/python3.9/site-packages)\u001b[0m\u001b[33m\n",
      "\u001b[0m\u001b[33mWARNING: Ignoring invalid distribution -edi (/opt/conda/lib/python3.9/site-packages)\u001b[0m\u001b[33m\n",
      "\u001b[0m"
     ]
    }
   ],
   "source": [
    "# !pip install \"dash-bootstrap-components<1\""
   ]
  },
  {
   "cell_type": "code",
   "execution_count": 39,
   "id": "7d5baf47-6125-4579-bf7b-75c1611d1366",
   "metadata": {},
   "outputs": [
    {
     "name": "stdout",
     "output_type": "stream",
     "text": [
      "Collecting package metadata (current_repodata.json): done\n",
      "Solving environment: failed with initial frozen solve. Retrying with flexible solve.\n",
      "Solving environment: failed with repodata from current_repodata.json, will retry with next repodata source.\n",
      "Collecting package metadata (repodata.json): - ^C\n",
      "\\ "
     ]
    }
   ],
   "source": [
    "# !conda install -c conda-forge \"dash-bootstrap-components<1\""
   ]
  },
  {
   "cell_type": "code",
   "execution_count": 40,
   "id": "23559b17-6f90-4f37-9724-315a00145e28",
   "metadata": {},
   "outputs": [
    {
     "name": "stdout",
     "output_type": "stream",
     "text": [
      "Collecting package metadata (current_repodata.json): done\n",
      "Solving environment: failed with initial frozen solve. Retrying with flexible solve.\n",
      "Solving environment: failed with repodata from current_repodata.json, will retry with next repodata source.\n",
      "Collecting package metadata (repodata.json): \\ ^C\n",
      "/ "
     ]
    }
   ],
   "source": [
    "# !conda install -y -c conda-forge explainerdashboard"
   ]
  },
  {
   "cell_type": "code",
   "execution_count": null,
   "id": "9ae58340-9ac2-4944-8c5a-4d2562d6ed4b",
   "metadata": {},
   "outputs": [],
   "source": []
  }
 ],
 "metadata": {
  "kernelspec": {
   "display_name": "Python 3 (ipykernel)",
   "language": "python",
   "name": "python3"
  },
  "language_info": {
   "codemirror_mode": {
    "name": "ipython",
    "version": 3
   },
   "file_extension": ".py",
   "mimetype": "text/x-python",
   "name": "python",
   "nbconvert_exporter": "python",
   "pygments_lexer": "ipython3",
   "version": "3.9.12"
  }
 },
 "nbformat": 4,
 "nbformat_minor": 5
}
