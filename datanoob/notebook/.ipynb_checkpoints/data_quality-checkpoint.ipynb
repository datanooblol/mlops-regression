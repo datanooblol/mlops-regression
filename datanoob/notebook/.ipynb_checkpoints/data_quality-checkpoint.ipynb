{
 "cells": [
  {
   "cell_type": "code",
   "execution_count": 65,
   "id": "e1178b7e-2b57-4cf5-8495-ef633a1982f3",
   "metadata": {},
   "outputs": [
    {
     "name": "stdout",
     "output_type": "stream",
     "text": [
      "The autoreload extension is already loaded. To reload it, use:\n",
      "  %reload_ext autoreload\n"
     ]
    }
   ],
   "source": [
    "%load_ext autoreload\n",
    "%autoreload 2"
   ]
  },
  {
   "cell_type": "code",
   "execution_count": 66,
   "id": "8bb7ccab-fead-4be3-b9d5-5661d866fb8d",
   "metadata": {},
   "outputs": [],
   "source": [
    "import pandas as pd\n",
    "import numpy as np\n",
    "import os\n",
    "from datanooblol.configuration.config_manager import LoadFeatureConfig, LoadRepoConfig\n",
    "from datanooblol.extractor.data_extractor import DataExtractor\n",
    "from datanooblol.data_quality.health_check import HealthCheck"
   ]
  },
  {
   "cell_type": "code",
   "execution_count": 101,
   "id": "5204d62c-2645-450c-8540-05f0c97298bc",
   "metadata": {},
   "outputs": [],
   "source": [
    "hc = HealthCheck()\n",
    "dxtr = DataExtractor(end_date=\"2022-04-01\", start_date=\"2022-04-01\")"
   ]
  },
  {
   "cell_type": "markdown",
   "id": "6b5f6bcb-08bd-48f1-b7ab-e16ee474015d",
   "metadata": {},
   "source": [
    "# target"
   ]
  },
  {
   "cell_type": "code",
   "execution_count": 102,
   "id": "962b669d-4904-40eb-a821-0ff4a4f82b9e",
   "metadata": {},
   "outputs": [
    {
     "data": {
      "text/html": [
       "<div>\n",
       "<style scoped>\n",
       "    .dataframe tbody tr th:only-of-type {\n",
       "        vertical-align: middle;\n",
       "    }\n",
       "\n",
       "    .dataframe tbody tr th {\n",
       "        vertical-align: top;\n",
       "    }\n",
       "\n",
       "    .dataframe thead th {\n",
       "        text-align: right;\n",
       "    }\n",
       "</style>\n",
       "<table border=\"1\" class=\"dataframe\">\n",
       "  <thead>\n",
       "    <tr style=\"text-align: right;\">\n",
       "      <th></th>\n",
       "      <th>house_id</th>\n",
       "      <th>event_timestamp</th>\n",
       "      <th>MEDV</th>\n",
       "      <th>load_dt</th>\n",
       "    </tr>\n",
       "  </thead>\n",
       "  <tbody>\n",
       "    <tr>\n",
       "      <th>0</th>\n",
       "      <td>1</td>\n",
       "      <td>2022-04-01</td>\n",
       "      <td>24.0</td>\n",
       "      <td>2022-04-01</td>\n",
       "    </tr>\n",
       "    <tr>\n",
       "      <th>1</th>\n",
       "      <td>2</td>\n",
       "      <td>2022-04-01</td>\n",
       "      <td>21.6</td>\n",
       "      <td>2022-04-01</td>\n",
       "    </tr>\n",
       "    <tr>\n",
       "      <th>2</th>\n",
       "      <td>3</td>\n",
       "      <td>2022-04-01</td>\n",
       "      <td>34.7</td>\n",
       "      <td>2022-04-01</td>\n",
       "    </tr>\n",
       "    <tr>\n",
       "      <th>3</th>\n",
       "      <td>4</td>\n",
       "      <td>2022-04-01</td>\n",
       "      <td>33.4</td>\n",
       "      <td>2022-04-01</td>\n",
       "    </tr>\n",
       "    <tr>\n",
       "      <th>4</th>\n",
       "      <td>5</td>\n",
       "      <td>2022-04-01</td>\n",
       "      <td>36.2</td>\n",
       "      <td>2022-04-01</td>\n",
       "    </tr>\n",
       "  </tbody>\n",
       "</table>\n",
       "</div>"
      ],
      "text/plain": [
       "   house_id event_timestamp  MEDV     load_dt\n",
       "0         1      2022-04-01  24.0  2022-04-01\n",
       "1         2      2022-04-01  21.6  2022-04-01\n",
       "2         3      2022-04-01  34.7  2022-04-01\n",
       "3         4      2022-04-01  33.4  2022-04-01\n",
       "4         5      2022-04-01  36.2  2022-04-01"
      ]
     },
     "execution_count": 102,
     "metadata": {},
     "output_type": "execute_result"
    }
   ],
   "source": [
    "target_df = dxtr.extract_landing(feature_grp=\"target\")\n",
    "target_df.head()"
   ]
  },
  {
   "cell_type": "code",
   "execution_count": 105,
   "id": "ff58154d-3c5a-4cc3-81ff-4cd40a830d3b",
   "metadata": {},
   "outputs": [
    {
     "name": "stdout",
     "output_type": "stream",
     "text": [
      "|                 | dtype          |   cnt_missing |   ratio_missing |   n_unique |   ratio_unique | least               | most                |\n",
      "|:----------------|:---------------|--------------:|----------------:|-----------:|---------------:|:--------------------|:--------------------|\n",
      "| house_id        | int64          |             0 |               0 |        506 |         100    | 1.0                 | 506.0               |\n",
      "| event_timestamp | datetime64[ns] |             0 |               0 |          1 |           0.2  | 2022-04-01 00:00:00 | 2022-04-01 00:00:00 |\n",
      "| MEDV            | float64        |             0 |               0 |        229 |          45.26 | 5.0                 | 50.0                |\n",
      "| load_dt         | category       |             0 |               0 |          1 |           0.2  | 2022-04-01          | 2022-04-01          |\n",
      "\n",
      "\n",
      "row: 506, col: 4\n"
     ]
    }
   ],
   "source": [
    "hc.summary(target_df)"
   ]
  },
  {
   "cell_type": "markdown",
   "id": "5e37874f-9c57-4b2b-95e2-45294d63c1e2",
   "metadata": {},
   "source": [
    "# proportion"
   ]
  },
  {
   "cell_type": "code",
   "execution_count": 75,
   "id": "90da46bf-0da9-4957-b729-dbc4e9260ad1",
   "metadata": {},
   "outputs": [
    {
     "data": {
      "text/html": [
       "<div>\n",
       "<style scoped>\n",
       "    .dataframe tbody tr th:only-of-type {\n",
       "        vertical-align: middle;\n",
       "    }\n",
       "\n",
       "    .dataframe tbody tr th {\n",
       "        vertical-align: top;\n",
       "    }\n",
       "\n",
       "    .dataframe thead th {\n",
       "        text-align: right;\n",
       "    }\n",
       "</style>\n",
       "<table border=\"1\" class=\"dataframe\">\n",
       "  <thead>\n",
       "    <tr style=\"text-align: right;\">\n",
       "      <th></th>\n",
       "      <th>house_id</th>\n",
       "      <th>event_timestamp</th>\n",
       "      <th>ZN</th>\n",
       "      <th>INDUS</th>\n",
       "      <th>RM</th>\n",
       "      <th>PTRATIO</th>\n",
       "      <th>B</th>\n",
       "      <th>LSTAT</th>\n",
       "      <th>load_dt</th>\n",
       "    </tr>\n",
       "  </thead>\n",
       "  <tbody>\n",
       "    <tr>\n",
       "      <th>0</th>\n",
       "      <td>1</td>\n",
       "      <td>2022-04-01</td>\n",
       "      <td>18.0</td>\n",
       "      <td>2.31</td>\n",
       "      <td>6.575</td>\n",
       "      <td>15.3</td>\n",
       "      <td>396.90</td>\n",
       "      <td>4.98</td>\n",
       "      <td>2022-04-01</td>\n",
       "    </tr>\n",
       "    <tr>\n",
       "      <th>1</th>\n",
       "      <td>2</td>\n",
       "      <td>2022-04-01</td>\n",
       "      <td>0.0</td>\n",
       "      <td>7.07</td>\n",
       "      <td>6.421</td>\n",
       "      <td>17.8</td>\n",
       "      <td>396.90</td>\n",
       "      <td>9.14</td>\n",
       "      <td>2022-04-01</td>\n",
       "    </tr>\n",
       "    <tr>\n",
       "      <th>2</th>\n",
       "      <td>3</td>\n",
       "      <td>2022-04-01</td>\n",
       "      <td>0.0</td>\n",
       "      <td>7.07</td>\n",
       "      <td>7.185</td>\n",
       "      <td>17.8</td>\n",
       "      <td>392.83</td>\n",
       "      <td>4.03</td>\n",
       "      <td>2022-04-01</td>\n",
       "    </tr>\n",
       "    <tr>\n",
       "      <th>3</th>\n",
       "      <td>4</td>\n",
       "      <td>2022-04-01</td>\n",
       "      <td>0.0</td>\n",
       "      <td>2.18</td>\n",
       "      <td>6.998</td>\n",
       "      <td>18.7</td>\n",
       "      <td>394.63</td>\n",
       "      <td>2.94</td>\n",
       "      <td>2022-04-01</td>\n",
       "    </tr>\n",
       "    <tr>\n",
       "      <th>4</th>\n",
       "      <td>5</td>\n",
       "      <td>2022-04-01</td>\n",
       "      <td>0.0</td>\n",
       "      <td>2.18</td>\n",
       "      <td>7.147</td>\n",
       "      <td>18.7</td>\n",
       "      <td>396.90</td>\n",
       "      <td>5.33</td>\n",
       "      <td>2022-04-01</td>\n",
       "    </tr>\n",
       "  </tbody>\n",
       "</table>\n",
       "</div>"
      ],
      "text/plain": [
       "   house_id event_timestamp    ZN  INDUS     RM  PTRATIO       B  LSTAT  \\\n",
       "0         1      2022-04-01  18.0   2.31  6.575     15.3  396.90   4.98   \n",
       "1         2      2022-04-01   0.0   7.07  6.421     17.8  396.90   9.14   \n",
       "2         3      2022-04-01   0.0   7.07  7.185     17.8  392.83   4.03   \n",
       "3         4      2022-04-01   0.0   2.18  6.998     18.7  394.63   2.94   \n",
       "4         5      2022-04-01   0.0   2.18  7.147     18.7  396.90   5.33   \n",
       "\n",
       "      load_dt  \n",
       "0  2022-04-01  \n",
       "1  2022-04-01  \n",
       "2  2022-04-01  \n",
       "3  2022-04-01  \n",
       "4  2022-04-01  "
      ]
     },
     "execution_count": 75,
     "metadata": {},
     "output_type": "execute_result"
    }
   ],
   "source": [
    "proportion_df = dxtr.extract_landing(feature_grp=\"proportion\")\n",
    "proportion_df.head()"
   ]
  },
  {
   "cell_type": "code",
   "execution_count": 76,
   "id": "68b616c4-0d92-499f-aad0-3ac021c93d7b",
   "metadata": {},
   "outputs": [
    {
     "name": "stdout",
     "output_type": "stream",
     "text": [
      "|                 | dtype          |   cnt_missing |   ratio_missing |   n_unique |   ratio_unique | least               | most                |\n",
      "|:----------------|:---------------|--------------:|----------------:|-----------:|---------------:|:--------------------|:--------------------|\n",
      "| house_id        | int64          |             0 |               0 |        506 |          40    | 1.0                 | 506.0               |\n",
      "| event_timestamp | datetime64[ns] |             0 |               0 |          4 |           0.32 | 2022-04-01 00:00:00 | 2022-07-01 00:00:00 |\n",
      "| ZN              | float64        |             0 |               0 |         26 |           2.06 | 0.0                 | 100.0               |\n",
      "| INDUS           | float64        |             0 |               0 |         76 |           6.01 | 0.46                | 27.74               |\n",
      "| RM              | float64        |             0 |               0 |        446 |          35.26 | 3.561               | 8.78                |\n",
      "| PTRATIO         | float64        |             0 |               0 |         46 |           3.64 | 12.6                | 22.0                |\n",
      "| B               | float64        |             0 |               0 |        357 |          28.22 | 0.32                | 396.9               |\n",
      "| LSTAT           | float64        |             0 |               0 |        455 |          35.97 | 1.73                | 37.97               |\n",
      "| load_dt         | category       |             0 |               0 |          4 |           0.32 | 2022-07-01          | 2022-04-01          |\n",
      "\n",
      "\n",
      "row: 1265, col: 9\n"
     ]
    }
   ],
   "source": [
    "hc.summary(proportion_df)"
   ]
  },
  {
   "cell_type": "markdown",
   "id": "6de31340-aca9-4105-89e1-973c09e7a0ce",
   "metadata": {},
   "source": [
    "# geography"
   ]
  },
  {
   "cell_type": "code",
   "execution_count": 77,
   "id": "b30a09da-1ba6-4dcb-bc07-4d2ab58e8648",
   "metadata": {},
   "outputs": [
    {
     "data": {
      "text/html": [
       "<div>\n",
       "<style scoped>\n",
       "    .dataframe tbody tr th:only-of-type {\n",
       "        vertical-align: middle;\n",
       "    }\n",
       "\n",
       "    .dataframe tbody tr th {\n",
       "        vertical-align: top;\n",
       "    }\n",
       "\n",
       "    .dataframe thead th {\n",
       "        text-align: right;\n",
       "    }\n",
       "</style>\n",
       "<table border=\"1\" class=\"dataframe\">\n",
       "  <thead>\n",
       "    <tr style=\"text-align: right;\">\n",
       "      <th></th>\n",
       "      <th>house_id</th>\n",
       "      <th>event_timestamp</th>\n",
       "      <th>CHAS</th>\n",
       "      <th>DIS</th>\n",
       "      <th>RAD</th>\n",
       "      <th>load_dt</th>\n",
       "    </tr>\n",
       "  </thead>\n",
       "  <tbody>\n",
       "    <tr>\n",
       "      <th>0</th>\n",
       "      <td>1</td>\n",
       "      <td>2022-04-01</td>\n",
       "      <td>0</td>\n",
       "      <td>4.0900</td>\n",
       "      <td>1</td>\n",
       "      <td>2022-04-01</td>\n",
       "    </tr>\n",
       "    <tr>\n",
       "      <th>1</th>\n",
       "      <td>2</td>\n",
       "      <td>2022-04-01</td>\n",
       "      <td>0</td>\n",
       "      <td>4.9671</td>\n",
       "      <td>2</td>\n",
       "      <td>2022-04-01</td>\n",
       "    </tr>\n",
       "    <tr>\n",
       "      <th>2</th>\n",
       "      <td>3</td>\n",
       "      <td>2022-04-01</td>\n",
       "      <td>0</td>\n",
       "      <td>4.9671</td>\n",
       "      <td>2</td>\n",
       "      <td>2022-04-01</td>\n",
       "    </tr>\n",
       "    <tr>\n",
       "      <th>3</th>\n",
       "      <td>4</td>\n",
       "      <td>2022-04-01</td>\n",
       "      <td>0</td>\n",
       "      <td>6.0622</td>\n",
       "      <td>3</td>\n",
       "      <td>2022-04-01</td>\n",
       "    </tr>\n",
       "    <tr>\n",
       "      <th>4</th>\n",
       "      <td>5</td>\n",
       "      <td>2022-04-01</td>\n",
       "      <td>0</td>\n",
       "      <td>6.0622</td>\n",
       "      <td>3</td>\n",
       "      <td>2022-04-01</td>\n",
       "    </tr>\n",
       "  </tbody>\n",
       "</table>\n",
       "</div>"
      ],
      "text/plain": [
       "   house_id event_timestamp  CHAS     DIS  RAD     load_dt\n",
       "0         1      2022-04-01     0  4.0900    1  2022-04-01\n",
       "1         2      2022-04-01     0  4.9671    2  2022-04-01\n",
       "2         3      2022-04-01     0  4.9671    2  2022-04-01\n",
       "3         4      2022-04-01     0  6.0622    3  2022-04-01\n",
       "4         5      2022-04-01     0  6.0622    3  2022-04-01"
      ]
     },
     "execution_count": 77,
     "metadata": {},
     "output_type": "execute_result"
    }
   ],
   "source": [
    "geography_df = dxtr.extract_landing(feature_grp=\"geography\")\n",
    "geography_df.head()"
   ]
  },
  {
   "cell_type": "code",
   "execution_count": 78,
   "id": "cabc525e-d81f-4020-84a2-ec68648d3b31",
   "metadata": {},
   "outputs": [
    {
     "name": "stdout",
     "output_type": "stream",
     "text": [
      "|                 | dtype          |   cnt_missing |   ratio_missing |   n_unique |   ratio_unique | least               | most                |\n",
      "|:----------------|:---------------|--------------:|----------------:|-----------:|---------------:|:--------------------|:--------------------|\n",
      "| house_id        | int64          |             0 |               0 |        506 |          40    | 1.0                 | 506.0               |\n",
      "| event_timestamp | datetime64[ns] |             0 |               0 |          4 |           0.32 | 2022-04-01 00:00:00 | 2022-07-01 00:00:00 |\n",
      "| CHAS            | int64          |             0 |               0 |          2 |           0.16 | 0                   | 1                   |\n",
      "| DIS             | float64        |             0 |               0 |        412 |          32.57 | 1.1296              | 12.1265             |\n",
      "| RAD             | int64          |             0 |               0 |          9 |           0.71 | 1                   | 24                  |\n",
      "| load_dt         | category       |             0 |               0 |          4 |           0.32 | 2022-07-01          | 2022-04-01          |\n",
      "\n",
      "\n",
      "row: 1265, col: 6\n"
     ]
    }
   ],
   "source": [
    "hc.summary(geography_df)"
   ]
  },
  {
   "cell_type": "markdown",
   "id": "9160cc9a-a349-4d27-8964-e5f7803fcbf3",
   "metadata": {},
   "source": [
    "# toxic"
   ]
  },
  {
   "cell_type": "code",
   "execution_count": 79,
   "id": "f6db26d4-03c2-4dee-b065-58bb48b35e21",
   "metadata": {},
   "outputs": [
    {
     "data": {
      "text/html": [
       "<div>\n",
       "<style scoped>\n",
       "    .dataframe tbody tr th:only-of-type {\n",
       "        vertical-align: middle;\n",
       "    }\n",
       "\n",
       "    .dataframe tbody tr th {\n",
       "        vertical-align: top;\n",
       "    }\n",
       "\n",
       "    .dataframe thead th {\n",
       "        text-align: right;\n",
       "    }\n",
       "</style>\n",
       "<table border=\"1\" class=\"dataframe\">\n",
       "  <thead>\n",
       "    <tr style=\"text-align: right;\">\n",
       "      <th></th>\n",
       "      <th>house_id</th>\n",
       "      <th>event_timestamp</th>\n",
       "      <th>NOX</th>\n",
       "      <th>load_dt</th>\n",
       "    </tr>\n",
       "  </thead>\n",
       "  <tbody>\n",
       "    <tr>\n",
       "      <th>0</th>\n",
       "      <td>1</td>\n",
       "      <td>2022-04-01</td>\n",
       "      <td>0.538</td>\n",
       "      <td>2022-04-01</td>\n",
       "    </tr>\n",
       "    <tr>\n",
       "      <th>1</th>\n",
       "      <td>2</td>\n",
       "      <td>2022-04-01</td>\n",
       "      <td>0.469</td>\n",
       "      <td>2022-04-01</td>\n",
       "    </tr>\n",
       "    <tr>\n",
       "      <th>2</th>\n",
       "      <td>3</td>\n",
       "      <td>2022-04-01</td>\n",
       "      <td>0.469</td>\n",
       "      <td>2022-04-01</td>\n",
       "    </tr>\n",
       "    <tr>\n",
       "      <th>3</th>\n",
       "      <td>4</td>\n",
       "      <td>2022-04-01</td>\n",
       "      <td>0.458</td>\n",
       "      <td>2022-04-01</td>\n",
       "    </tr>\n",
       "    <tr>\n",
       "      <th>4</th>\n",
       "      <td>5</td>\n",
       "      <td>2022-04-01</td>\n",
       "      <td>0.458</td>\n",
       "      <td>2022-04-01</td>\n",
       "    </tr>\n",
       "  </tbody>\n",
       "</table>\n",
       "</div>"
      ],
      "text/plain": [
       "   house_id event_timestamp    NOX     load_dt\n",
       "0         1      2022-04-01  0.538  2022-04-01\n",
       "1         2      2022-04-01  0.469  2022-04-01\n",
       "2         3      2022-04-01  0.469  2022-04-01\n",
       "3         4      2022-04-01  0.458  2022-04-01\n",
       "4         5      2022-04-01  0.458  2022-04-01"
      ]
     },
     "execution_count": 79,
     "metadata": {},
     "output_type": "execute_result"
    }
   ],
   "source": [
    "toxic_df = dxtr.extract_landing(feature_grp=\"toxic\")\n",
    "toxic_df.head()"
   ]
  },
  {
   "cell_type": "code",
   "execution_count": 80,
   "id": "d8c7f6b5-e02b-411f-8dff-9917cfef6a49",
   "metadata": {},
   "outputs": [
    {
     "name": "stdout",
     "output_type": "stream",
     "text": [
      "|                 | dtype          |   cnt_missing |   ratio_missing |   n_unique |   ratio_unique | least               | most                |\n",
      "|:----------------|:---------------|--------------:|----------------:|-----------:|---------------:|:--------------------|:--------------------|\n",
      "| house_id        | int64          |             0 |               0 |        506 |          40    | 1.0                 | 506.0               |\n",
      "| event_timestamp | datetime64[ns] |             0 |               0 |          4 |           0.32 | 2022-04-01 00:00:00 | 2022-07-01 00:00:00 |\n",
      "| NOX             | float64        |             0 |               0 |         81 |           6.4  | 0.385               | 0.871               |\n",
      "| load_dt         | category       |             0 |               0 |          4 |           0.32 | 2022-07-01          | 2022-04-01          |\n",
      "\n",
      "\n",
      "row: 1265, col: 4\n"
     ]
    }
   ],
   "source": [
    "hc.summary(toxic_df)"
   ]
  },
  {
   "cell_type": "markdown",
   "id": "51b1211b-6e26-4229-8597-0b185a4ddf55",
   "metadata": {},
   "source": [
    "# monetary"
   ]
  },
  {
   "cell_type": "code",
   "execution_count": 81,
   "id": "4895640c-6c86-4d1d-a39d-7835d049242c",
   "metadata": {},
   "outputs": [
    {
     "data": {
      "text/html": [
       "<div>\n",
       "<style scoped>\n",
       "    .dataframe tbody tr th:only-of-type {\n",
       "        vertical-align: middle;\n",
       "    }\n",
       "\n",
       "    .dataframe tbody tr th {\n",
       "        vertical-align: top;\n",
       "    }\n",
       "\n",
       "    .dataframe thead th {\n",
       "        text-align: right;\n",
       "    }\n",
       "</style>\n",
       "<table border=\"1\" class=\"dataframe\">\n",
       "  <thead>\n",
       "    <tr style=\"text-align: right;\">\n",
       "      <th></th>\n",
       "      <th>house_id</th>\n",
       "      <th>event_timestamp</th>\n",
       "      <th>TAX</th>\n",
       "      <th>load_dt</th>\n",
       "    </tr>\n",
       "  </thead>\n",
       "  <tbody>\n",
       "    <tr>\n",
       "      <th>0</th>\n",
       "      <td>1</td>\n",
       "      <td>2022-04-01</td>\n",
       "      <td>296.0</td>\n",
       "      <td>2022-04-01</td>\n",
       "    </tr>\n",
       "    <tr>\n",
       "      <th>1</th>\n",
       "      <td>2</td>\n",
       "      <td>2022-04-01</td>\n",
       "      <td>242.0</td>\n",
       "      <td>2022-04-01</td>\n",
       "    </tr>\n",
       "    <tr>\n",
       "      <th>2</th>\n",
       "      <td>3</td>\n",
       "      <td>2022-04-01</td>\n",
       "      <td>242.0</td>\n",
       "      <td>2022-04-01</td>\n",
       "    </tr>\n",
       "    <tr>\n",
       "      <th>3</th>\n",
       "      <td>4</td>\n",
       "      <td>2022-04-01</td>\n",
       "      <td>222.0</td>\n",
       "      <td>2022-04-01</td>\n",
       "    </tr>\n",
       "    <tr>\n",
       "      <th>4</th>\n",
       "      <td>5</td>\n",
       "      <td>2022-04-01</td>\n",
       "      <td>222.0</td>\n",
       "      <td>2022-04-01</td>\n",
       "    </tr>\n",
       "  </tbody>\n",
       "</table>\n",
       "</div>"
      ],
      "text/plain": [
       "   house_id event_timestamp    TAX     load_dt\n",
       "0         1      2022-04-01  296.0  2022-04-01\n",
       "1         2      2022-04-01  242.0  2022-04-01\n",
       "2         3      2022-04-01  242.0  2022-04-01\n",
       "3         4      2022-04-01  222.0  2022-04-01\n",
       "4         5      2022-04-01  222.0  2022-04-01"
      ]
     },
     "execution_count": 81,
     "metadata": {},
     "output_type": "execute_result"
    }
   ],
   "source": [
    "monetary_df = dxtr.extract_landing(feature_grp=\"monetary\")\n",
    "monetary_df.head()"
   ]
  },
  {
   "cell_type": "code",
   "execution_count": 82,
   "id": "ade4567a-0ff4-43ff-ba55-a5041f9d93d5",
   "metadata": {},
   "outputs": [
    {
     "name": "stdout",
     "output_type": "stream",
     "text": [
      "|                 | dtype          |   cnt_missing |   ratio_missing |   n_unique |   ratio_unique | least               | most                |\n",
      "|:----------------|:---------------|--------------:|----------------:|-----------:|---------------:|:--------------------|:--------------------|\n",
      "| house_id        | int64          |             0 |               0 |        506 |          40    | 1.0                 | 506.0               |\n",
      "| event_timestamp | datetime64[ns] |             0 |               0 |          4 |           0.32 | 2022-04-01 00:00:00 | 2022-07-01 00:00:00 |\n",
      "| TAX             | float64        |             0 |               0 |         66 |           5.22 | 187.0               | 711.0               |\n",
      "| load_dt         | category       |             0 |               0 |          4 |           0.32 | 2022-07-01          | 2022-04-01          |\n",
      "\n",
      "\n",
      "row: 1265, col: 4\n"
     ]
    }
   ],
   "source": [
    "hc.summary(monetary_df)"
   ]
  },
  {
   "cell_type": "markdown",
   "id": "5c142327-525c-4a67-b1b4-ac9352174f34",
   "metadata": {},
   "source": [
    "# Plan  \n",
    "\n",
    "Since the purpose of this project is to demonstrate how the whole pipeline works,  \n",
    "I would use a pass-through method in stages including clean, aggregate, and join"
   ]
  }
 ],
 "metadata": {
  "kernelspec": {
   "display_name": "Python 3",
   "language": "python",
   "name": "python3"
  },
  "language_info": {
   "codemirror_mode": {
    "name": "ipython",
    "version": 3
   },
   "file_extension": ".py",
   "mimetype": "text/x-python",
   "name": "python",
   "nbconvert_exporter": "python",
   "pygments_lexer": "ipython3",
   "version": "3.9.12"
  }
 },
 "nbformat": 4,
 "nbformat_minor": 5
}
