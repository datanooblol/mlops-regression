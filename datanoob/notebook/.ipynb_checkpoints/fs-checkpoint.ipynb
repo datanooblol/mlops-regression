{
 "cells": [
  {
   "cell_type": "code",
   "execution_count": 1,
   "id": "11e42824-e60d-42b0-bdb8-ca2f69ca219d",
   "metadata": {},
   "outputs": [],
   "source": [
    "%load_ext autoreload\n",
    "%autoreload 2"
   ]
  },
  {
   "cell_type": "code",
   "execution_count": 1,
   "id": "06e5d356-ce3f-4da9-9021-01e6087a25c6",
   "metadata": {},
   "outputs": [
    {
     "name": "stderr",
     "output_type": "stream",
     "text": [
      "/opt/conda/lib/python3.9/site-packages/feast/feature_store.py:1115: RuntimeWarning: Saving dataset is an experimental feature. This API is unstable and it could and most probably will be changed in the future. We do not guarantee that future changes will maintain backward compatibility.\n",
      "  warnings.warn(\n"
     ]
    },
    {
     "name": "stdout",
     "output_type": "stream",
     "text": [
      "Materializing \u001b[1m\u001b[32m5\u001b[0m feature views from \u001b[1m\u001b[32m2020-08-17 20:05:47+00:00\u001b[0m to \u001b[1m\u001b[32m2022-07-18 20:05:47+00:00\u001b[0m into the \u001b[1m\u001b[32msqlite\u001b[0m online store.\n",
      "\n",
      "\u001b[1m\u001b[32mgeography\u001b[0m:\n"
     ]
    },
    {
     "name": "stderr",
     "output_type": "stream",
     "text": [
      "100%|██████████████████████████████████████████████████████████| 506/506 [00:00<00:00, 10226.81it/s]\n"
     ]
    },
    {
     "name": "stdout",
     "output_type": "stream",
     "text": [
      "\u001b[1m\u001b[32mmonetary\u001b[0m:\n"
     ]
    },
    {
     "name": "stderr",
     "output_type": "stream",
     "text": [
      "100%|██████████████████████████████████████████████████████████| 506/506 [00:00<00:00, 16767.67it/s]\n"
     ]
    },
    {
     "name": "stdout",
     "output_type": "stream",
     "text": [
      "\u001b[1m\u001b[32mproportion\u001b[0m:\n"
     ]
    },
    {
     "name": "stderr",
     "output_type": "stream",
     "text": [
      "100%|███████████████████████████████████████████████████████████| 506/506 [00:00<00:00, 6780.22it/s]\n"
     ]
    },
    {
     "name": "stdout",
     "output_type": "stream",
     "text": [
      "\u001b[1m\u001b[32mtarget\u001b[0m:\n"
     ]
    },
    {
     "name": "stderr",
     "output_type": "stream",
     "text": [
      "100%|██████████████████████████████████████████████████████████| 506/506 [00:00<00:00, 10013.63it/s]\n"
     ]
    },
    {
     "name": "stdout",
     "output_type": "stream",
     "text": [
      "\u001b[1m\u001b[32mtoxic\u001b[0m:\n"
     ]
    },
    {
     "name": "stderr",
     "output_type": "stream",
     "text": [
      "100%|██████████████████████████████████████████████████████████| 506/506 [00:00<00:00, 17366.16it/s]\n"
     ]
    },
    {
     "name": "stdout",
     "output_type": "stream",
     "text": [
      "Materializing \u001b[1m\u001b[32m5\u001b[0m feature views to \u001b[1m\u001b[32m2022-07-18 20:05:48+00:00\u001b[0m into the \u001b[1m\u001b[32msqlite\u001b[0m online store.\n",
      "\n",
      "\u001b[1m\u001b[32mgeography\u001b[0m from \u001b[1m\u001b[32m2022-07-18 20:05:47+00:00\u001b[0m to \u001b[1m\u001b[32m2022-07-18 20:05:48+00:00\u001b[0m:\n"
     ]
    },
    {
     "name": "stderr",
     "output_type": "stream",
     "text": [
      "0it [00:00, ?it/s]\n"
     ]
    },
    {
     "name": "stdout",
     "output_type": "stream",
     "text": [
      "\u001b[1m\u001b[32mmonetary\u001b[0m from \u001b[1m\u001b[32m2022-07-18 20:05:47+00:00\u001b[0m to \u001b[1m\u001b[32m2022-07-18 20:05:48+00:00\u001b[0m:\n"
     ]
    },
    {
     "name": "stderr",
     "output_type": "stream",
     "text": [
      "0it [00:00, ?it/s]\n"
     ]
    },
    {
     "name": "stdout",
     "output_type": "stream",
     "text": [
      "\u001b[1m\u001b[32mproportion\u001b[0m from \u001b[1m\u001b[32m2022-07-18 20:05:47+00:00\u001b[0m to \u001b[1m\u001b[32m2022-07-18 20:05:48+00:00\u001b[0m:\n"
     ]
    },
    {
     "name": "stderr",
     "output_type": "stream",
     "text": [
      "0it [00:00, ?it/s]\n"
     ]
    },
    {
     "name": "stdout",
     "output_type": "stream",
     "text": [
      "\u001b[1m\u001b[32mtarget\u001b[0m from \u001b[1m\u001b[32m2022-07-18 20:05:47+00:00\u001b[0m to \u001b[1m\u001b[32m2022-07-18 20:05:48+00:00\u001b[0m:\n"
     ]
    },
    {
     "name": "stderr",
     "output_type": "stream",
     "text": [
      "0it [00:00, ?it/s]\n"
     ]
    },
    {
     "name": "stdout",
     "output_type": "stream",
     "text": [
      "\u001b[1m\u001b[32mtoxic\u001b[0m from \u001b[1m\u001b[32m2022-07-18 20:05:47+00:00\u001b[0m to \u001b[1m\u001b[32m2022-07-18 20:05:48+00:00\u001b[0m:\n"
     ]
    },
    {
     "name": "stderr",
     "output_type": "stream",
     "text": [
      "0it [00:00, ?it/s]\n"
     ]
    }
   ],
   "source": [
    "from datanooblol.feature_store.feature_manager import FeatureStoreRegister\n",
    "\n",
    "fs_register = FeatureStoreRegister()\n",
    "fs_register.register\n",
    "fs_register.create_dataset\n",
    "fs_register.materialize\n",
    "fs_register.materialize_incremental"
   ]
  },
  {
   "cell_type": "code",
   "execution_count": 2,
   "id": "17003e0f-e990-4bd8-8051-107f597ce402",
   "metadata": {},
   "outputs": [
    {
     "data": {
      "text/html": [
       "<div>\n",
       "<style scoped>\n",
       "    .dataframe tbody tr th:only-of-type {\n",
       "        vertical-align: middle;\n",
       "    }\n",
       "\n",
       "    .dataframe tbody tr th {\n",
       "        vertical-align: top;\n",
       "    }\n",
       "\n",
       "    .dataframe thead th {\n",
       "        text-align: right;\n",
       "    }\n",
       "</style>\n",
       "<table border=\"1\" class=\"dataframe\">\n",
       "  <thead>\n",
       "    <tr style=\"text-align: right;\">\n",
       "      <th></th>\n",
       "      <th>house_id</th>\n",
       "      <th>RAD</th>\n",
       "      <th>DIS</th>\n",
       "      <th>CHAS</th>\n",
       "      <th>TAX</th>\n",
       "      <th>ZN</th>\n",
       "      <th>RM</th>\n",
       "      <th>PTRATIO</th>\n",
       "      <th>B</th>\n",
       "      <th>LSTAT</th>\n",
       "      <th>INDUS</th>\n",
       "      <th>NOX</th>\n",
       "    </tr>\n",
       "  </thead>\n",
       "  <tbody>\n",
       "    <tr>\n",
       "      <th>0</th>\n",
       "      <td>2</td>\n",
       "      <td>2</td>\n",
       "      <td>4.9671</td>\n",
       "      <td>0</td>\n",
       "      <td>242.0</td>\n",
       "      <td>0.0</td>\n",
       "      <td>6.421</td>\n",
       "      <td>17.8</td>\n",
       "      <td>396.90</td>\n",
       "      <td>9.14</td>\n",
       "      <td>7.07</td>\n",
       "      <td>0.469</td>\n",
       "    </tr>\n",
       "    <tr>\n",
       "      <th>1</th>\n",
       "      <td>345</td>\n",
       "      <td>5</td>\n",
       "      <td>6.4654</td>\n",
       "      <td>0</td>\n",
       "      <td>370.0</td>\n",
       "      <td>55.0</td>\n",
       "      <td>6.874</td>\n",
       "      <td>17.6</td>\n",
       "      <td>387.97</td>\n",
       "      <td>4.61</td>\n",
       "      <td>3.78</td>\n",
       "      <td>0.484</td>\n",
       "    </tr>\n",
       "    <tr>\n",
       "      <th>2</th>\n",
       "      <td>354</td>\n",
       "      <td>5</td>\n",
       "      <td>12.1265</td>\n",
       "      <td>0</td>\n",
       "      <td>187.0</td>\n",
       "      <td>90.0</td>\n",
       "      <td>6.728</td>\n",
       "      <td>17.0</td>\n",
       "      <td>384.46</td>\n",
       "      <td>4.50</td>\n",
       "      <td>2.02</td>\n",
       "      <td>0.410</td>\n",
       "    </tr>\n",
       "  </tbody>\n",
       "</table>\n",
       "</div>"
      ],
      "text/plain": [
       "   house_id  RAD      DIS  CHAS    TAX    ZN     RM  PTRATIO       B  LSTAT  \\\n",
       "0         2    2   4.9671     0  242.0   0.0  6.421     17.8  396.90   9.14   \n",
       "1       345    5   6.4654     0  370.0  55.0  6.874     17.6  387.97   4.61   \n",
       "2       354    5  12.1265     0  187.0  90.0  6.728     17.0  384.46   4.50   \n",
       "\n",
       "   INDUS    NOX  \n",
       "0   7.07  0.469  \n",
       "1   3.78  0.484  \n",
       "2   2.02  0.410  "
      ]
     },
     "execution_count": 2,
     "metadata": {},
     "output_type": "execute_result"
    }
   ],
   "source": [
    "entity_list_dict = [{\"house_id\":2},{\"house_id\":345},{\"house_id\":354}]\n",
    "fs_register.get_online_features(entity_list_dict=entity_list_dict)"
   ]
  },
  {
   "cell_type": "code",
   "execution_count": 3,
   "id": "eac90380-fe7b-42bd-996e-a8d6b2ee3e0a",
   "metadata": {},
   "outputs": [
    {
     "data": {
      "text/html": [
       "<div>\n",
       "<style scoped>\n",
       "    .dataframe tbody tr th:only-of-type {\n",
       "        vertical-align: middle;\n",
       "    }\n",
       "\n",
       "    .dataframe tbody tr th {\n",
       "        vertical-align: top;\n",
       "    }\n",
       "\n",
       "    .dataframe thead th {\n",
       "        text-align: right;\n",
       "    }\n",
       "</style>\n",
       "<table border=\"1\" class=\"dataframe\">\n",
       "  <thead>\n",
       "    <tr style=\"text-align: right;\">\n",
       "      <th></th>\n",
       "      <th>house_id</th>\n",
       "      <th>event_timestamp</th>\n",
       "      <th>MEDV</th>\n",
       "      <th>load_dt</th>\n",
       "      <th>CHAS</th>\n",
       "      <th>DIS</th>\n",
       "      <th>RAD</th>\n",
       "      <th>TAX</th>\n",
       "      <th>B</th>\n",
       "      <th>INDUS</th>\n",
       "      <th>LSTAT</th>\n",
       "      <th>PTRATIO</th>\n",
       "      <th>RM</th>\n",
       "      <th>ZN</th>\n",
       "      <th>NOX</th>\n",
       "    </tr>\n",
       "  </thead>\n",
       "  <tbody>\n",
       "    <tr>\n",
       "      <th>1509</th>\n",
       "      <td>2</td>\n",
       "      <td>2022-04-01 00:00:00+00:00</td>\n",
       "      <td>21.6</td>\n",
       "      <td>2022-04-01</td>\n",
       "      <td>0</td>\n",
       "      <td>4.9671</td>\n",
       "      <td>2</td>\n",
       "      <td>242.0</td>\n",
       "      <td>396.90</td>\n",
       "      <td>7.07</td>\n",
       "      <td>9.14</td>\n",
       "      <td>17.8</td>\n",
       "      <td>6.421</td>\n",
       "      <td>0.0</td>\n",
       "      <td>0.469</td>\n",
       "    </tr>\n",
       "    <tr>\n",
       "      <th>123</th>\n",
       "      <td>345</td>\n",
       "      <td>2022-04-01 00:00:00+00:00</td>\n",
       "      <td>31.2</td>\n",
       "      <td>2022-04-01</td>\n",
       "      <td>0</td>\n",
       "      <td>6.4654</td>\n",
       "      <td>5</td>\n",
       "      <td>370.0</td>\n",
       "      <td>387.97</td>\n",
       "      <td>3.78</td>\n",
       "      <td>4.61</td>\n",
       "      <td>17.6</td>\n",
       "      <td>6.874</td>\n",
       "      <td>55.0</td>\n",
       "      <td>0.484</td>\n",
       "    </tr>\n",
       "    <tr>\n",
       "      <th>120</th>\n",
       "      <td>354</td>\n",
       "      <td>2022-04-01 00:00:00+00:00</td>\n",
       "      <td>30.1</td>\n",
       "      <td>2022-04-01</td>\n",
       "      <td>0</td>\n",
       "      <td>12.1265</td>\n",
       "      <td>5</td>\n",
       "      <td>187.0</td>\n",
       "      <td>384.46</td>\n",
       "      <td>2.02</td>\n",
       "      <td>4.50</td>\n",
       "      <td>17.0</td>\n",
       "      <td>6.728</td>\n",
       "      <td>90.0</td>\n",
       "      <td>0.410</td>\n",
       "    </tr>\n",
       "  </tbody>\n",
       "</table>\n",
       "</div>"
      ],
      "text/plain": [
       "      house_id           event_timestamp  MEDV     load_dt  CHAS      DIS  \\\n",
       "1509         2 2022-04-01 00:00:00+00:00  21.6  2022-04-01     0   4.9671   \n",
       "123        345 2022-04-01 00:00:00+00:00  31.2  2022-04-01     0   6.4654   \n",
       "120        354 2022-04-01 00:00:00+00:00  30.1  2022-04-01     0  12.1265   \n",
       "\n",
       "      RAD    TAX       B  INDUS  LSTAT  PTRATIO     RM    ZN    NOX  \n",
       "1509    2  242.0  396.90   7.07   9.14     17.8  6.421   0.0  0.469  \n",
       "123     5  370.0  387.97   3.78   4.61     17.6  6.874  55.0  0.484  \n",
       "120     5  187.0  384.46   2.02   4.50     17.0  6.728  90.0  0.410  "
      ]
     },
     "execution_count": 3,
     "metadata": {},
     "output_type": "execute_result"
    }
   ],
   "source": [
    "import pandas as pd\n",
    "test_df = pd.read_parquet(\"../repository/metadata/reference/mlops_regression_dataset.parquet\")\n",
    "\n",
    "test_df.loc[test_df[\"house_id\"].isin([2,345,354])]"
   ]
  },
  {
   "cell_type": "code",
   "execution_count": null,
   "id": "48fd0922-9df9-45a1-a944-d7295944c677",
   "metadata": {},
   "outputs": [],
   "source": []
  }
 ],
 "metadata": {
  "kernelspec": {
   "display_name": "Python 3 (ipykernel)",
   "language": "python",
   "name": "python3"
  },
  "language_info": {
   "codemirror_mode": {
    "name": "ipython",
    "version": 3
   },
   "file_extension": ".py",
   "mimetype": "text/x-python",
   "name": "python",
   "nbconvert_exporter": "python",
   "pygments_lexer": "ipython3",
   "version": "3.9.12"
  }
 },
 "nbformat": 4,
 "nbformat_minor": 5
}
