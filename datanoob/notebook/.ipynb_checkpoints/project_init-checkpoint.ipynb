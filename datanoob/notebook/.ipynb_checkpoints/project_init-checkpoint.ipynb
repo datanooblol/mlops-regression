{
 "cells": [
  {
   "cell_type": "code",
   "execution_count": 2,
   "id": "d5c6e8d2-b380-4bca-a2a1-7b70b3111ceb",
   "metadata": {},
   "outputs": [
    {
     "name": "stdout",
     "output_type": "stream",
     "text": [
      "The autoreload extension is already loaded. To reload it, use:\n",
      "  %reload_ext autoreload\n"
     ]
    }
   ],
   "source": [
    "%load_ext autoreload\n",
    "%autoreload 2"
   ]
  },
  {
   "cell_type": "code",
   "execution_count": 8,
   "id": "6b3825bd-9a15-4393-bf95-0d35a7585fbf",
   "metadata": {},
   "outputs": [],
   "source": [
    "import os\n",
    "from datanooblol.configuration.config_manager import LoadScriptConfig"
   ]
  },
  {
   "cell_type": "code",
   "execution_count": 6,
   "id": "71700e67-8618-471e-98c0-7ca0f8273957",
   "metadata": {},
   "outputs": [],
   "source": [
    "script_cfg = LoadScriptConfig()"
   ]
  },
  {
   "cell_type": "markdown",
   "id": "479a7499-ecda-451c-9860-d4f6683fb665",
   "metadata": {},
   "source": [
    "# Project initialize"
   ]
  },
  {
   "cell_type": "code",
   "execution_count": 172,
   "id": "8a15b595-c316-406f-a93f-e8d3c7b25f75",
   "metadata": {},
   "outputs": [
    {
     "data": {
      "text/plain": [
       "0"
      ]
     },
     "execution_count": 172,
     "metadata": {},
     "output_type": "execute_result"
    }
   ],
   "source": [
    "command = f\"python {script_cfg.PROJECT_INIT}\"\n",
    "os.system(command)"
   ]
  },
  {
   "cell_type": "markdown",
   "id": "38a56466-bee3-4ecc-b944-9209ea4cf687",
   "metadata": {},
   "source": [
    "# Update and Generate Document"
   ]
  },
  {
   "cell_type": "code",
   "execution_count": 12,
   "id": "a5837a01-75ab-49fe-96c4-49b912c3a5a4",
   "metadata": {},
   "outputs": [
    {
     "data": {
      "text/plain": [
       "0"
      ]
     },
     "execution_count": 12,
     "metadata": {},
     "output_type": "execute_result"
    }
   ],
   "source": [
    "command = f\"python {script_cfg.GENERATE_DOC}\"\n",
    "os.system(command)"
   ]
  },
  {
   "cell_type": "code",
   "execution_count": null,
   "id": "591a6a03-1d11-43f8-a6b3-4df51cfe4bd4",
   "metadata": {},
   "outputs": [],
   "source": []
  }
 ],
 "metadata": {
  "kernelspec": {
   "display_name": "Python 3",
   "language": "python",
   "name": "python3"
  },
  "language_info": {
   "codemirror_mode": {
    "name": "ipython",
    "version": 3
   },
   "file_extension": ".py",
   "mimetype": "text/x-python",
   "name": "python",
   "nbconvert_exporter": "python",
   "pygments_lexer": "ipython3",
   "version": "3.9.12"
  }
 },
 "nbformat": 4,
 "nbformat_minor": 5
}
